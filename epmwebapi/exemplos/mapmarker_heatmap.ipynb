{
 "cells": [
  {
   "cell_type": "markdown",
   "metadata": {},
   "source": [
    "### Trabalhando com mapas interativos e mapas de calor\n",
    "Para esse exemplo vamos utilizar a biblioteca **Folium**, que de forma simples, utiliza a API gratuita de mapas **Leaflet**. E a biblioteca **geopy** para, a partir de um endereço, localizar  a latitude e longitude para inserir pontos no mapa."
   ]
  },
  {
   "cell_type": "code",
   "execution_count": null,
   "metadata": {},
   "outputs": [],
   "source": [
    "# se ainda não possui a biblioteca Folium e Geopy, instale executando esse comando a partir do próprio Jupyter Notebook.\n",
    "import sys\n",
    "!{sys.executable} -m pip install folium geopy"
   ]
  },
  {
   "cell_type": "code",
   "execution_count": 1,
   "metadata": {},
   "outputs": [],
   "source": [
    "#importando as bibliotecas que serão utilizadas\n",
    "import epmwebapi as epm\n",
    "from epmwebapi.dataobjectattributes import DataObjectAttributes\n",
    "from epmwebapi.dataobjectsfilter import DataObjectsFilter\n",
    "from epmwebapi.dataobjectsfilter import DataObjectsFilterType\n",
    "from epmwebapi.domainfilter import DomainFilter\n",
    "import datetime\n",
    "import folium\n",
    "from geopy.geocoders import Nominatim\n",
    "import getpass\n",
    "import pandas as pd"
   ]
  },
  {
   "cell_type": "markdown",
   "metadata": {},
   "source": [
    "**Exemplo 1**\n",
    "\n",
    "Adicionando localização, zoom inicial e marcador no mapa."
   ]
  },
  {
   "cell_type": "code",
   "execution_count": 12,
   "metadata": {},
   "outputs": [
    {
     "data": {
      "text/html": [
       "<div style=\"width:100%;\"><div style=\"position:relative;width:100%;height:0;padding-bottom:60%;\"><iframe src=\"data:text/html;charset=utf-8;base64,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\" style=\"position:absolute;width:100%;height:100%;left:0;top:0;border:none !important;\" allowfullscreen webkitallowfullscreen mozallowfullscreen></iframe></div></div>"
      ],
      "text/plain": [
       "<folium.folium.Map at 0x2bc2e6a3278>"
      ]
     },
     "execution_count": 12,
     "metadata": {},
     "output_type": "execute_result"
    }
   ],
   "source": [
    "mapa = folium.Map(location=[-25.4284,-49.879873],zoom_start=7)\n",
    "folium.Marker([-25.4284,-49.2733], popup='Curitiba').add_to(mapa)\n",
    "mapa"
   ]
  },
  {
   "cell_type": "markdown",
   "metadata": {},
   "source": [
    "**Exemplo 2**\n",
    "\n",
    "Utilizando o Elipse DataModel foram criadas variáveis no EPM para armazenar a localização de objetos modelados no sistema SCADA(E3) que controla o sistema de ar condicionado das filiais da Elipse. O nome dessa variável é \"Location\".\n",
    "Através da epmwebapi vamos localizar essas variáveis e mostrar no mapa a localização cadastrada. \n"
   ]
  },
  {
   "cell_type": "code",
   "execution_count": 3,
   "metadata": {
    "scrolled": true
   },
   "outputs": [
    {
     "name": "stdout",
     "output_type": "stream",
     "text": [
      "EPM user:sa\n",
      "EPM password:········\n"
     ]
    }
   ],
   "source": [
    "#Conexão ao EPM Server\n",
    "user = input('EPM user:')\n",
    "password = getpass.getpass(\"EPM password:\")\n",
    "#crie o objeto de conexão informando os endereços do EPM Webserver(Authentication Port e WEB API Port), usuário e senha.\n",
    "connection = epm.EpmConnection('http://localhost:44333', 'http://localhost:44332', user, password)"
   ]
  },
  {
   "cell_type": "markdown",
   "metadata": {},
   "source": [
    "**Busca da variável \"Location\"**\n",
    "\n",
    "Aqui faremos uma busca pela estrutura de dados criada pelo Elipse DataModel e retornaremos o valor da propriedade Location de cada uma das filiais."
   ]
  },
  {
   "cell_type": "code",
   "execution_count": 4,
   "metadata": {},
   "outputs": [
    {
     "data": {
      "text/plain": [
       "['Rua 24 de Outubro, 353, Porto Alegre - RS, Brasil',\n",
       " 'Av. Sete de Setembro, 4698, Curitiba - PR, Brasil',\n",
       " 'Rua dos Pinheiros, 870, São Paulo - SP, Brasil',\n",
       " 'Rua Antônio de Albuquerque, 156, Belo Horizonte - MG, Brasil',\n",
       " 'Av. José Silva de Azevedo Neto, 200, Rio de Janeiro - RJ, Brasil']"
      ]
     },
     "execution_count": 4,
     "metadata": {},
     "output_type": "execute_result"
    }
   ],
   "source": [
    "basePath = '/Models/ElipseDataModel/DataModel/Elipse/'\n",
    "filiais = ['[Elipse-RS]','[Elipse-PR]','[Elipse-SP]','[Elipse-MG]','[Elipse-RJ]']\n",
    "\n",
    "locations = []\n",
    "for filial in filiais:\n",
    "    path = basePath + filial\n",
    "    local = connection.getObjects([path])\n",
    "    obj = list(local.values())[0]\n",
    "    v = list(obj.enumProperties().values())[0]\n",
    "    data = v.read()\n",
    "    locations.append(data.value)\n",
    "locations"
   ]
  },
  {
   "cell_type": "markdown",
   "metadata": {},
   "source": [
    "**Convertendo o endereço em geolocalização usando a biblioteca geopy e adicionando marcadores ao mapa**"
   ]
  },
  {
   "cell_type": "code",
   "execution_count": 9,
   "metadata": {
    "scrolled": true
   },
   "outputs": [
    {
     "name": "stdout",
     "output_type": "stream",
     "text": [
      "(-30.0273301, -51.2039534)\n",
      "(-25.4440481, -49.2839448)\n",
      "(-23.5669455, -46.6862311)\n",
      "(-19.9395084, -43.9302112)\n",
      "(-22.9866285, -43.3603174)\n"
     ]
    },
    {
     "data": {
      "text/html": [
       "<div style=\"width:100%;\"><div style=\"position:relative;width:100%;height:0;padding-bottom:60%;\"><iframe src=\"data:text/html;charset=utf-8;base64,PCFET0NUWVBFIGh0bWw+CjxoZWFkPiAgICAKICAgIDxtZXRhIGh0dHAtZXF1aXY9ImNvbnRlbnQtdHlwZSIgY29udGVudD0idGV4dC9odG1sOyBjaGFyc2V0PVVURi04IiAvPgogICAgPHNjcmlwdD5MX1BSRUZFUl9DQU5WQVM9ZmFsc2U7IExfTk9fVE9VQ0g9ZmFsc2U7IExfRElTQUJMRV8zRD1mYWxzZTs8L3NjcmlwdD4KICAgIDxzY3JpcHQgc3JjPSJodHRwczovL2Nkbi5qc2RlbGl2ci5uZXQvbnBtL2xlYWZsZXRAMS4yLjAvZGlzdC9sZWFmbGV0LmpzIj48L3NjcmlwdD4KICAgIDxzY3JpcHQgc3JjPSJodHRwczovL2FqYXguZ29vZ2xlYXBpcy5jb20vYWpheC9saWJzL2pxdWVyeS8xLjExLjEvanF1ZXJ5Lm1pbi5qcyI+PC9zY3JpcHQ+CiAgICA8c2NyaXB0IHNyYz0iaHR0cHM6Ly9tYXhjZG4uYm9vdHN0cmFwY2RuLmNvbS9ib290c3RyYXAvMy4yLjAvanMvYm9vdHN0cmFwLm1pbi5qcyI+PC9zY3JpcHQ+CiAgICA8c2NyaXB0IHNyYz0iaHR0cHM6Ly9jZG5qcy5jbG91ZGZsYXJlLmNvbS9hamF4L2xpYnMvTGVhZmxldC5hd2Vzb21lLW1hcmtlcnMvMi4wLjIvbGVhZmxldC5hd2Vzb21lLW1hcmtlcnMuanMiPjwvc2NyaXB0PgogICAgPGxpbmsgcmVsPSJzdHlsZXNoZWV0IiBocmVmPSJodHRwczovL2Nkbi5qc2RlbGl2ci5uZXQvbnBtL2xlYWZsZXRAMS4yLjAvZGlzdC9sZWFmbGV0LmNzcyIvPgogICAgPGxpbmsgcmVsPSJzdHlsZXNoZWV0IiBocmVmPSJodHRwczovL21heGNkbi5ib290c3RyYXBjZG4uY29tL2Jvb3RzdHJhcC8zLjIuMC9jc3MvYm9vdHN0cmFwLm1pbi5jc3MiLz4KICAgIDxsaW5rIHJlbD0ic3R5bGVzaGVldCIgaHJlZj0iaHR0cHM6Ly9tYXhjZG4uYm9vdHN0cmFwY2RuLmNvbS9ib290c3RyYXAvMy4yLjAvY3NzL2Jvb3RzdHJhcC10aGVtZS5taW4uY3NzIi8+CiAgICA8bGluayByZWw9InN0eWxlc2hlZXQiIGhyZWY9Imh0dHBzOi8vbWF4Y2RuLmJvb3RzdHJhcGNkbi5jb20vZm9udC1hd2Vzb21lLzQuNi4zL2Nzcy9mb250LWF3ZXNvbWUubWluLmNzcyIvPgogICAgPGxpbmsgcmVsPSJzdHlsZXNoZWV0IiBocmVmPSJodHRwczovL2NkbmpzLmNsb3VkZmxhcmUuY29tL2FqYXgvbGlicy9MZWFmbGV0LmF3ZXNvbWUtbWFya2Vycy8yLjAuMi9sZWFmbGV0LmF3ZXNvbWUtbWFya2Vycy5jc3MiLz4KICAgIDxsaW5rIHJlbD0ic3R5bGVzaGVldCIgaHJlZj0iaHR0cHM6Ly9yYXdnaXQuY29tL3B5dGhvbi12aXN1YWxpemF0aW9uL2ZvbGl1bS9tYXN0ZXIvZm9saXVtL3RlbXBsYXRlcy9sZWFmbGV0LmF3ZXNvbWUucm90YXRlLmNzcyIvPgogICAgPHN0eWxlPmh0bWwsIGJvZHkge3dpZHRoOiAxMDAlO2hlaWdodDogMTAwJTttYXJnaW46IDA7cGFkZGluZzogMDt9PC9zdHlsZT4KICAgIDxzdHlsZT4jbWFwIHtwb3NpdGlvbjphYnNvbHV0ZTt0b3A6MDtib3R0b206MDtyaWdodDowO2xlZnQ6MDt9PC9zdHlsZT4KICAgIAogICAgPHN0eWxlPiNtYXBfNDkzNmE1ZTBlYjk4NGYzODg2NDFmZjAyOTFiYzY3YjcgewogICAgICAgIHBvc2l0aW9uOiByZWxhdGl2ZTsKICAgICAgICB3aWR0aDogMTAwLjAlOwogICAgICAgIGhlaWdodDogMTAwLjAlOwogICAgICAgIGxlZnQ6IDAuMCU7CiAgICAgICAgdG9wOiAwLjAlOwogICAgICAgIH0KICAgIDwvc3R5bGU+CjwvaGVhZD4KPGJvZHk+ICAgIAogICAgCiAgICA8ZGl2IGNsYXNzPSJmb2xpdW0tbWFwIiBpZD0ibWFwXzQ5MzZhNWUwZWI5ODRmMzg4NjQxZmYwMjkxYmM2N2I3IiA+PC9kaXY+CjwvYm9keT4KPHNjcmlwdD4gICAgCiAgICAKICAgIAogICAgICAgIHZhciBib3VuZHMgPSBudWxsOwogICAgCgogICAgdmFyIG1hcF80OTM2YTVlMGViOTg0ZjM4ODY0MWZmMDI5MWJjNjdiNyA9IEwubWFwKAogICAgICAgICdtYXBfNDkzNmE1ZTBlYjk4NGYzODg2NDFmZjAyOTFiYzY3YjcnLCB7CiAgICAgICAgY2VudGVyOiBbLTI1LjQyODQsIC00OS44Nzk4NzNdLAogICAgICAgIHpvb206IDUsCiAgICAgICAgbWF4Qm91bmRzOiBib3VuZHMsCiAgICAgICAgbGF5ZXJzOiBbXSwKICAgICAgICB3b3JsZENvcHlKdW1wOiBmYWxzZSwKICAgICAgICBjcnM6IEwuQ1JTLkVQU0czODU3LAogICAgICAgIHpvb21Db250cm9sOiB0cnVlLAogICAgICAgIH0pOwoKICAgIAogICAgCiAgICB2YXIgdGlsZV9sYXllcl8yYzBlM2ZiYTBjMDY0NzFmODMwZjYwZjIwMWJlZTM4MyA9IEwudGlsZUxheWVyKAogICAgICAgICdodHRwczovL3tzfS50aWxlLm9wZW5zdHJlZXRtYXAub3JnL3t6fS97eH0ve3l9LnBuZycsCiAgICAgICAgewogICAgICAgICJhdHRyaWJ1dGlvbiI6IG51bGwsCiAgICAgICAgImRldGVjdFJldGluYSI6IGZhbHNlLAogICAgICAgICJtYXhOYXRpdmVab29tIjogMTgsCiAgICAgICAgIm1heFpvb20iOiAxOCwKICAgICAgICAibWluWm9vbSI6IDAsCiAgICAgICAgIm5vV3JhcCI6IGZhbHNlLAogICAgICAgICJzdWJkb21haW5zIjogImFiYyIKfSkuYWRkVG8obWFwXzQ5MzZhNWUwZWI5ODRmMzg4NjQxZmYwMjkxYmM2N2I3KTsKICAgIAogICAgICAgIHZhciBtYXJrZXJfNTBmN2ExYzU5MDJjNDkwYzgxZjE2MTMwYmY1ODY4ODEgPSBMLm1hcmtlcigKICAgICAgICAgICAgWy0zMC4wMjczMzAxLCAtNTEuMjAzOTUzNF0sCiAgICAgICAgICAgIHsKICAgICAgICAgICAgICAgIGljb246IG5ldyBMLkljb24uRGVmYXVsdCgpCiAgICAgICAgICAgICAgICB9CiAgICAgICAgICAgICkuYWRkVG8obWFwXzQ5MzZhNWUwZWI5ODRmMzg4NjQxZmYwMjkxYmM2N2I3KTsKICAgICAgICAKICAgIAogICAgICAgIHZhciBtYXJrZXJfNTg5NzkyYjBiMDU0NGNlMDk3MGMyOGYyMjg1ZmVhZTMgPSBMLm1hcmtlcigKICAgICAgICAgICAgWy0yNS40NDQwNDgxLCAtNDkuMjgzOTQ0OF0sCiAgICAgICAgICAgIHsKICAgICAgICAgICAgICAgIGljb246IG5ldyBMLkljb24uRGVmYXVsdCgpCiAgICAgICAgICAgICAgICB9CiAgICAgICAgICAgICkuYWRkVG8obWFwXzQ5MzZhNWUwZWI5ODRmMzg4NjQxZmYwMjkxYmM2N2I3KTsKICAgICAgICAKICAgIAogICAgICAgIHZhciBtYXJrZXJfZmE2ZDJiNjE0ZWY4NGUxYjlmYTM3N2MyM2ZjYmM3MjUgPSBMLm1hcmtlcigKICAgICAgICAgICAgWy0yMy41NjY5NDU1LCAtNDYuNjg2MjMxMV0sCiAgICAgICAgICAgIHsKICAgICAgICAgICAgICAgIGljb246IG5ldyBMLkljb24uRGVmYXVsdCgpCiAgICAgICAgICAgICAgICB9CiAgICAgICAgICAgICkuYWRkVG8obWFwXzQ5MzZhNWUwZWI5ODRmMzg4NjQxZmYwMjkxYmM2N2I3KTsKICAgICAgICAKICAgIAogICAgICAgIHZhciBtYXJrZXJfNmMwMWJlNmVlNjQ0NGU0ODkwYzI2ZTU2YmUyZWFiNzQgPSBMLm1hcmtlcigKICAgICAgICAgICAgWy0xOS45Mzk1MDg0LCAtNDMuOTMwMjExMl0sCiAgICAgICAgICAgIHsKICAgICAgICAgICAgICAgIGljb246IG5ldyBMLkljb24uRGVmYXVsdCgpCiAgICAgICAgICAgICAgICB9CiAgICAgICAgICAgICkuYWRkVG8obWFwXzQ5MzZhNWUwZWI5ODRmMzg4NjQxZmYwMjkxYmM2N2I3KTsKICAgICAgICAKICAgIAogICAgICAgIHZhciBtYXJrZXJfMzMzYTY1NmIzNjdjNGQzNWIwMDczNjUyZDI2NGM1NWMgPSBMLm1hcmtlcigKICAgICAgICAgICAgWy0yMi45ODY2Mjg1LCAtNDMuMzYwMzE3NF0sCiAgICAgICAgICAgIHsKICAgICAgICAgICAgICAgIGljb246IG5ldyBMLkljb24uRGVmYXVsdCgpCiAgICAgICAgICAgICAgICB9CiAgICAgICAgICAgICkuYWRkVG8obWFwXzQ5MzZhNWUwZWI5ODRmMzg4NjQxZmYwMjkxYmM2N2I3KTsKICAgICAgICAKPC9zY3JpcHQ+\" style=\"position:absolute;width:100%;height:100%;left:0;top:0;border:none !important;\" allowfullscreen webkitallowfullscreen mozallowfullscreen></iframe></div></div>"
      ],
      "text/plain": [
       "<folium.folium.Map at 0x2bc2e667a58>"
      ]
     },
     "execution_count": 9,
     "metadata": {},
     "output_type": "execute_result"
    }
   ],
   "source": [
    "mapa = folium.Map(location=[-25.4284,-49.879873],zoom_start=5)\n",
    "for local in locations:\n",
    "    geolocator = Nominatim(user_agent=\"example_map\")\n",
    "    location = geolocator.geocode(local)\n",
    "    print((location.latitude, location.longitude))\n",
    "    folium.Marker([location.latitude,location.longitude]).add_to(mapa)\n",
    "    \n",
    "mapa  "
   ]
  },
  {
   "cell_type": "markdown",
   "metadata": {},
   "source": [
    "**Exemplo 3 - Marcações especiais**\n",
    "\n",
    "Inserindo uma tabela de valores no Popup do marcador. Clique para visualizar"
   ]
  },
  {
   "cell_type": "code",
   "execution_count": 22,
   "metadata": {},
   "outputs": [
    {
     "data": {
      "text/html": [
       "<div style=\"width:100%;\"><div style=\"position:relative;width:100%;height:0;padding-bottom:60%;\"><iframe src=\"data:text/html;charset=utf-8;base64,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\" style=\"position:absolute;width:100%;height:100%;left:0;top:0;border:none !important;\" allowfullscreen webkitallowfullscreen mozallowfullscreen></iframe></div></div>"
      ],
      "text/plain": [
       "<folium.folium.Map at 0x2bc2e677da0>"
      ]
     },
     "execution_count": 22,
     "metadata": {},
     "output_type": "execute_result"
    }
   ],
   "source": [
    "\n",
    "#valores demonstração\n",
    "df = pd.DataFrame(data=[['10:00','12.2', '1284'], ['12:00','15.6', '1740'],['14:00','16.0','1790']], columns=['Timestamp','WindSpeed', 'Power'])\n",
    "\n",
    "html = df.to_html(classes='table table-striped table-hover table-condensed table-responsive')\n",
    "popup = folium.Popup(html)\n",
    "\n",
    "mapa = folium.Map(location=[37.20,140.02],zoom_start=11)\n",
    "\n",
    "folium.Marker([37.20,140.02], popup=popup).add_to(mapa)\n",
    "    \n",
    "mapa \n"
   ]
  }
 ],
 "metadata": {
  "kernelspec": {
   "display_name": "Python 3",
   "language": "python",
   "name": "python3"
  },
  "language_info": {
   "codemirror_mode": {
    "name": "ipython",
    "version": 3
   },
   "file_extension": ".py",
   "mimetype": "text/x-python",
   "name": "python",
   "nbconvert_exporter": "python",
   "pygments_lexer": "ipython3",
   "version": "3.6.6"
  }
 },
 "nbformat": 4,
 "nbformat_minor": 2
}
