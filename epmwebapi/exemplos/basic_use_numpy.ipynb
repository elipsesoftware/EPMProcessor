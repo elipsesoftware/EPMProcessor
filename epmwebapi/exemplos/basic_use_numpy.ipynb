{
 "cells": [
  {
   "cell_type": "code",
   "execution_count": 1,
   "metadata": {},
   "outputs": [],
   "source": [
    "import epmwebapi as epm\n",
    "import numpy as np\n",
    "import datetime\n",
    "\n",
    "#crie o objeto de conexão informando os endereços do EPM Webserver(Authentication Port e WEB API Port), usuário e senha.\n",
    "connection = epm.EpmConnection('http://localhost:44333', 'http://localhost:44332', 'sa', 'psw')\n",
    "\n",
    "bvname = 'ADM_Temperature'\n",
    "\n",
    "bv = connection.getDataObjects([bvname])\n",
    "\n",
    "end_date = datetime.datetime.now()\n",
    "ini_date= end_date - datetime.timedelta(hours=1)\n",
    "queryPeriod = epm.QueryPeriod(ini_date,end_date)\n",
    "\n",
    "data = bv[bvname].historyReadRaw(queryPeriod)"
   ]
  },
  {
   "cell_type": "code",
   "execution_count": 2,
   "metadata": {},
   "outputs": [
    {
     "name": "stdout",
     "output_type": "stream",
     "text": [
      "[(24.7, datetime.datetime(2018, 10, 11, 12, 48, 39, tzinfo=datetime.timezone.utc), 0)\n",
      " (24.8, datetime.datetime(2018, 10, 11, 12, 50, 39, tzinfo=datetime.timezone.utc), 0)\n",
      " (24.9, datetime.datetime(2018, 10, 11, 12, 54, 39, tzinfo=datetime.timezone.utc), 0)\n",
      " (25. , datetime.datetime(2018, 10, 11, 12, 59, 19, tzinfo=datetime.timezone.utc), 0)\n",
      " (25.1, datetime.datetime(2018, 10, 11, 13, 3, 19, tzinfo=datetime.timezone.utc), 0)\n",
      " (25.2, datetime.datetime(2018, 10, 11, 13, 8, 39, tzinfo=datetime.timezone.utc), 0)\n",
      " (25.1, datetime.datetime(2018, 10, 11, 13, 11, 19, tzinfo=datetime.timezone.utc), 0)\n",
      " (25. , datetime.datetime(2018, 10, 11, 13, 13, 19, tzinfo=datetime.timezone.utc), 0)\n",
      " (24.9, datetime.datetime(2018, 10, 11, 13, 13, 59, tzinfo=datetime.timezone.utc), 0)\n",
      " (24.8, datetime.datetime(2018, 10, 11, 13, 14, 59, tzinfo=datetime.timezone.utc), 0)\n",
      " (24.7, datetime.datetime(2018, 10, 11, 13, 15, 59, tzinfo=datetime.timezone.utc), 0)\n",
      " (24.6, datetime.datetime(2018, 10, 11, 13, 16, 59, tzinfo=datetime.timezone.utc), 0)\n",
      " (24.5, datetime.datetime(2018, 10, 11, 13, 17, 59, tzinfo=datetime.timezone.utc), 0)\n",
      " (24.6, datetime.datetime(2018, 10, 11, 13, 20, 59, tzinfo=datetime.timezone.utc), 0)\n",
      " (24.7, datetime.datetime(2018, 10, 11, 13, 24, 19, tzinfo=datetime.timezone.utc), 0)\n",
      " (24.8, datetime.datetime(2018, 10, 11, 13, 26, 20, tzinfo=datetime.timezone.utc), 0)\n",
      " (24.9, datetime.datetime(2018, 10, 11, 13, 30, tzinfo=datetime.timezone.utc), 0)\n",
      " (25. , datetime.datetime(2018, 10, 11, 13, 33, 40, tzinfo=datetime.timezone.utc), 0)\n",
      " (25.1, datetime.datetime(2018, 10, 11, 13, 37, 40, tzinfo=datetime.timezone.utc), 0)\n",
      " (25.2, datetime.datetime(2018, 10, 11, 13, 42, 40, tzinfo=datetime.timezone.utc), 0)\n",
      " (25.1, datetime.datetime(2018, 10, 11, 13, 45, tzinfo=datetime.timezone.utc), 0)\n",
      " (25. , datetime.datetime(2018, 10, 11, 13, 46, 40, tzinfo=datetime.timezone.utc), 0)\n",
      " (24.9, datetime.datetime(2018, 10, 11, 13, 47, 20, tzinfo=datetime.timezone.utc), 0)]\n"
     ]
    }
   ],
   "source": [
    "# O retorno das funções de leitura da epmwebapi é um ndarray com três campos: Timestamp, Value e Quality.\n",
    "print(data)"
   ]
  },
  {
   "cell_type": "code",
   "execution_count": 9,
   "metadata": {},
   "outputs": [
    {
     "name": "stdout",
     "output_type": "stream",
     "text": [
      "[24.7 24.8 24.9 25.  25.1 25.2 25.1 25.  24.9 24.8 24.7 24.6 24.5 24.6\n",
      " 24.7 24.8 24.9 25.  25.1 25.2 25.1 25.  24.9]\n"
     ]
    }
   ],
   "source": [
    "# Para acessar os campos use colchetes[]:\n",
    "print(data['Value'])"
   ]
  },
  {
   "cell_type": "code",
   "execution_count": 13,
   "metadata": {},
   "outputs": [
    {
     "name": "stdout",
     "output_type": "stream",
     "text": [
      "[24.7 24.8 24.9]\n",
      "[24.8 24.9 25.  25.1]\n"
     ]
    }
   ],
   "source": [
    "#Para \"fatiar\" o array usamos a sintaxe array[start:stop:step]. \n",
    "\n",
    "#três primeiros valores:\n",
    "print(data['Value'][0:3])\n",
    "\n",
    "#do segundo ao quinto valor\n",
    "print(data['Value'][1:5])\n",
    "\n",
    "#*O indice da primeira posição do array em Python é zero. "
   ]
  },
  {
   "cell_type": "code",
   "execution_count": 19,
   "metadata": {},
   "outputs": [
    {
     "name": "stdout",
     "output_type": "stream",
     "text": [
      "74.4\n",
      "24.800001\n",
      "0.08164919\n",
      "[54.7 54.8 54.9]\n"
     ]
    }
   ],
   "source": [
    "#Para calcular valores\n",
    "\n",
    "#Total\n",
    "print(data['Value'][0:3].sum())\n",
    "\n",
    "#Media\n",
    "print(data['Value'][0:3].mean())\n",
    "\n",
    "#Desvio Padrão\n",
    "print(data['Value'][0:3].std())\n",
    "\n",
    "#adicionar um valor a todos os elementos\n",
    "print(data['Value'][0:3] + 30)"
   ]
  },
  {
   "cell_type": "markdown",
   "metadata": {},
   "source": [
    "\n"
   ]
  },
  {
   "cell_type": "code",
   "execution_count": null,
   "metadata": {},
   "outputs": [],
   "source": []
  }
 ],
 "metadata": {
  "kernelspec": {
   "display_name": "Python 3",
   "language": "python",
   "name": "python3"
  },
  "language_info": {
   "codemirror_mode": {
    "name": "ipython",
    "version": 3
   },
   "file_extension": ".py",
   "mimetype": "text/x-python",
   "name": "python",
   "nbconvert_exporter": "python",
   "pygments_lexer": "ipython3",
   "version": "3.6.6"
  }
 },
 "nbformat": 4,
 "nbformat_minor": 2
}
