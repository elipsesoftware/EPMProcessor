{
 "cells": [
  {
   "cell_type": "markdown",
   "metadata": {},
   "source": [
    "### Biblioteca Numpy\n",
    "Numpy adiciona a linguagem Python facilidades para a manipulação e cálculos em arrays de grande dimensão. Ela adiciona o tipo de dado \"ndarray\", tipo que a epmwebapi utiliza para o retorno de séries temporais do EPM Server."
   ]
  },
  {
   "cell_type": "markdown",
   "metadata": {},
   "source": [
    "**Conexão ao EPM Server e busca de dados**"
   ]
  },
  {
   "cell_type": "code",
   "execution_count": 2,
   "metadata": {},
   "outputs": [
    {
     "name": "stdout",
     "output_type": "stream",
     "text": [
      "EPM user:sa\n",
      "EPM password:········\n"
     ]
    }
   ],
   "source": [
    "import epmwebapi as epm\n",
    "import numpy as np\n",
    "import datetime\n",
    "\n",
    "#Método para não expor usuário e senha do EPM no código fonte\n",
    "import getpass\n",
    "user = input('EPM user:')\n",
    "password = getpass.getpass(\"EPM password:\")\n",
    "\n",
    "#crie o objeto de conexão informando os endereços do EPM Webserver(Authentication Port e WEB API Port), usuário e senha.\n",
    "connection = epm.EpmConnection('http://localhost:44333', 'http://localhost:44332', user, password)\n",
    "\n",
    "bvname = 'ADM_Temperature'\n",
    "\n",
    "bv = connection.getDataObjects([bvname])\n",
    "\n",
    "end_date = datetime.datetime.now()\n",
    "ini_date= end_date - datetime.timedelta(hours=1)\n",
    "queryPeriod = epm.QueryPeriod(ini_date,end_date)\n",
    "\n",
    "data = bv[bvname].historyReadRaw(queryPeriod)\n",
    "\n",
    "#Fechando a conexão\n",
    "connection.close()"
   ]
  },
  {
   "cell_type": "code",
   "execution_count": 4,
   "metadata": {},
   "outputs": [
    {
     "name": "stdout",
     "output_type": "stream",
     "text": [
      "[(24.9, datetime.datetime(2018, 10, 26, 11, 2, 8, tzinfo=datetime.timezone.utc), 0)]\n"
     ]
    }
   ],
   "source": [
    "# O retorno das funções de leitura da epmwebapi é um ndarray com três campos: Timestamp, Value e Quality.\n",
    "print(data)"
   ]
  },
  {
   "cell_type": "markdown",
   "metadata": {},
   "source": [
    "**Índices**\n",
    "\n",
    "Os índices começam em zero. E podem ser usados indices negativos, começando em -1, para percorrer o ndarray de trás para frente."
   ]
  },
  {
   "cell_type": "code",
   "execution_count": 5,
   "metadata": {},
   "outputs": [
    {
     "data": {
      "text/plain": [
       "array([24.9], dtype=float32)"
      ]
     },
     "execution_count": 5,
     "metadata": {},
     "output_type": "execute_result"
    }
   ],
   "source": [
    "# Para acessar os campos use colchetes[]:\n",
    "data['Value']"
   ]
  },
  {
   "cell_type": "code",
   "execution_count": 14,
   "metadata": {},
   "outputs": [
    {
     "name": "stdout",
     "output_type": "stream",
     "text": [
      "23.7\n",
      "23.9\n",
      "23.9\n",
      "24.0\n"
     ]
    }
   ],
   "source": [
    "#acessando o primeiro valor do ndarray \n",
    "print(data['Value'][0])\n",
    "#acessando o terceiro valor\n",
    "print(data['Value'][2])\n",
    "\n",
    "#acessando o último valor do ndarray \n",
    "print(data['Value'][-1])\n",
    "\n",
    "#acessando o penúltimo valor do ndarray \n",
    "print(data['Value'][-2])"
   ]
  },
  {
   "cell_type": "markdown",
   "metadata": {},
   "source": [
    " **Fatiamentos**\n",
    " \n",
    " Fatiar é a forma de escolher valores dentro do ndarray. Usamos a sintaxe **ndarray[start : stop : step]**"
   ]
  },
  {
   "cell_type": "code",
   "execution_count": 25,
   "metadata": {},
   "outputs": [
    {
     "name": "stdout",
     "output_type": "stream",
     "text": [
      "[23.7 23.8 23.9 24.  24.1 24.  23.9]\n",
      "[23.7 23.8]\n",
      "[23.9 24. ]\n",
      "[23.8 24.  24. ]\n"
     ]
    }
   ],
   "source": [
    "#imprimindo novamente o array para termos a referência de valores\n",
    "print(data['Value'])\n",
    "\n",
    "#acessando os dois primeiros elementos\n",
    "print(data['Value'][0:2])\n",
    "\n",
    "#acessando o terceiro e quarto elemento\n",
    "print(data['Value'][2:4])\n",
    "\n",
    "#acessando os elementos de índice impar\n",
    "print(data['Value'][1::2])"
   ]
  },
  {
   "cell_type": "markdown",
   "metadata": {},
   "source": [
    "**Cálculos**\n",
    "\n",
    "O Numpy possui diversos métodos que retornam valores cálculados do array."
   ]
  },
  {
   "cell_type": "code",
   "execution_count": 7,
   "metadata": {},
   "outputs": [
    {
     "name": "stdout",
     "output_type": "stream",
     "text": [
      "Mean 24.9\n",
      "Median 24.9\n",
      "Standard Deviation 0.0\n",
      "Variance 0.0\n"
     ]
    }
   ],
   "source": [
    "# Using NumPy's built-in functions to Find Mean, Median, SD and Variance\n",
    "mean = np.mean(data['Value'])\n",
    "median = np.median(data['Value'])\n",
    "sd = np.std(data['Value'])\n",
    "variance = np.var(data['Value'])\n",
    "\n",
    "# Printing the values\n",
    "print(\"Mean\", mean) \n",
    "print(\"Median\", median) \n",
    "print(\"Standard Deviation\", sd) \n",
    "print(\"Variance\", variance) "
   ]
  },
  {
   "cell_type": "markdown",
   "metadata": {},
   "source": [
    "### Exemplos práticos\n",
    "\n",
    "**Remoção de outliers**\n",
    "\n",
    "Utilizamos a função **percentile** que retorna os quartis, para usar o método descrito aqui: https://www.purplemath.com/modules/boxwhisk3.htm"
   ]
  },
  {
   "cell_type": "code",
   "execution_count": 8,
   "metadata": {},
   "outputs": [
    {
     "name": "stdout",
     "output_type": "stream",
     "text": [
      "[25, 26, 24, 23, 24, 25, 28, 27]\n"
     ]
    }
   ],
   "source": [
    "temperaturas = [ 25, 26, 225, 24, 23, 24, 25, 325, 28, 27]\n",
    "\n",
    "def removeoutlier(values):\n",
    "    fator = 1.5\n",
    "    q3, q1 = np.percentile(values, [75, 25])\n",
    "\n",
    "    iqr = q3 - q1\n",
    "\n",
    "    lowpass = q1 - (iqr * fator)\n",
    "\n",
    "    highpass = q3 + (iqr * fator)\n",
    "    \n",
    "    return [v for v in values if v > lowpass and v < highpass]\n",
    "\n",
    "data = removeoutlier(temperaturas)\n",
    "print(data)"
   ]
  },
  {
   "cell_type": "markdown",
   "metadata": {},
   "source": [
    "**Para mais informações acesse a documentação da biblioteca**\n",
    "\n",
    "https://docs.scipy.org/doc/numpy/reference/routines.html\n"
   ]
  }
 ],
 "metadata": {
  "kernelspec": {
   "display_name": "Python 3",
   "language": "python",
   "name": "python3"
  },
  "language_info": {
   "codemirror_mode": {
    "name": "ipython",
    "version": 3
   },
   "file_extension": ".py",
   "mimetype": "text/x-python",
   "name": "python",
   "nbconvert_exporter": "python",
   "pygments_lexer": "ipython3",
   "version": "3.6.6"
  }
 },
 "nbformat": 4,
 "nbformat_minor": 2
}
