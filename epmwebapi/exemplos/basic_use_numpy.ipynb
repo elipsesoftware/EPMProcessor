{
 "cells": [
  {
   "cell_type": "markdown",
   "metadata": {},
   "source": [
    "### Biblioteca Numpy\n",
    "Numpy adiciona a linguagem Python facilidades para a manipulação e cálculos em arrays de grande dimensão. Ela adiciona o tipo de dado \"ndarray\", tipo que a epmwebapi utiliza para o retorno de séries temporais do EPM Server."
   ]
  },
  {
   "cell_type": "markdown",
   "metadata": {},
   "source": [
    "**Conexão ao EPM Server e busca de dados**"
   ]
  },
  {
   "cell_type": "code",
   "execution_count": 4,
   "metadata": {},
   "outputs": [],
   "source": [
    "import epmwebapi as epm\n",
    "import numpy as np\n",
    "import datetime\n",
    "\n",
    "#crie o objeto de conexão informando os endereços do EPM Webserver(Authentication Port e WEB API Port), usuário e senha.\n",
    "connection = epm.EpmConnection('http://localhost:44333', 'http://localhost:44332', 'sa', 'psw')\n",
    "\n",
    "bvname = 'ADM_Temperature'\n",
    "\n",
    "bv = connection.getDataObjects([bvname])\n",
    "\n",
    "end_date = datetime.datetime.now()\n",
    "ini_date= end_date - datetime.timedelta(hours=1)\n",
    "queryPeriod = epm.QueryPeriod(ini_date,end_date)\n",
    "\n",
    "data = bv[bvname].historyReadRaw(queryPeriod)\n",
    "\n",
    "#Fechando a conexão\n",
    "connection.close()"
   ]
  },
  {
   "cell_type": "code",
   "execution_count": 5,
   "metadata": {},
   "outputs": [
    {
     "name": "stdout",
     "output_type": "stream",
     "text": [
      "[(23.7, datetime.datetime(2018, 10, 15, 9, 18, 59, tzinfo=datetime.timezone.utc), 0)\n",
      " (23.8, datetime.datetime(2018, 10, 15, 9, 28, 39, tzinfo=datetime.timezone.utc), 0)\n",
      " (23.9, datetime.datetime(2018, 10, 15, 9, 33, 59, tzinfo=datetime.timezone.utc), 0)\n",
      " (24. , datetime.datetime(2018, 10, 15, 9, 39, 19, tzinfo=datetime.timezone.utc), 0)\n",
      " (24.1, datetime.datetime(2018, 10, 15, 9, 43, 59, tzinfo=datetime.timezone.utc), 0)\n",
      " (24. , datetime.datetime(2018, 10, 15, 9, 50, 59, tzinfo=datetime.timezone.utc), 0)\n",
      " (23.9, datetime.datetime(2018, 10, 15, 9, 58, 19, tzinfo=datetime.timezone.utc), 0)]\n"
     ]
    }
   ],
   "source": [
    "# O retorno das funções de leitura da epmwebapi é um ndarray com três campos: Timestamp, Value e Quality.\n",
    "print(data)"
   ]
  },
  {
   "cell_type": "markdown",
   "metadata": {},
   "source": [
    "**Índices**\n",
    "\n",
    "Os índices começam em zero. E podem ser usados indices negativos, começando em -1, para percorrer o ndarray de trás para frente."
   ]
  },
  {
   "cell_type": "code",
   "execution_count": 8,
   "metadata": {},
   "outputs": [
    {
     "data": {
      "text/plain": [
       "array([23.7, 23.8, 23.9, 24. , 24.1, 24. , 23.9], dtype=float32)"
      ]
     },
     "execution_count": 8,
     "metadata": {},
     "output_type": "execute_result"
    }
   ],
   "source": [
    "# Para acessar os campos use colchetes[]:\n",
    "data['Value']"
   ]
  },
  {
   "cell_type": "code",
   "execution_count": 14,
   "metadata": {},
   "outputs": [
    {
     "name": "stdout",
     "output_type": "stream",
     "text": [
      "23.7\n",
      "23.9\n",
      "23.9\n",
      "24.0\n"
     ]
    }
   ],
   "source": [
    "#acessando o primeiro valor do ndarray \n",
    "print(data['Value'][0])\n",
    "#acessando o terceiro valor\n",
    "print(data['Value'][2])\n",
    "\n",
    "#acessando o último valor do ndarray \n",
    "print(data['Value'][-1])\n",
    "\n",
    "#acessando o penúltimo valor do ndarray \n",
    "print(data['Value'][-2])"
   ]
  },
  {
   "cell_type": "markdown",
   "metadata": {},
   "source": [
    " **Fatiamentos**\n",
    " \n",
    " Fatiar é a forma de escolher valores dentro do ndarray. Usamos a sintaxe **ndarray[start : stop : step]**"
   ]
  },
  {
   "cell_type": "code",
   "execution_count": 25,
   "metadata": {},
   "outputs": [
    {
     "name": "stdout",
     "output_type": "stream",
     "text": [
      "[23.7 23.8 23.9 24.  24.1 24.  23.9]\n",
      "[23.7 23.8]\n",
      "[23.9 24. ]\n",
      "[23.8 24.  24. ]\n"
     ]
    }
   ],
   "source": [
    "#imprimindo novamente o array para termos a referência de valores\n",
    "print(data['Value'])\n",
    "\n",
    "#acessando os dois primeiros elementos\n",
    "print(data['Value'][0:2])\n",
    "\n",
    "#acessando o terceiro e quarto elemento\n",
    "print(data['Value'][2:4])\n",
    "\n",
    "#acessando os elementos de índice impar\n",
    "print(data['Value'][1::2])"
   ]
  },
  {
   "cell_type": "markdown",
   "metadata": {},
   "source": [
    "**Cálculos**\n",
    "\n",
    "O Numpy possui diversos métodos que retornam valores cálculados do array."
   ]
  },
  {
   "cell_type": "code",
   "execution_count": 32,
   "metadata": {},
   "outputs": [
    {
     "name": "stdout",
     "output_type": "stream",
     "text": [
      "167.4\n",
      "23.914286\n",
      "0.12453998\n",
      "24.1\n",
      "[53.7 53.8 53.9 54.  54.1 54.  53.9]\n"
     ]
    }
   ],
   "source": [
    "\n",
    "#Total\n",
    "print(data['Value'].sum())\n",
    "\n",
    "#Media\n",
    "print(data['Value'].mean())\n",
    "\n",
    "#Desvio Padrão\n",
    "print(data['Value'].std())\n",
    "\n",
    "#Valor Máximo\n",
    "print(data['Value'].max())\n",
    "\n",
    "#adicionar valor a todos os elementos\n",
    "print(data['Value'] + 30)\n"
   ]
  },
  {
   "cell_type": "markdown",
   "metadata": {},
   "source": [
    "\n"
   ]
  },
  {
   "cell_type": "markdown",
   "metadata": {},
   "source": [
    "**Para mais informações acesse a documentação da biblioteca**\n",
    "\n",
    "https://docs.scipy.org/doc/numpy/reference/routines.html\n"
   ]
  }
 ],
 "metadata": {
  "kernelspec": {
   "display_name": "Python 3",
   "language": "python",
   "name": "python3"
  },
  "language_info": {
   "codemirror_mode": {
    "name": "ipython",
    "version": 3
   },
   "file_extension": ".py",
   "mimetype": "text/x-python",
   "name": "python",
   "nbconvert_exporter": "python",
   "pygments_lexer": "ipython3",
   "version": "3.6.6"
  }
 },
 "nbformat": 4,
 "nbformat_minor": 2
}
