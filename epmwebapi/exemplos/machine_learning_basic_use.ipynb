{
 "cells": [
  {
   "cell_type": "markdown",
   "metadata": {
    "slideshow": {
     "slide_type": "slide"
    }
   },
   "source": [
    "# Machine Learning\n",
    "\n",
    "<!-- executar como ppt: jupyter-nbconvert ElipseML\\init_ppt.ipynb --to slides --post serve   -->"
   ]
  },
  {
   "cell_type": "markdown",
   "metadata": {
    "slideshow": {
     "slide_type": "slide"
    }
   },
   "source": [
    "## O que devemos saber\n",
    "- Existe a bastante tempo mas só recemente vem se popularizando\n",
    "- Companhias querem usar ML, mas não possuem certeza sobre o que é isso ou aonde aplicar\n",
    "- Possui um grande potential mas não da resultados instantaneos, é preciso responder as perguntas certas e planejar cuidadosamente o projeto\n",
    "- Tenha certeza que você possui: dados certos, pessoas e processos. Se tudo estiver certo, tenha certeza que um projeto de ML pode salvar boas quantias de dinheiro e aumetar a produtividade após algum meses de desenvolvimento!\n",
    "\n"
   ]
  },
  {
   "cell_type": "markdown",
   "metadata": {
    "slideshow": {
     "slide_type": "slide"
    }
   },
   "source": [
    "## Aplicações\n",
    "### Analises e Manutenção Preditivas\n",
    "- Falhas e Configuração de Equipamentos\n",
    "- Controle de Qualidade\n",
    "- Quais ações são mais efetivas\n",
    "- Escolha de investimentos e parceiros\n",
    "- Previsão de demanda\n",
    "- Treinamentos de robôs"
   ]
  },
  {
   "cell_type": "markdown",
   "metadata": {
    "slideshow": {
     "slide_type": "slide"
    }
   },
   "source": [
    "## Passos para Aplicação de ML\n"
   ]
  },
  {
   "cell_type": "markdown",
   "metadata": {
    "slideshow": {
     "slide_type": "slide"
    }
   },
   "source": [
    "### Dados, muitos dados\n",
    "- Coletar fontes diferentes. Históricos, ERP, etc.\n",
    "- Coleta automizada\n",
    "- Qualidade é mais importante que quantidade"
   ]
  },
  {
   "cell_type": "markdown",
   "metadata": {
    "slideshow": {
     "slide_type": "slide"
    }
   },
   "source": [
    "### Classificar Dados\n",
    "- Pessoas com conhecimentos em estatísticas e com domínio do processo para classificar os dados como bons ou ruins"
   ]
  },
  {
   "cell_type": "markdown",
   "metadata": {
    "slideshow": {
     "slide_type": "slide"
    }
   },
   "source": [
    "### Escolher uma questão\n",
    "- Começar com o que você realmente quer saber\n",
    "- Função de custo"
   ]
  },
  {
   "cell_type": "markdown",
   "metadata": {
    "slideshow": {
     "slide_type": "slide"
    }
   },
   "source": [
    "### Usar conhecimento do processo (Domain Knowledge)\n",
    "- Quais dados podem responder sua questão?\n",
    "- É possível adquirir dados nulos?\n",
    "- Qual a qualidade dos dados?\n",
    "- Eliminar variáveis dependentes. Mais atributos = Modelo mais complexo.\n",
    "\n",
    "<input type='hidden' value='https://mineracaodedados.wordpress.com/2015/06/13/7-tecnicas-para-reducao-da-dimensionalidade/'>"
   ]
  },
  {
   "cell_type": "markdown",
   "metadata": {
    "slideshow": {
     "slide_type": "slide"
    }
   },
   "source": [
    "### ETL (Extract, Transform, Load)\n",
    "- Posso automatizar cada passo?\n",
    "- Posso obter novos dados automaticamente?\n",
    "- O quão limpos os dados devem estar?\n",
    "- Como os valores nulos serão manipulados? Remoção completa, substituído pela média ou pelo valor recorrente?"
   ]
  },
  {
   "cell_type": "markdown",
   "metadata": {
    "slideshow": {
     "slide_type": "slide"
    }
   },
   "source": [
    "### Visualizar seus dados\n",
    "Procurar por:\n",
    "-  Problemas nos dados\n",
    "-  Tendências\n",
    "-  Algoritmo"
   ]
  },
  {
   "cell_type": "markdown",
   "metadata": {
    "slideshow": {
     "slide_type": "slide"
    }
   },
   "source": [
    "### Qual algoritmo usar?\n",
    "- Classificação ou Regressão?\n",
    "- Dados Classificados ou não classificados?\n",
    "- Regras de associação\n",
    "- Tolerante a dados nulos?\n",
    "- Aprendizado Incremental/Tardio (Lazy Learners)? Gerar um novo modelo(retraining)?\n",
    "- Black box vs Maior legibilidade?\n",
    "- Tolerante a outliers?"
   ]
  },
  {
   "cell_type": "markdown",
   "metadata": {
    "slideshow": {
     "slide_type": "slide"
    }
   },
   "source": [
    "### Qual plataforma utilizar?\n",
    "- Computação na nuvem ou local?\n",
    "- Quão flexível é?\n",
    "- Quão fácil é obter dados nessa plataforma?\n",
    "- Quão fácil é obter resultados utilizáveis? Poder ser automatizado?"
   ]
  },
  {
   "cell_type": "markdown",
   "metadata": {
    "slideshow": {
     "slide_type": "slide"
    }
   },
   "source": [
    "### Testar o modelo\n",
    "- Técnicas de testes\n",
    "- Quão preciso é?\n",
    "- Possuir históricos dos passos e reavaliar quando necessário"
   ]
  },
  {
   "cell_type": "markdown",
   "metadata": {
    "slideshow": {
     "slide_type": "slide"
    }
   },
   "source": [
    "# Como Funciona\n",
    "\n",
    "## Treinamento e Criação do Modelo\n",
    "\n",
    "<img src=\"images/fig_ml_01.PNG\" alt=\"Resumindo em imagem\" title=\"Title text\" />"
   ]
  },
  {
   "cell_type": "markdown",
   "metadata": {
    "slideshow": {
     "slide_type": "slide"
    }
   },
   "source": [
    "## Predição pelo Computador\n",
    "\n",
    "<img src=\"images/fig_ml_02.PNG\" alt=\"Resumindo em imagem\" title=\"Title text\" />"
   ]
  },
  {
   "cell_type": "markdown",
   "metadata": {
    "slideshow": {
     "slide_type": "slide"
    }
   },
   "source": [
    "# Machine Learning em Python\n",
    "\n",
    "## Exemplo utilizando a biblioteca [scikit-learn](http://scikit-learn.org/stable/) e algoritmo [KNN](http://scikit-learn.org/stable/modules/neighbors.html)\n",
    "\n",
    "### Dataset utilizado: [Boston house prices](http://scikit-learn.org/stable/datasets/index.html#boston-house-prices-dataset)\n",
    "\n",
    "Objetivo do exemplo é predizer o valor de um imóvel em Boston utilizando dados já existentes referente a outros imóveis."
   ]
  },
  {
   "cell_type": "code",
   "execution_count": 1,
   "metadata": {
    "slideshow": {
     "slide_type": "fragment"
    }
   },
   "outputs": [],
   "source": [
    "from sklearn.datasets import load_boston\n",
    "\n",
    "import matplotlib.pyplot as plt\n",
    "from sklearn.neighbors import KNeighborsRegressor\n",
    "\n",
    "boston = load_boston()\n",
    "#numero de vizinhos próximos\n",
    "K = 9\n",
    "#algoritmo para ser utilizado\n",
    "knn = KNeighborsRegressor(n_neighbors=K)"
   ]
  },
  {
   "cell_type": "markdown",
   "metadata": {},
   "source": [
    "### Separa os dados para serem utilizado no treinamento do algoritimo\n",
    "\n",
    "* x são os dados de entrada\n",
    "* y valor do imóvel"
   ]
  },
  {
   "cell_type": "code",
   "execution_count": 2,
   "metadata": {},
   "outputs": [],
   "source": [
    "#numero de registros utilizado para gerar o modelo\n",
    "n_data = 100\n",
    "\n",
    "x, y = boston.data[:n_data], boston.target[:n_data]"
   ]
  },
  {
   "cell_type": "markdown",
   "metadata": {},
   "source": [
    "### Executa o Treino com os dados"
   ]
  },
  {
   "cell_type": "code",
   "execution_count": 3,
   "metadata": {},
   "outputs": [
    {
     "data": {
      "text/plain": [
       "KNeighborsRegressor(algorithm='auto', leaf_size=30, metric='minkowski',\n",
       "          metric_params=None, n_jobs=None, n_neighbors=9, p=2,\n",
       "          weights='uniform')"
      ]
     },
     "execution_count": 3,
     "metadata": {},
     "output_type": "execute_result"
    }
   ],
   "source": [
    "knn.fit(x, y)"
   ]
  },
  {
   "cell_type": "markdown",
   "metadata": {},
   "source": [
    "### Executa a Predição"
   ]
  },
  {
   "cell_type": "code",
   "execution_count": 4,
   "metadata": {},
   "outputs": [],
   "source": [
    "valor_predicao = knn.predict([boston.data[0]])"
   ]
  },
  {
   "cell_type": "code",
   "execution_count": 5,
   "metadata": {},
   "outputs": [
    {
     "name": "stdout",
     "output_type": "stream",
     "text": [
      "Valor Real:  24.0\n",
      "Valor Estimado:  21.08888888888889\n"
     ]
    }
   ],
   "source": [
    "valor_real= boston.target[0]\n",
    "\n",
    "print(\"Valor Real: \",valor_real)\n",
    "print(\"Valor Estimado: \",valor_predicao[0])"
   ]
  },
  {
   "cell_type": "markdown",
   "metadata": {
    "slideshow": {
     "slide_type": "slide"
    }
   },
   "source": [
    "### Comparação entre Valores Preditos x Valores Reais\n"
   ]
  },
  {
   "cell_type": "code",
   "execution_count": 6,
   "metadata": {
    "slideshow": {
     "slide_type": "fragment"
    }
   },
   "outputs": [
    {
     "data": {
      "image/png": "[encoded data removed]",
      "text/plain": [
       "<Figure size 432x288 with 1 Axes>"
      ]
     },
     "metadata": {
      "needs_background": "light"
     },
     "output_type": "display_data"
    }
   ],
   "source": [
    "import numpy as np\n",
    "\n",
    "#Predizendo N_data valores\n",
    "y_predicted = knn.predict(x)\n",
    "\n",
    "#Visualização gráfica\n",
    "plt.plot(np.linspace(-1, 1, n_data), y, label='Valores Reais', color='black')\n",
    "plt.plot(np.linspace(-1, 1, n_data), y_predicted, label='Valores Preditos', color='red')\n",
    "plt.legend()\n",
    "plt.show()"
   ]
  },
  {
   "cell_type": "markdown",
   "metadata": {
    "slideshow": {
     "slide_type": "slide"
    }
   },
   "source": [
    "### Ajustando parâmetros do algoritimo, como por exemplo o K, ou utilizando mais dados a precisão do modelo pode aumentar ou diminuir."
   ]
  }
 ],
 "metadata": {
  "celltoolbar": "Slideshow",
  "kernelspec": {
   "display_name": "Python 3",
   "language": "python",
   "name": "python3"
  },
  "language_info": {
   "codemirror_mode": {
    "name": "ipython",
    "version": 3
   },
   "file_extension": ".py",
   "mimetype": "text/x-python",
   "name": "python",
   "nbconvert_exporter": "python",
   "pygments_lexer": "ipython3",
   "version": "3.6.6"
  }
 },
 "nbformat": 4,
 "nbformat_minor": 2
}
