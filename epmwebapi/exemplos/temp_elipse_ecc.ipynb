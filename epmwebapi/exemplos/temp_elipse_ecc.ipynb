{
 "cells": [
  {
   "cell_type": "code",
   "execution_count": 1,
   "metadata": {},
   "outputs": [],
   "source": [
    "import epmwebapi as epm\n",
    "import datetime as dt\n",
    "import numpy as np\n",
    "import pandas as pd\n",
    "import matplotlib.pyplot as plt\n",
    "import seaborn as sns\n",
    "sns.set(style=\"whitegrid\")\n",
    "%matplotlib inline"
   ]
  },
  {
   "cell_type": "code",
   "execution_count": 2,
   "metadata": {},
   "outputs": [],
   "source": [
    "import os\n",
    "credentials = os.environ.get('user_and_password').split(';')\n",
    "user = credentials[0]\n",
    "password = credentials[1]"
   ]
  },
  {
   "cell_type": "code",
   "execution_count": 3,
   "metadata": {},
   "outputs": [],
   "source": [
    "#cria conexao\n",
    "#para ter acesso ao ECC entre em contato com epm@elipse.com.br\n",
    "epmConn = epm.EpmConnection('http://ecc.elipse.com.br:44333', 'http://ecc.elipse.com.br:44332', user, password)\n",
    "\n",
    "\n",
    "iniTime = dt.datetime(2018, 9, 1, 0, 0, 0, 0)\n",
    "endTime = iniTime + dt.timedelta(days=60)\n",
    "\n",
    "array_dfs = []\n",
    "\n",
    "paths = ['ERSF11R4_Temp2', 'ERSF11R4_Temp2SP', 'ERSF11R4_ACCompr2', 'ERSF11R4_ACVent2']\n",
    "\n",
    "processInterval = dt.timedelta(minutes=5)\n",
    "\n",
    "\n",
    "#cria objeto queryperiod\n",
    "queryPeriod = epm.QueryPeriod(iniTime, endTime)\n",
    "\n",
    "aggInterpDetails = epm.AggregateDetails(processInterval, epm.AggregateType.Interpolative)\n",
    "\n",
    "for path in paths:\n",
    "    \n",
    "    \n",
    "    bv = epmConn.getDataObjects(path)\n",
    "\n",
    "    \n",
    "    result= bv[path].historyReadAggregate(aggInterpDetails, queryPeriod)\n",
    "    \n",
    "    #======================================================================================\n",
    "    # Transformação em DataFrame do pandas\n",
    "    #======================================================================================\n",
    "    #corrige o erro: ValueError: Big-endian buffer not supported on little-endian compiler\n",
    "    new_Quality = result[:]['Quality'].byteswap().newbyteorder()\n",
    "    new_Timestamp = result[:]['Timestamp']\n",
    "    new_Value = result[:]['Value'].byteswap().newbyteorder()\n",
    "\n",
    "    d = {'Value':new_Value, 'Timestamp':new_Timestamp, 'Quality':new_Quality}\n",
    "    df_original = pd.DataFrame(d)\n",
    "    \n",
    "    #======================================================================================\n",
    "    # Converte de UTC PARA LOCALTIME\n",
    "    #======================================================================================\n",
    "    df_original['Timestamp'] = df_original['Timestamp'].dt.tz_convert('America/Sao_Paulo')\n",
    "    \n",
    "    #array de dataframes\n",
    "    array_dfs.append(df_original)\n",
    "\n",
    "\n",
    "epmConn.close()"
   ]
  },
  {
   "cell_type": "code",
   "execution_count": 4,
   "metadata": {},
   "outputs": [
    {
     "data": {
      "text/plain": [
       "(17280, 3)"
      ]
     },
     "execution_count": 4,
     "metadata": {},
     "output_type": "execute_result"
    }
   ],
   "source": [
    "array_dfs[0].shape"
   ]
  },
  {
   "cell_type": "code",
   "execution_count": 5,
   "metadata": {},
   "outputs": [
    {
     "data": {
      "text/html": [
       "<div>\n",
       "<style scoped>\n",
       "    .dataframe tbody tr th:only-of-type {\n",
       "        vertical-align: middle;\n",
       "    }\n",
       "\n",
       "    .dataframe tbody tr th {\n",
       "        vertical-align: top;\n",
       "    }\n",
       "\n",
       "    .dataframe thead th {\n",
       "        text-align: right;\n",
       "    }\n",
       "</style>\n",
       "<table border=\"1\" class=\"dataframe\">\n",
       "  <thead>\n",
       "    <tr style=\"text-align: right;\">\n",
       "      <th></th>\n",
       "      <th>Value</th>\n",
       "      <th>Timestamp</th>\n",
       "      <th>Quality</th>\n",
       "    </tr>\n",
       "  </thead>\n",
       "  <tbody>\n",
       "    <tr>\n",
       "      <th>0</th>\n",
       "      <td>23.578434</td>\n",
       "      <td>2018-08-31 21:00:00-03:00</td>\n",
       "      <td>0</td>\n",
       "    </tr>\n",
       "    <tr>\n",
       "      <th>1</th>\n",
       "      <td>23.566795</td>\n",
       "      <td>2018-08-31 21:05:00-03:00</td>\n",
       "      <td>0</td>\n",
       "    </tr>\n",
       "    <tr>\n",
       "      <th>2</th>\n",
       "      <td>23.555159</td>\n",
       "      <td>2018-08-31 21:10:00-03:00</td>\n",
       "      <td>0</td>\n",
       "    </tr>\n",
       "    <tr>\n",
       "      <th>3</th>\n",
       "      <td>23.543522</td>\n",
       "      <td>2018-08-31 21:15:00-03:00</td>\n",
       "      <td>0</td>\n",
       "    </tr>\n",
       "    <tr>\n",
       "      <th>4</th>\n",
       "      <td>23.531885</td>\n",
       "      <td>2018-08-31 21:20:00-03:00</td>\n",
       "      <td>0</td>\n",
       "    </tr>\n",
       "  </tbody>\n",
       "</table>\n",
       "</div>"
      ],
      "text/plain": [
       "       Value                 Timestamp  Quality\n",
       "0  23.578434 2018-08-31 21:00:00-03:00        0\n",
       "1  23.566795 2018-08-31 21:05:00-03:00        0\n",
       "2  23.555159 2018-08-31 21:10:00-03:00        0\n",
       "3  23.543522 2018-08-31 21:15:00-03:00        0\n",
       "4  23.531885 2018-08-31 21:20:00-03:00        0"
      ]
     },
     "execution_count": 5,
     "metadata": {},
     "output_type": "execute_result"
    }
   ],
   "source": [
    "array_dfs[0].head()"
   ]
  },
  {
   "cell_type": "code",
   "execution_count": 6,
   "metadata": {},
   "outputs": [],
   "source": [
    "dfs_filtered = []\n",
    "\n",
    "for df in array_dfs:\n",
    "\n",
    "    mask = (\n",
    "        ((df.Timestamp.dt.weekday.between(0,4)) & (df.Timestamp.dt.hour.between(8,11) | (df.Timestamp.dt.hour.between(13,18) )))\n",
    "        #& (df.Quality == 0)\n",
    "    )\n",
    "\n",
    "    df_aux = df.loc[mask]\n",
    "    dfs_filtered.append(df_aux)"
   ]
  },
  {
   "cell_type": "code",
   "execution_count": 7,
   "metadata": {},
   "outputs": [],
   "source": [
    "df_01 = dfs_filtered[0][['Timestamp']].copy()\n",
    "df_01['Temperatura'] = dfs_filtered[0][['Value']].copy()\n",
    "df_01['TemperaturaSP'] = dfs_filtered[1][['Value']].copy()\n",
    "df_01['Compressor'] = dfs_filtered[2][['Value']].copy()\n",
    "df_01['Ventilacao'] = dfs_filtered[3][['Value']].copy()"
   ]
  },
  {
   "cell_type": "code",
   "execution_count": 8,
   "metadata": {},
   "outputs": [
    {
     "data": {
      "text/plain": [
       "(5040, 5)"
      ]
     },
     "execution_count": 8,
     "metadata": {},
     "output_type": "execute_result"
    }
   ],
   "source": [
    "df_01.shape"
   ]
  },
  {
   "cell_type": "code",
   "execution_count": 9,
   "metadata": {},
   "outputs": [
    {
     "data": {
      "text/plain": [
       "Timestamp        datetime64[ns, America/Sao_Paulo]\n",
       "Temperatura                                float32\n",
       "TemperaturaSP                              float32\n",
       "Compressor                                 float32\n",
       "Ventilacao                                 float32\n",
       "dtype: object"
      ]
     },
     "execution_count": 9,
     "metadata": {},
     "output_type": "execute_result"
    }
   ],
   "source": [
    "df_01.dtypes"
   ]
  },
  {
   "cell_type": "code",
   "execution_count": 10,
   "metadata": {},
   "outputs": [
    {
     "data": {
      "text/html": [
       "<div>\n",
       "<style scoped>\n",
       "    .dataframe tbody tr th:only-of-type {\n",
       "        vertical-align: middle;\n",
       "    }\n",
       "\n",
       "    .dataframe tbody tr th {\n",
       "        vertical-align: top;\n",
       "    }\n",
       "\n",
       "    .dataframe thead th {\n",
       "        text-align: right;\n",
       "    }\n",
       "</style>\n",
       "<table border=\"1\" class=\"dataframe\">\n",
       "  <thead>\n",
       "    <tr style=\"text-align: right;\">\n",
       "      <th></th>\n",
       "      <th>Timestamp</th>\n",
       "      <th>Temperatura</th>\n",
       "      <th>TemperaturaSP</th>\n",
       "      <th>Compressor</th>\n",
       "      <th>Ventilacao</th>\n",
       "    </tr>\n",
       "  </thead>\n",
       "  <tbody>\n",
       "  </tbody>\n",
       "</table>\n",
       "</div>"
      ],
      "text/plain": [
       "Empty DataFrame\n",
       "Columns: [Timestamp, Temperatura, TemperaturaSP, Compressor, Ventilacao]\n",
       "Index: []"
      ]
     },
     "execution_count": 10,
     "metadata": {},
     "output_type": "execute_result"
    }
   ],
   "source": [
    "df_01.loc[df_01.Timestamp.dt.hour==12]"
   ]
  },
  {
   "cell_type": "markdown",
   "metadata": {},
   "source": [
    "### Análises Iniciais"
   ]
  },
  {
   "cell_type": "code",
   "execution_count": 11,
   "metadata": {},
   "outputs": [
    {
     "data": {
      "text/html": [
       "<div>\n",
       "<style scoped>\n",
       "    .dataframe tbody tr th:only-of-type {\n",
       "        vertical-align: middle;\n",
       "    }\n",
       "\n",
       "    .dataframe tbody tr th {\n",
       "        vertical-align: top;\n",
       "    }\n",
       "\n",
       "    .dataframe thead th {\n",
       "        text-align: right;\n",
       "    }\n",
       "</style>\n",
       "<table border=\"1\" class=\"dataframe\">\n",
       "  <thead>\n",
       "    <tr style=\"text-align: right;\">\n",
       "      <th></th>\n",
       "      <th>Timestamp</th>\n",
       "      <th>Temperatura</th>\n",
       "      <th>TemperaturaSP</th>\n",
       "      <th>Compressor</th>\n",
       "      <th>Ventilacao</th>\n",
       "    </tr>\n",
       "  </thead>\n",
       "  <tbody>\n",
       "    <tr>\n",
       "      <th>count</th>\n",
       "      <td>5040</td>\n",
       "      <td>5040.000000</td>\n",
       "      <td>5040.000000</td>\n",
       "      <td>5040.00000</td>\n",
       "      <td>5040.000000</td>\n",
       "    </tr>\n",
       "    <tr>\n",
       "      <th>unique</th>\n",
       "      <td>5040</td>\n",
       "      <td>NaN</td>\n",
       "      <td>NaN</td>\n",
       "      <td>NaN</td>\n",
       "      <td>NaN</td>\n",
       "    </tr>\n",
       "    <tr>\n",
       "      <th>top</th>\n",
       "      <td>2018-10-08 18:40:00-03:00</td>\n",
       "      <td>NaN</td>\n",
       "      <td>NaN</td>\n",
       "      <td>NaN</td>\n",
       "      <td>NaN</td>\n",
       "    </tr>\n",
       "    <tr>\n",
       "      <th>freq</th>\n",
       "      <td>1</td>\n",
       "      <td>NaN</td>\n",
       "      <td>NaN</td>\n",
       "      <td>NaN</td>\n",
       "      <td>NaN</td>\n",
       "    </tr>\n",
       "    <tr>\n",
       "      <th>mean</th>\n",
       "      <td>NaN</td>\n",
       "      <td>24.884628</td>\n",
       "      <td>24.728928</td>\n",
       "      <td>0.16627</td>\n",
       "      <td>0.375794</td>\n",
       "    </tr>\n",
       "    <tr>\n",
       "      <th>std</th>\n",
       "      <td>NaN</td>\n",
       "      <td>0.700590</td>\n",
       "      <td>0.692875</td>\n",
       "      <td>0.37236</td>\n",
       "      <td>0.484375</td>\n",
       "    </tr>\n",
       "    <tr>\n",
       "      <th>min</th>\n",
       "      <td>NaN</td>\n",
       "      <td>22.191805</td>\n",
       "      <td>21.000000</td>\n",
       "      <td>0.00000</td>\n",
       "      <td>0.000000</td>\n",
       "    </tr>\n",
       "    <tr>\n",
       "      <th>25%</th>\n",
       "      <td>NaN</td>\n",
       "      <td>24.385906</td>\n",
       "      <td>24.500000</td>\n",
       "      <td>0.00000</td>\n",
       "      <td>0.000000</td>\n",
       "    </tr>\n",
       "    <tr>\n",
       "      <th>50%</th>\n",
       "      <td>NaN</td>\n",
       "      <td>24.841507</td>\n",
       "      <td>25.000000</td>\n",
       "      <td>0.00000</td>\n",
       "      <td>0.000000</td>\n",
       "    </tr>\n",
       "    <tr>\n",
       "      <th>75%</th>\n",
       "      <td>NaN</td>\n",
       "      <td>25.394644</td>\n",
       "      <td>25.000000</td>\n",
       "      <td>0.00000</td>\n",
       "      <td>1.000000</td>\n",
       "    </tr>\n",
       "    <tr>\n",
       "      <th>max</th>\n",
       "      <td>NaN</td>\n",
       "      <td>26.785048</td>\n",
       "      <td>26.100000</td>\n",
       "      <td>1.00000</td>\n",
       "      <td>1.000000</td>\n",
       "    </tr>\n",
       "  </tbody>\n",
       "</table>\n",
       "</div>"
      ],
      "text/plain": [
       "                        Timestamp  Temperatura  TemperaturaSP  Compressor  \\\n",
       "count                        5040  5040.000000    5040.000000  5040.00000   \n",
       "unique                       5040          NaN            NaN         NaN   \n",
       "top     2018-10-08 18:40:00-03:00          NaN            NaN         NaN   \n",
       "freq                            1          NaN            NaN         NaN   \n",
       "mean                          NaN    24.884628      24.728928     0.16627   \n",
       "std                           NaN     0.700590       0.692875     0.37236   \n",
       "min                           NaN    22.191805      21.000000     0.00000   \n",
       "25%                           NaN    24.385906      24.500000     0.00000   \n",
       "50%                           NaN    24.841507      25.000000     0.00000   \n",
       "75%                           NaN    25.394644      25.000000     0.00000   \n",
       "max                           NaN    26.785048      26.100000     1.00000   \n",
       "\n",
       "         Ventilacao  \n",
       "count   5040.000000  \n",
       "unique          NaN  \n",
       "top             NaN  \n",
       "freq            NaN  \n",
       "mean       0.375794  \n",
       "std        0.484375  \n",
       "min        0.000000  \n",
       "25%        0.000000  \n",
       "50%        0.000000  \n",
       "75%        1.000000  \n",
       "max        1.000000  "
      ]
     },
     "execution_count": 11,
     "metadata": {},
     "output_type": "execute_result"
    }
   ],
   "source": [
    "df_01.describe(include='all')"
   ]
  },
  {
   "cell_type": "code",
   "execution_count": 12,
   "metadata": {},
   "outputs": [
    {
     "data": {
      "text/plain": [
       "<matplotlib.axes._subplots.AxesSubplot at 0x1aa68534cc0>"
      ]
     },
     "execution_count": 12,
     "metadata": {},
     "output_type": "execute_result"
    },
    {
     "data": {
      "image/png": "[encoded data removed]",
      "text/plain": [
       "<Figure size 432x288 with 1 Axes>"
      ]
     },
     "metadata": {
      "needs_background": "light"
     },
     "output_type": "display_data"
    }
   ],
   "source": [
    "df_01.Temperatura.plot(kind='hist', bins=20)"
   ]
  },
  {
   "cell_type": "code",
   "execution_count": 13,
   "metadata": {},
   "outputs": [
    {
     "data": {
      "text/plain": [
       "<matplotlib.axes._subplots.AxesSubplot at 0x1aa68826470>"
      ]
     },
     "execution_count": 13,
     "metadata": {},
     "output_type": "execute_result"
    },
    {
     "data": {
      "image/png": "[encoded data removed]",
      "text/plain": [
       "<Figure size 432x288 with 1 Axes>"
      ]
     },
     "metadata": {
      "needs_background": "light"
     },
     "output_type": "display_data"
    }
   ],
   "source": [
    "df_01.TemperaturaSP.plot(kind='hist', bins=20)"
   ]
  },
  {
   "cell_type": "code",
   "execution_count": 14,
   "metadata": {},
   "outputs": [],
   "source": [
    "def conforto(a):\n",
    "    if a>=24.5 and a<=25.5:\n",
    "        return 'dentro'\n",
    "    if a<24.5:\n",
    "        return 'abaixo'\n",
    "    else:\n",
    "        return 'acima'"
   ]
  },
  {
   "cell_type": "code",
   "execution_count": 15,
   "metadata": {},
   "outputs": [],
   "source": [
    "df_01['conforto_termico'] = df_01.Temperatura.apply(conforto)"
   ]
  },
  {
   "cell_type": "code",
   "execution_count": 16,
   "metadata": {},
   "outputs": [
    {
     "data": {
      "text/html": [
       "<div>\n",
       "<style scoped>\n",
       "    .dataframe tbody tr th:only-of-type {\n",
       "        vertical-align: middle;\n",
       "    }\n",
       "\n",
       "    .dataframe tbody tr th {\n",
       "        vertical-align: top;\n",
       "    }\n",
       "\n",
       "    .dataframe thead th {\n",
       "        text-align: right;\n",
       "    }\n",
       "</style>\n",
       "<table border=\"1\" class=\"dataframe\">\n",
       "  <thead>\n",
       "    <tr style=\"text-align: right;\">\n",
       "      <th></th>\n",
       "      <th>Timestamp</th>\n",
       "      <th>Temperatura</th>\n",
       "      <th>TemperaturaSP</th>\n",
       "      <th>Compressor</th>\n",
       "      <th>Ventilacao</th>\n",
       "      <th>conforto_termico</th>\n",
       "    </tr>\n",
       "  </thead>\n",
       "  <tbody>\n",
       "    <tr>\n",
       "      <th>708</th>\n",
       "      <td>2018-09-03 08:00:00-03:00</td>\n",
       "      <td>23.792610</td>\n",
       "      <td>25.0</td>\n",
       "      <td>0.0</td>\n",
       "      <td>0.0</td>\n",
       "      <td>abaixo</td>\n",
       "    </tr>\n",
       "    <tr>\n",
       "      <th>709</th>\n",
       "      <td>2018-09-03 08:05:00-03:00</td>\n",
       "      <td>23.794382</td>\n",
       "      <td>25.0</td>\n",
       "      <td>0.0</td>\n",
       "      <td>0.0</td>\n",
       "      <td>abaixo</td>\n",
       "    </tr>\n",
       "    <tr>\n",
       "      <th>710</th>\n",
       "      <td>2018-09-03 08:10:00-03:00</td>\n",
       "      <td>23.796154</td>\n",
       "      <td>25.0</td>\n",
       "      <td>0.0</td>\n",
       "      <td>0.0</td>\n",
       "      <td>abaixo</td>\n",
       "    </tr>\n",
       "    <tr>\n",
       "      <th>711</th>\n",
       "      <td>2018-09-03 08:15:00-03:00</td>\n",
       "      <td>23.797928</td>\n",
       "      <td>25.0</td>\n",
       "      <td>0.0</td>\n",
       "      <td>0.0</td>\n",
       "      <td>abaixo</td>\n",
       "    </tr>\n",
       "    <tr>\n",
       "      <th>712</th>\n",
       "      <td>2018-09-03 08:20:00-03:00</td>\n",
       "      <td>23.799700</td>\n",
       "      <td>25.0</td>\n",
       "      <td>0.0</td>\n",
       "      <td>0.0</td>\n",
       "      <td>abaixo</td>\n",
       "    </tr>\n",
       "  </tbody>\n",
       "</table>\n",
       "</div>"
      ],
      "text/plain": [
       "                    Timestamp  Temperatura  TemperaturaSP  Compressor  \\\n",
       "708 2018-09-03 08:00:00-03:00    23.792610           25.0         0.0   \n",
       "709 2018-09-03 08:05:00-03:00    23.794382           25.0         0.0   \n",
       "710 2018-09-03 08:10:00-03:00    23.796154           25.0         0.0   \n",
       "711 2018-09-03 08:15:00-03:00    23.797928           25.0         0.0   \n",
       "712 2018-09-03 08:20:00-03:00    23.799700           25.0         0.0   \n",
       "\n",
       "     Ventilacao conforto_termico  \n",
       "708         0.0           abaixo  \n",
       "709         0.0           abaixo  \n",
       "710         0.0           abaixo  \n",
       "711         0.0           abaixo  \n",
       "712         0.0           abaixo  "
      ]
     },
     "execution_count": 16,
     "metadata": {},
     "output_type": "execute_result"
    }
   ],
   "source": [
    "df_01.head()"
   ]
  },
  {
   "cell_type": "code",
   "execution_count": 17,
   "metadata": {},
   "outputs": [
    {
     "data": {
      "text/html": [
       "<div>\n",
       "<style scoped>\n",
       "    .dataframe tbody tr th:only-of-type {\n",
       "        vertical-align: middle;\n",
       "    }\n",
       "\n",
       "    .dataframe tbody tr th {\n",
       "        vertical-align: top;\n",
       "    }\n",
       "\n",
       "    .dataframe thead th {\n",
       "        text-align: right;\n",
       "    }\n",
       "</style>\n",
       "<table border=\"1\" class=\"dataframe\">\n",
       "  <thead>\n",
       "    <tr style=\"text-align: right;\">\n",
       "      <th></th>\n",
       "      <th>conforto_termico</th>\n",
       "      <th>count</th>\n",
       "      <th>max</th>\n",
       "      <th>min</th>\n",
       "    </tr>\n",
       "  </thead>\n",
       "  <tbody>\n",
       "    <tr>\n",
       "      <th>0</th>\n",
       "      <td>abaixo</td>\n",
       "      <td>1665</td>\n",
       "      <td>24.499552</td>\n",
       "      <td>22.191805</td>\n",
       "    </tr>\n",
       "    <tr>\n",
       "      <th>1</th>\n",
       "      <td>acima</td>\n",
       "      <td>1104</td>\n",
       "      <td>26.785048</td>\n",
       "      <td>25.500530</td>\n",
       "    </tr>\n",
       "    <tr>\n",
       "      <th>2</th>\n",
       "      <td>dentro</td>\n",
       "      <td>2271</td>\n",
       "      <td>25.500000</td>\n",
       "      <td>24.500000</td>\n",
       "    </tr>\n",
       "  </tbody>\n",
       "</table>\n",
       "</div>"
      ],
      "text/plain": [
       "  conforto_termico  count        max        min\n",
       "0           abaixo   1665  24.499552  22.191805\n",
       "1            acima   1104  26.785048  25.500530\n",
       "2           dentro   2271  25.500000  24.500000"
      ]
     },
     "execution_count": 17,
     "metadata": {},
     "output_type": "execute_result"
    }
   ],
   "source": [
    "grouped_temp = df_01.groupby(['conforto_termico']).Temperatura.agg(['count', 'max', 'min']).reset_index()\n",
    "grouped_temp"
   ]
  },
  {
   "cell_type": "code",
   "execution_count": 18,
   "metadata": {},
   "outputs": [],
   "source": [
    "def make_autopct(values):\n",
    "    #values -> valores enviados\n",
    "    def my_autopct(pct):\n",
    "        #pct -> %\n",
    "        total = sum(values)\n",
    "        val = int(round(pct*total/100.0))\n",
    "        return '{p:.2f}%\\n({v:d})'.format(p=pct,v=val)\n",
    "    return my_autopct"
   ]
  },
  {
   "cell_type": "code",
   "execution_count": 22,
   "metadata": {},
   "outputs": [
    {
     "data": {
      "text/plain": [
       "(-1.25, 1.25, -1.25, 1.25)"
      ]
     },
     "execution_count": 22,
     "metadata": {},
     "output_type": "execute_result"
    },
    {
     "data": {
      "image/png": "[encoded data removed]",
      "text/plain": [
       "<Figure size 432x288 with 1 Axes>"
      ]
     },
     "metadata": {},
     "output_type": "display_data"
    }
   ],
   "source": [
    "df_01.groupby(['conforto_termico']).Temperatura.count().plot(kind='pie', subplots=True, autopct=make_autopct(grouped_temp['count']))\n"
   ]
  },
  {
   "cell_type": "code",
   "execution_count": 20,
   "metadata": {},
   "outputs": [
    {
     "data": {
      "text/html": [
       "<div>\n",
       "<style scoped>\n",
       "    .dataframe tbody tr th:only-of-type {\n",
       "        vertical-align: middle;\n",
       "    }\n",
       "\n",
       "    .dataframe tbody tr th {\n",
       "        vertical-align: top;\n",
       "    }\n",
       "\n",
       "    .dataframe thead th {\n",
       "        text-align: right;\n",
       "    }\n",
       "</style>\n",
       "<table border=\"1\" class=\"dataframe\">\n",
       "  <thead>\n",
       "    <tr style=\"text-align: right;\">\n",
       "      <th></th>\n",
       "      <th>Compressor</th>\n",
       "      <th>count</th>\n",
       "    </tr>\n",
       "  </thead>\n",
       "  <tbody>\n",
       "    <tr>\n",
       "      <th>0</th>\n",
       "      <td>0.0</td>\n",
       "      <td>4202</td>\n",
       "    </tr>\n",
       "    <tr>\n",
       "      <th>1</th>\n",
       "      <td>1.0</td>\n",
       "      <td>838</td>\n",
       "    </tr>\n",
       "  </tbody>\n",
       "</table>\n",
       "</div>"
      ],
      "text/plain": [
       "   Compressor  count\n",
       "0         0.0   4202\n",
       "1         1.0    838"
      ]
     },
     "execution_count": 20,
     "metadata": {},
     "output_type": "execute_result"
    }
   ],
   "source": [
    "grouped_comp = df_01.groupby(['Compressor']).Compressor.agg(['count']).reset_index()\n",
    "grouped_comp"
   ]
  },
  {
   "cell_type": "code",
   "execution_count": 21,
   "metadata": {},
   "outputs": [
    {
     "data": {
      "text/plain": [
       "(-1.25, 1.25, -1.25, 1.25)"
      ]
     },
     "execution_count": 21,
     "metadata": {},
     "output_type": "execute_result"
    },
    {
     "data": {
      "image/png": "[encoded data removed]",
      "text/plain": [
       "<Figure size 432x288 with 1 Axes>"
      ]
     },
     "metadata": {},
     "output_type": "display_data"
    }
   ],
   "source": [
    "df_01.groupby(['Compressor']).Compressor.count().plot(kind='pie', subplots=True, autopct=make_autopct(grouped_comp['count']))\n",
    "plt.axis('off')"
   ]
  },
  {
   "cell_type": "code",
   "execution_count": null,
   "metadata": {},
   "outputs": [],
   "source": []
  }
 ],
 "metadata": {
  "kernelspec": {
   "display_name": "Python 3",
   "language": "python",
   "name": "python3"
  },
  "language_info": {
   "codemirror_mode": {
    "name": "ipython",
    "version": 3
   },
   "file_extension": ".py",
   "mimetype": "text/x-python",
   "name": "python",
   "nbconvert_exporter": "python",
   "pygments_lexer": "ipython3",
   "version": "3.6.6"
  }
 },
 "nbformat": 4,
 "nbformat_minor": 2
}
