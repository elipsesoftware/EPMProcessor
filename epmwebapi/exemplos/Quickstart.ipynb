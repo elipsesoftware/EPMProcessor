{
 "cells": [
  {
   "cell_type": "markdown",
   "metadata": {},
   "source": [
    "### Quickstart - Dicas básicas para entendimento e início de desenvolvimento"
   ]
  },
  {
   "cell_type": "markdown",
   "metadata": {},
   "source": [
    "**Conectando ao EPM Webserver**"
   ]
  },
  {
   "cell_type": "code",
   "execution_count": 13,
   "metadata": {},
   "outputs": [],
   "source": [
    "import epmwebapi as epm\n",
    "import numpy as np\n",
    "import datetime\n",
    "\n",
    "#crie o objeto de conexão informando os endereços do EPM Webserver(Authentication Port e WEB API Port), usuário e senha.\n",
    "connection = epm.EpmConnection('http://localhost:44333', 'http://localhost:44332', 'sa', 'psw')\n"
   ]
  },
  {
   "cell_type": "markdown",
   "metadata": {},
   "source": [
    "**Leitura de dados brutos(Raw)**\n",
    "\n"
   ]
  },
  {
   "cell_type": "code",
   "execution_count": 14,
   "metadata": {},
   "outputs": [
    {
     "name": "stdout",
     "output_type": "stream",
     "text": [
      "[(24.4, datetime.datetime(2018, 10, 11, 9, 53, 38, tzinfo=datetime.timezone.utc), 0)\n",
      " (24.3, datetime.datetime(2018, 10, 11, 9, 53, 58, tzinfo=datetime.timezone.utc), 0)\n",
      " (24.4, datetime.datetime(2018, 10, 11, 9, 54, 18, tzinfo=datetime.timezone.utc), 0)\n",
      " (24.5, datetime.datetime(2018, 10, 11, 10, 0, 38, tzinfo=datetime.timezone.utc), 0)\n",
      " (24.6, datetime.datetime(2018, 10, 11, 10, 8, 38, tzinfo=datetime.timezone.utc), 0)\n",
      " (24.7, datetime.datetime(2018, 10, 11, 10, 15, 18, tzinfo=datetime.timezone.utc), 0)\n",
      " (24.8, datetime.datetime(2018, 10, 11, 10, 22, 59, tzinfo=datetime.timezone.utc), 0)\n",
      " (24.9, datetime.datetime(2018, 10, 11, 10, 28, 59, tzinfo=datetime.timezone.utc), 0)\n",
      " (25. , datetime.datetime(2018, 10, 11, 10, 36, 19, tzinfo=datetime.timezone.utc), 0)\n",
      " (25.1, datetime.datetime(2018, 10, 11, 10, 43, 39, tzinfo=datetime.timezone.utc), 0)\n",
      " (25.2, datetime.datetime(2018, 10, 11, 10, 49, 19, tzinfo=datetime.timezone.utc), 0)]\n"
     ]
    }
   ],
   "source": [
    "bvname = 'ADM_Temperature'\n",
    "\n",
    "bv = connection.getDataObjects([bvname])\n",
    "\n",
    "end_date = datetime.datetime.now()\n",
    "ini_date= end_date - datetime.timedelta(hours=1)\n",
    "queryPeriod = epm.QueryPeriod(ini_date,end_date)\n",
    "\n",
    "data = bv[bvname].historyReadRaw(queryPeriod)\n",
    "\n",
    "print(data)\n"
   ]
  },
  {
   "cell_type": "markdown",
   "metadata": {},
   "source": [
    "**Leitura usando agregação de dados (Baseados na norma OPC UA)**\n",
    "Para informações sobre os tipos de agregações, consulte o Apêndice A do Guia do Usuário: https://github.com/elipsesoftware/epmprocessor/blob/master/guiadousuario/Agregacoes.md"
   ]
  },
  {
   "cell_type": "code",
   "execution_count": 15,
   "metadata": {},
   "outputs": [
    {
     "name": "stdout",
     "output_type": "stream",
     "text": [
      "[(24.396067, datetime.datetime(2018, 10, 11, 9, 53, 23, 841961, tzinfo=tzutc()), 0)\n",
      " (24.464695, datetime.datetime(2018, 10, 11, 9, 58, 23, 841961, tzinfo=tzutc()), 0)\n",
      " (24.53455 , datetime.datetime(2018, 10, 11, 10, 3, 23, 841961, tzinfo=tzutc()), 0)\n",
      " (24.597052, datetime.datetime(2018, 10, 11, 10, 8, 23, 841961, tzinfo=tzutc()), 0)\n",
      " (24.671461, datetime.datetime(2018, 10, 11, 10, 13, 23, 841961, tzinfo=tzutc()), 0)\n",
      " (24.740313, datetime.datetime(2018, 10, 11, 10, 18, 23, 841961, tzinfo=tzutc()), 0)\n",
      " (24.8069  , datetime.datetime(2018, 10, 11, 10, 23, 23, 841961, tzinfo=tzutc()), 0)\n",
      " (24.890234, datetime.datetime(2018, 10, 11, 10, 28, 23, 841961, tzinfo=tzutc()), 0)\n",
      " (24.960192, datetime.datetime(2018, 10, 11, 10, 33, 23, 841961, tzinfo=tzutc()), 0)\n",
      " (25.028374, datetime.datetime(2018, 10, 11, 10, 38, 23, 841961, tzinfo=tzutc()), 0)\n",
      " (25.096556, datetime.datetime(2018, 10, 11, 10, 43, 23, 841961, tzinfo=tzutc()), 0)\n",
      " (25.183777, datetime.datetime(2018, 10, 11, 10, 48, 23, 841961, tzinfo=tzutc()), 0)]\n"
     ]
    }
   ],
   "source": [
    "bvname = 'ADM_Temperature'\n",
    "\n",
    "bv = connection.getDataObjects([bvname])\n",
    "\n",
    "end_date = datetime.datetime.now()\n",
    "ini_date= end_date - datetime.timedelta(hours=1)\n",
    "\n",
    "queryPeriod = epm.QueryPeriod(ini_date,end_date)\n",
    "\n",
    "processInterval = datetime.timedelta(seconds=300)\n",
    "aggDetails = epm.AggregateDetails(processInterval, epm.AggregateType.Interpolative)\n",
    "\n",
    "\n",
    "data = bv[bvname].historyReadAggregate(aggDetails, queryPeriod)\n",
    "\n",
    "print(data)"
   ]
  },
  {
   "cell_type": "markdown",
   "metadata": {},
   "source": [
    "**Escrita de conjuntos de dados históricos no EPM Server**\n"
   ]
  },
  {
   "cell_type": "code",
   "execution_count": null,
   "metadata": {},
   "outputs": [],
   "source": [
    "import epmwebapi as epm\n",
    "import numpy as np\n",
    "\n",
    "bvname = 'bvname'\n",
    "\n",
    "connection = epm.EpmConnection('http://localhost:44333', 'http://localhost:44332', 'sa', 'Epm2017')\n",
    "\n",
    "bv = connection.getDataObjects([bvname])\n",
    "\n",
    "#some values for write tests\n",
    "newvalues = [50,60,30,40,10]\n",
    "base = datetime.datetime(2018, 1, 1)\n",
    "newdates = np.array([base + datetime.timedelta(hours=i) for i in range(5)])\n",
    "\n",
    "# epm ndarray data format.\n",
    "desc = np.dtype([('Value', '>f8'), ('Timestamp', 'object'), ('Quality', '>i4')])\n",
    "datatemp = np.empty(len(newvalues), dtype=desc)\n",
    "\n",
    "#loop to populate the object before send to EPM\n",
    "i=0\n",
    "while i < len(newvalues):\n",
    "    datatemp['Value'][i] = newvalues[i]\n",
    "    datatemp['Timestamp'][i] = newdates[i]\n",
    "    datatemp['Quality'][i] = 0\n",
    "    i = i+1\n",
    "    \n",
    "bv[bvname].historyUpdate(datatemp)"
   ]
  },
  {
   "cell_type": "markdown",
   "metadata": {},
   "source": [
    "**Escrita de valores no EPM Server**"
   ]
  },
  {
   "cell_type": "code",
   "execution_count": null,
   "metadata": {},
   "outputs": [],
   "source": [
    "import epmwebapi as epm\n",
    "\n",
    "bvname = 'bvname'\n",
    "\n",
    "connection = epm.EpmConnection('http://localhost:44333', 'http://localhost:44332', 'sa', 'Epm2017')\n",
    "\n",
    "bv = connection.getDataObjects([bvname])\n",
    "\n",
    "date = datetime.datetime.now()\n",
    "value = 100\n",
    "quality = 0 #zero is Good in OPC UA\n",
    "\n",
    "\n",
    "bv[bvname].write(value, date, quality)\n"
   ]
  },
  {
   "cell_type": "markdown",
   "metadata": {},
   "source": [
    "**Filtro de variáveis**"
   ]
  },
  {
   "cell_type": "code",
   "execution_count": 19,
   "metadata": {},
   "outputs": [
    {
     "name": "stdout",
     "output_type": "stream",
     "text": [
      "OrderedDict([('ADM_Temperature', <epmwebapi.epmdataobject.EpmDataObject object at 0x0000018D459444A8>), ('TI_Temperature', <epmwebapi.epmdataobject.EpmDataObject object at 0x0000018D45944AC8>), ('TechnicalSupportTemperature', <epmwebapi.epmdataobject.EpmDataObject object at 0x0000018D459442E8>), ('E3Dev_Temperature', <epmwebapi.epmdataobject.EpmDataObject object at 0x0000018D459440F0>), ('EPMDev_Temperature', <epmwebapi.epmdataobject.EpmDataObject object at 0x0000018D45944358>), ('MeetingRoom11th_Temperature', <epmwebapi.epmdataobject.EpmDataObject object at 0x0000018D459442B0>), ('MeetingRoom10th_Temperature', <epmwebapi.epmdataobject.EpmDataObject object at 0x0000018D459441D0>), ('PowerDev_Temperature', <epmwebapi.epmdataobject.EpmDataObject object at 0x0000018D459443C8>), ('TIServidores_Temperature', <epmwebapi.epmdataobject.EpmDataObject object at 0x0000018D3DFB07B8>), ('Auditorio_Temperature', <epmwebapi.epmdataobject.EpmDataObject object at 0x0000018D4595DDA0>), ('Treinamento_Temperature', <epmwebapi.epmdataobject.EpmDataObject object at 0x0000018D4595DEB8>), ('MeetingRoom12th_Temperature', <epmwebapi.epmdataobject.EpmDataObject object at 0x0000018D4595DFD0>), ('Dev12th_Temperature', <epmwebapi.epmdataobject.EpmDataObject object at 0x0000018D4595DEF0>), ('MobileDev_Temperature', <epmwebapi.epmdataobject.EpmDataObject object at 0x0000018D4595D630>), ('Dev11th_Temperature', <epmwebapi.epmdataobject.EpmDataObject object at 0x0000018D4595DBE0>), ('EPMDev_Temperature_Pred', <epmwebapi.epmdataobject.EpmDataObject object at 0x0000018D4595D278>)])\n"
     ]
    }
   ],
   "source": [
    "from epmwebapi.dataobjectattributes import DataObjectAttributes\n",
    "from epmwebapi.dataobjectsfilter import DataObjectsFilter\n",
    "from epmwebapi.dataobjectsfilter import DataObjectsFilterType\n",
    "from epmwebapi.domainfilter import DomainFilter\n",
    "\n",
    "Filter = DataObjectsFilter(DataObjectsFilterType.BasicVariable, '*Temperature*', None, None, DomainFilter.Continuous)\n",
    "\n",
    "properties = DataObjectAttributes.Description | DataObjectAttributes.LowLimit | DataObjectAttributes.HighLimit | DataObjectAttributes.EU\n",
    "\n",
    "query = connection.filterDataObjects(doFilter, properties)\n",
    "\n",
    "#this query returns an OrderedDict\n",
    "print(query)\n"
   ]
  }
 ],
 "metadata": {
  "kernelspec": {
   "display_name": "Python 3",
   "language": "python",
   "name": "python3"
  },
  "language_info": {
   "codemirror_mode": {
    "name": "ipython",
    "version": 3
   },
   "file_extension": ".py",
   "mimetype": "text/x-python",
   "name": "python",
   "nbconvert_exporter": "python",
   "pygments_lexer": "ipython3",
   "version": "3.6.6"
  }
 },
 "nbformat": 4,
 "nbformat_minor": 2
}
