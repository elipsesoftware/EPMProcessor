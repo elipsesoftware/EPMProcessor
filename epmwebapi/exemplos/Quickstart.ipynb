{
 "cells": [
  {
   "cell_type": "markdown",
   "metadata": {},
   "source": [
    "### Quickstart - Dicas básicas para entendimento e início de desenvolvimento"
   ]
  },
  {
   "cell_type": "markdown",
   "metadata": {},
   "source": [
    "**Conectando ao EPM Webserver**"
   ]
  },
  {
   "cell_type": "code",
   "execution_count": 3,
   "metadata": {},
   "outputs": [
    {
     "name": "stdout",
     "output_type": "stream",
     "text": [
      "EPM user:sa\n",
      "EPM password:········\n"
     ]
    }
   ],
   "source": [
    "import epmwebapi as epm\n",
    "import numpy as np\n",
    "import datetime\n",
    "\n",
    "##Método para não expor usuário e senha do EPM no código fonte\n",
    "import getpass\n",
    "user = input('EPM user:')\n",
    "password = getpass.getpass(\"EPM password:\")\n",
    "\n",
    "#crie o objeto de conexão informando os endereços do EPM Webserver(Authentication Port e WEB API Port), usuário e senha.\n",
    "connection = epm.EpmConnection('http://localhost:44333', 'http://localhost:44332', user, password)\n"
   ]
  },
  {
   "cell_type": "markdown",
   "metadata": {},
   "source": [
    "**Leitura de dados históricos brutos(Raw)**"
   ]
  },
  {
   "cell_type": "code",
   "execution_count": 4,
   "metadata": {},
   "outputs": [
    {
     "name": "stdout",
     "output_type": "stream",
     "text": [
      "[]\n"
     ]
    }
   ],
   "source": [
    "bvname = 'ADM_Temperature'\n",
    "\n",
    "bv = connection.getDataObjects([bvname])\n",
    "\n",
    "end_date = datetime.datetime.now()\n",
    "ini_date= end_date - datetime.timedelta(minutes=10)\n",
    "queryPeriod = epm.QueryPeriod(ini_date,end_date)\n",
    "\n",
    "data = bv[bvname].historyReadRaw(queryPeriod)\n",
    "\n",
    "print(data)\n"
   ]
  },
  {
   "cell_type": "markdown",
   "metadata": {},
   "source": [
    "**Leitura usando agregação de dados (Baseados na norma OPC UA)**\n",
    "Para informações sobre os tipos de agregações, consulte o Apêndice A do Guia do Usuário: https://github.com/elipsesoftware/epmprocessor/blob/master/guiadousuario/Agregacoes.md"
   ]
  },
  {
   "cell_type": "code",
   "execution_count": 5,
   "metadata": {},
   "outputs": [
    {
     "name": "stdout",
     "output_type": "stream",
     "text": [
      "[(26.37188 , datetime.datetime(2018, 11, 6, 13, 17, 55, 383483, tzinfo=tzutc()), 0)\n",
      " (26.60276 , datetime.datetime(2018, 11, 6, 13, 27, 55, 383483, tzinfo=tzutc()), 0)\n",
      " (26.711302, datetime.datetime(2018, 11, 6, 13, 37, 55, 383483, tzinfo=tzutc()), 0)\n",
      " (26.855967, datetime.datetime(2018, 11, 6, 13, 47, 55, 383483, tzinfo=tzutc()), 0)\n",
      " (26.821869, datetime.datetime(2018, 11, 6, 13, 57, 55, 383483, tzinfo=tzutc()), 0)\n",
      " (26.781046, datetime.datetime(2018, 11, 6, 14, 7, 55, 383483, tzinfo=tzutc()), 0)]\n"
     ]
    }
   ],
   "source": [
    "bvname = 'ADM_Temperature'\n",
    "\n",
    "bv = connection.getDataObjects([bvname])\n",
    "\n",
    "end_date = datetime.datetime.now()\n",
    "ini_date= end_date - datetime.timedelta(hours=1)\n",
    "\n",
    "queryPeriod = epm.QueryPeriod(ini_date,end_date)\n",
    "\n",
    "processInterval = datetime.timedelta(minutes=10)\n",
    "aggDetails = epm.AggregateDetails(processInterval, epm.AggregateType.Interpolative)\n",
    "\n",
    "\n",
    "data = bv[bvname].historyReadAggregate(aggDetails, queryPeriod)\n",
    "\n",
    "print(data)"
   ]
  },
  {
   "cell_type": "markdown",
   "metadata": {},
   "source": [
    "**Escrita de conjuntos de dados históricos no EPM Server**\n"
   ]
  },
  {
   "cell_type": "code",
   "execution_count": null,
   "metadata": {},
   "outputs": [],
   "source": [
    "import numpy as np\n",
    "\n",
    "bvname = 'bvname'\n",
    "\n",
    "bv = connection.getDataObjects([bvname])\n",
    "\n",
    "#some values for write tests\n",
    "newvalues = [50,60,30,40,10]\n",
    "base = datetime.datetime(2018, 1, 1)\n",
    "newdates = np.array([base + datetime.timedelta(hours=i) for i in range(5)])\n",
    "\n",
    "# epm ndarray data format.\n",
    "desc = np.dtype([('Value', '>f8'), ('Timestamp', 'object'), ('Quality', '>i4')])\n",
    "datatemp = np.empty(len(newvalues), dtype=desc)\n",
    "\n",
    "#loop to populate the object before send to EPM\n",
    "i=0\n",
    "while i < len(newvalues):\n",
    "    datatemp['Value'][i] = newvalues[i]\n",
    "    datatemp['Timestamp'][i] = newdates[i]\n",
    "    datatemp['Quality'][i] = 0\n",
    "    i = i+1\n",
    "    \n",
    "bv[bvname].historyUpdate(datatemp)"
   ]
  },
  {
   "cell_type": "markdown",
   "metadata": {},
   "source": [
    "**Escrita de valores no EPM Server**"
   ]
  },
  {
   "cell_type": "code",
   "execution_count": null,
   "metadata": {},
   "outputs": [],
   "source": [
    "bvname = 'bvname'\n",
    "\n",
    "bv = connection.getDataObjects([bvname])\n",
    "\n",
    "date = datetime.datetime.now()\n",
    "value = 100\n",
    "quality = 0 #zero is Good in OPC UA\n",
    "\n",
    "bv[bvname].write(value, date, quality)\n"
   ]
  },
  {
   "cell_type": "markdown",
   "metadata": {},
   "source": [
    "**Leitura do valor de tempo real da variável**"
   ]
  },
  {
   "cell_type": "code",
   "execution_count": 15,
   "metadata": {},
   "outputs": [
    {
     "name": "stdout",
     "output_type": "stream",
     "text": [
      "25.299999237060547\n",
      "2018-11-06T16:22:06.94Z\n"
     ]
    }
   ],
   "source": [
    "bvname = 'ADM_Temperature'\n",
    "\n",
    "bv = connection.getDataObjects(bvname)\n",
    "\n",
    "data = bv[bvname].read()\n",
    "\n",
    "print(data.value)\n",
    "print(data.timestamp)"
   ]
  },
  {
   "cell_type": "markdown",
   "metadata": {},
   "source": [
    "**Filtro de variáveis**\n",
    "\n",
    "Vamos ler todas as variáveis do tipo Basic Variable, que contenha \"Temperature\" no final do nome e estejam configuradas com o tipo Continuous."
   ]
  },
  {
   "cell_type": "code",
   "execution_count": 16,
   "metadata": {
    "scrolled": true
   },
   "outputs": [
    {
     "name": "stdout",
     "output_type": "stream",
     "text": [
      "ADM_Temperature >>> 25.200000762939453\n",
      "TI_Temperature >>> 24.899999618530273\n",
      "TechnicalSupportTemperature >>> 24.399999618530273\n",
      "E3Dev_Temperature >>> 24.100000381469727\n",
      "EPMDev_Temperature >>> 24.200000762939453\n",
      "MeetingRoom11th_Temperature >>> 26.200000762939453\n",
      "MeetingRoom10th_Temperature >>> 26.100000381469727\n",
      "PowerDev_Temperature >>> 24.200000762939453\n",
      "TIServidores_Temperature >>> 19.600000381469727\n",
      "Auditorio_Temperature >>> 22.5\n",
      "Treinamento_Temperature >>> 26.200000762939453\n",
      "MeetingRoom12th_Temperature >>> 26.100000381469727\n",
      "Dev12th_Temperature >>> 22.5\n",
      "MobileDev_Temperature >>> 21.799999237060547\n",
      "Dev11th_Temperature >>> 24.399999618530273\n"
     ]
    }
   ],
   "source": [
    "from epmwebapi.dataobjectattributes import DataObjectAttributes\n",
    "from epmwebapi.dataobjectsfilter import DataObjectsFilter\n",
    "from epmwebapi.dataobjectsfilter import DataObjectsFilterType\n",
    "from epmwebapi.domainfilter import DomainFilter\n",
    "\n",
    "Filter = DataObjectsFilter(DataObjectsFilterType.BasicVariable, '*Temperature', None, None, DomainFilter.Continuous)\n",
    "\n",
    "properties = DataObjectAttributes.Description | DataObjectAttributes.LowLimit | DataObjectAttributes.HighLimit | DataObjectAttributes.EU\n",
    "#A query retorna um OrderedDict\n",
    "query = connection.filterDataObjects(Filter, properties)\n",
    "\n",
    "\n",
    "#percorre todos as variáveis encontradas e executa o método read()\n",
    "for item in list(query.values()):\n",
    "    \n",
    "    data = item.read()\n",
    "    print('{} >>> {}'.format(item.name,data.value))   \n"
   ]
  },
  {
   "cell_type": "markdown",
   "metadata": {},
   "source": [
    "**Percorrendo a estrutura do Elipse DataModel** \n",
    "\n",
    "O Elipse DataModel replica a estrutura dos sistemas SCADA **E3** e **Elipse Power** e automatiza a expansão. Isso facilita  a elaboração de análises que se adaptam ao crescimento contínuo do sistema, como a entrada de mais variáveis e estruturas.\n",
    "Essa é a estrutura do ECC, sistema de dados da Elipse, vamos percorrer a estrutura para encontra a propriedade Description de cada filial: \n",
    "![ECC DataModel](./images/datamodel_elipse.png)\n"
   ]
  },
  {
   "cell_type": "code",
   "execution_count": 17,
   "metadata": {
    "scrolled": true
   },
   "outputs": [
    {
     "name": "stdout",
     "output_type": "stream",
     "text": [
      "Elipse Software - Filial SP\n",
      "Elipse Software - Filial RJ\n",
      "Elipse Software - Filial Taiwan\n",
      "Elipse Software - Filial MG\n",
      "Elipse Software - Matriz RS\n",
      "Elipse Software - Filial PR\n"
     ]
    }
   ],
   "source": [
    "#endereço da raiz da estrutura do EPM\n",
    "basePath = '/Models/ElipseDataModel/DataModel/Elipse'\n",
    "\n",
    "#busca do endereço no EPM Server\n",
    "itens = connection.getObjects(basePath)\n",
    "\n",
    "#percorre a lista de itens da raiz\n",
    "for item in list(itens.values()):    \n",
    "    \n",
    "    #lista o primeiro nível\n",
    "    filiais = list(item.enumObjects().values())\n",
    "    \n",
    "    #percorre o segundo nível \n",
    "    for filial in filiais:\n",
    "        \n",
    "        #lista o segundo nível e escolhe a segunda propriedade(índice 1), chamada Description\n",
    "        obj = list(filial.enumProperties().values())[1]\n",
    "        \n",
    "        # faz a leitura do objeto\n",
    "        data = obj.read()\n",
    "        #imprime a propriedade value\n",
    "        print(data.value)"
   ]
  },
  {
   "cell_type": "markdown",
   "metadata": {},
   "source": [
    "**Escrevendo Anotações**\n",
    "\n",
    "A estrutura de dados do EPM permite que se escrevam anotações nas variáveis. A anotação consiste em mensagem, estampa de tempo e usuário. Nesse exemplo vamos escrever uma anotação no valor máximo da variável no período consultado."
   ]
  },
  {
   "cell_type": "code",
   "execution_count": null,
   "metadata": {},
   "outputs": [],
   "source": [
    "bvname = 'ADM_Temperature'\n",
    "\n",
    "bv = connection.getDataObjects([bvname])\n",
    "\n",
    "end_date = datetime.datetime.now()\n",
    "ini_date= end_date - datetime.timedelta(minutes=10)\n",
    "queryPeriod = epm.QueryPeriod(ini_date,end_date)\n",
    "data = bv[bvname].historyReadRaw(queryPeriod)\n",
    "\n",
    "max_value = data['Value'].max()\n",
    "\n",
    "max_index = np.argwhere(data['Value'] == max_value)\n",
    "\n",
    "print(max_index)\n",
    "\n",
    "print(data['Timestamp'][max_index][0])\n",
    "\n",
    "#escrevendo anotação\n",
    "message = 'valor maximo encontrado no periodo'\n",
    "timestamp = data['Timestamp'][max_index]\n",
    "bv[bvname].writeAnnotation(timestamp,message)"
   ]
  },
  {
   "cell_type": "markdown",
   "metadata": {},
   "source": [
    "**Consultando anotações**"
   ]
  },
  {
   "cell_type": "code",
   "execution_count": 19,
   "metadata": {},
   "outputs": [
    {
     "name": "stdout",
     "output_type": "stream",
     "text": [
      "[(datetime.datetime(2018, 10, 18, 12, 51, 39, tzinfo=tzutc()), 'sa', 'Valor mínimo encontrado em 18/10/2018'), (datetime.datetime(2018, 10, 18, 18, 4, 18, tzinfo=tzutc()), 'sa', 'Valor máximo registrado no dia 18/10/2018.')]\n"
     ]
    }
   ],
   "source": [
    "bvname = 'ADM_Temperature'\n",
    "\n",
    "bv = connection.getDataObjects([bvname])\n",
    "\n",
    "end_date = datetime.date(2018, 10, 19)\n",
    "ini_date = end_date - datetime.timedelta(hours=24)\n",
    "\n",
    "annotations = bv[bvname].readAnnotations(ini_date,end_date)\n",
    "print(annotations)"
   ]
  },
  {
   "cell_type": "markdown",
   "metadata": {},
   "source": [
    "**Fechando a conexão**\n",
    "\n",
    "É importante fechar a conexão para liberá-la para outros possíveis clients."
   ]
  },
  {
   "cell_type": "code",
   "execution_count": null,
   "metadata": {},
   "outputs": [],
   "source": [
    "connection.close()"
   ]
  }
 ],
 "metadata": {
  "kernelspec": {
   "display_name": "Python 3",
   "language": "python",
   "name": "python3"
  },
  "language_info": {
   "codemirror_mode": {
    "name": "ipython",
    "version": 3
   },
   "file_extension": ".py",
   "mimetype": "text/x-python",
   "name": "python",
   "nbconvert_exporter": "python",
   "pygments_lexer": "ipython3",
   "version": "3.6.6"
  }
 },
 "nbformat": 4,
 "nbformat_minor": 2
}
