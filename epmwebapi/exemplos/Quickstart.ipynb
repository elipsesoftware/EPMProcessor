{
 "cells": [
  {
   "cell_type": "markdown",
   "metadata": {},
   "source": [
    "### Quickstart - Dicas básicas para entendimento e início de desenvolvimento"
   ]
  },
  {
   "cell_type": "markdown",
   "metadata": {},
   "source": [
    "**Conectando ao EPM Webserver**"
   ]
  },
  {
   "cell_type": "code",
   "execution_count": 1,
   "metadata": {},
   "outputs": [
    {
     "name": "stdout",
     "output_type": "stream",
     "text": [
      "EPM user:sa\n",
      "EPM password:········\n"
     ]
    }
   ],
   "source": [
    "import epmwebapi as epm\n",
    "import numpy as np\n",
    "import datetime\n",
    "\n",
    "##Método para não expor usuário e senha do EPM no código fonte\n",
    "import getpass\n",
    "user = input('EPM user:')\n",
    "password = getpass.getpass(\"EPM password:\")\n",
    "\n",
    "#crie o objeto de conexão informando os endereços do EPM Webserver(Authentication Port e WEB API Port), usuário e senha.\n",
    "connection = epm.EpmConnection('http://localhost:44333', 'http://localhost:44332', user, password)\n"
   ]
  },
  {
   "cell_type": "markdown",
   "metadata": {},
   "source": [
    "**Leitura de dados brutos(Raw)**\n",
    "\n"
   ]
  },
  {
   "cell_type": "code",
   "execution_count": null,
   "metadata": {},
   "outputs": [],
   "source": [
    "bvname = 'ADM_Temperature'\n",
    "\n",
    "bv = connection.getDataObjects([bvname])\n",
    "\n",
    "end_date = datetime.datetime.now()\n",
    "ini_date= end_date - datetime.timedelta(minutes=10)\n",
    "queryPeriod = epm.QueryPeriod(ini_date,end_date)\n",
    "\n",
    "data = bv[bvname].historyReadRaw(queryPeriod)\n",
    "\n",
    "print(data)\n"
   ]
  },
  {
   "cell_type": "markdown",
   "metadata": {},
   "source": [
    "**Leitura usando agregação de dados (Baseados na norma OPC UA)**\n",
    "Para informações sobre os tipos de agregações, consulte o Apêndice A do Guia do Usuário: https://github.com/elipsesoftware/epmprocessor/blob/master/guiadousuario/Agregacoes.md"
   ]
  },
  {
   "cell_type": "code",
   "execution_count": null,
   "metadata": {},
   "outputs": [],
   "source": [
    "bvname = 'ADM_Temperature'\n",
    "\n",
    "bv = connection.getDataObjects([bvname])\n",
    "\n",
    "end_date = datetime.datetime.now()\n",
    "ini_date= end_date - datetime.timedelta(hours=1)\n",
    "\n",
    "queryPeriod = epm.QueryPeriod(ini_date,end_date)\n",
    "\n",
    "processInterval = datetime.timedelta(minutes=10)\n",
    "aggDetails = epm.AggregateDetails(processInterval, epm.AggregateType.Interpolative)\n",
    "\n",
    "\n",
    "data = bv[bvname].historyReadAggregate(aggDetails, queryPeriod)\n",
    "\n",
    "print(data)"
   ]
  },
  {
   "cell_type": "markdown",
   "metadata": {},
   "source": [
    "**Escrita de conjuntos de dados históricos no EPM Server**\n"
   ]
  },
  {
   "cell_type": "code",
   "execution_count": null,
   "metadata": {},
   "outputs": [],
   "source": [
    "import numpy as np\n",
    "\n",
    "bvname = 'bvname'\n",
    "\n",
    "bv = connection.getDataObjects([bvname])\n",
    "\n",
    "#some values for write tests\n",
    "newvalues = [50,60,30,40,10]\n",
    "base = datetime.datetime(2018, 1, 1)\n",
    "newdates = np.array([base + datetime.timedelta(hours=i) for i in range(5)])\n",
    "\n",
    "# epm ndarray data format.\n",
    "desc = np.dtype([('Value', '>f8'), ('Timestamp', 'object'), ('Quality', '>i4')])\n",
    "datatemp = np.empty(len(newvalues), dtype=desc)\n",
    "\n",
    "#loop to populate the object before send to EPM\n",
    "i=0\n",
    "while i < len(newvalues):\n",
    "    datatemp['Value'][i] = newvalues[i]\n",
    "    datatemp['Timestamp'][i] = newdates[i]\n",
    "    datatemp['Quality'][i] = 0\n",
    "    i = i+1\n",
    "    \n",
    "bv[bvname].historyUpdate(datatemp)"
   ]
  },
  {
   "cell_type": "markdown",
   "metadata": {},
   "source": [
    "**Escrita de valores no EPM Server**"
   ]
  },
  {
   "cell_type": "code",
   "execution_count": null,
   "metadata": {},
   "outputs": [],
   "source": [
    "bvname = 'bvname'\n",
    "\n",
    "bv = connection.getDataObjects([bvname])\n",
    "\n",
    "date = datetime.datetime.now()\n",
    "value = 100\n",
    "quality = 0 #zero is Good in OPC UA\n",
    "\n",
    "\n",
    "bv[bvname].write(value, date, quality)\n"
   ]
  },
  {
   "cell_type": "markdown",
   "metadata": {},
   "source": [
    "**Filtro de variáveis**"
   ]
  },
  {
   "cell_type": "code",
   "execution_count": null,
   "metadata": {},
   "outputs": [],
   "source": [
    "from epmwebapi.dataobjectattributes import DataObjectAttributes\n",
    "from epmwebapi.dataobjectsfilter import DataObjectsFilter\n",
    "from epmwebapi.dataobjectsfilter import DataObjectsFilterType\n",
    "from epmwebapi.domainfilter import DomainFilter\n",
    "\n",
    "Filter = DataObjectsFilter(DataObjectsFilterType.BasicVariable, '*Temperature*', None, None, DomainFilter.Continuous)\n",
    "\n",
    "properties = DataObjectAttributes.Description | DataObjectAttributes.LowLimit | DataObjectAttributes.HighLimit | DataObjectAttributes.EU\n",
    "\n",
    "query = connection.filterDataObjects(doFilter, properties)\n",
    "\n",
    "#this query returns an OrderedDict\n",
    "print(query)\n"
   ]
  },
  {
   "cell_type": "markdown",
   "metadata": {},
   "source": [
    "**Escrevendo Anotações**\n",
    "\n",
    "A estrutura de dados do EPM permite que se escrevam anotações nas variáveis. A anotação consiste em mensagem, estampa de tempo e usuário. Nesse exemplo vamos escrever uma anotação no valor máximo da variável no período consultado."
   ]
  },
  {
   "cell_type": "code",
   "execution_count": 33,
   "metadata": {},
   "outputs": [
    {
     "ename": "ValueError",
     "evalue": "zero-size array to reduction operation maximum which has no identity",
     "output_type": "error",
     "traceback": [
      "\u001b[1;31m---------------------------------------------------------------------------\u001b[0m",
      "\u001b[1;31mValueError\u001b[0m                                Traceback (most recent call last)",
      "\u001b[1;32m<ipython-input-33-fb95031b85e4>\u001b[0m in \u001b[0;36m<module>\u001b[1;34m\u001b[0m\n\u001b[0;32m      8\u001b[0m \u001b[0mdata\u001b[0m \u001b[1;33m=\u001b[0m \u001b[0mbv\u001b[0m\u001b[1;33m[\u001b[0m\u001b[0mbvname\u001b[0m\u001b[1;33m]\u001b[0m\u001b[1;33m.\u001b[0m\u001b[0mhistoryReadRaw\u001b[0m\u001b[1;33m(\u001b[0m\u001b[0mqueryPeriod\u001b[0m\u001b[1;33m)\u001b[0m\u001b[1;33m\u001b[0m\u001b[0m\n\u001b[0;32m      9\u001b[0m \u001b[1;33m\u001b[0m\u001b[0m\n\u001b[1;32m---> 10\u001b[1;33m \u001b[0mmax_value\u001b[0m \u001b[1;33m=\u001b[0m \u001b[0mdata\u001b[0m\u001b[1;33m[\u001b[0m\u001b[1;34m'Value'\u001b[0m\u001b[1;33m]\u001b[0m\u001b[1;33m.\u001b[0m\u001b[0mmax\u001b[0m\u001b[1;33m(\u001b[0m\u001b[1;33m)\u001b[0m\u001b[1;33m\u001b[0m\u001b[0m\n\u001b[0m\u001b[0;32m     11\u001b[0m \u001b[1;33m\u001b[0m\u001b[0m\n\u001b[0;32m     12\u001b[0m \u001b[0mmax_index\u001b[0m \u001b[1;33m=\u001b[0m \u001b[0mnp\u001b[0m\u001b[1;33m.\u001b[0m\u001b[0margwhere\u001b[0m\u001b[1;33m(\u001b[0m\u001b[0mdata\u001b[0m\u001b[1;33m[\u001b[0m\u001b[1;34m'Value'\u001b[0m\u001b[1;33m]\u001b[0m \u001b[1;33m==\u001b[0m \u001b[0mmax_value\u001b[0m\u001b[1;33m)\u001b[0m\u001b[1;33m\u001b[0m\u001b[0m\n",
      "\u001b[1;32mc:\\python36\\lib\\site-packages\\numpy\\core\\_methods.py\u001b[0m in \u001b[0;36m_amax\u001b[1;34m(a, axis, out, keepdims, initial)\u001b[0m\n\u001b[0;32m     26\u001b[0m def _amax(a, axis=None, out=None, keepdims=False,\n\u001b[0;32m     27\u001b[0m           initial=_NoValue):\n\u001b[1;32m---> 28\u001b[1;33m     \u001b[1;32mreturn\u001b[0m \u001b[0mumr_maximum\u001b[0m\u001b[1;33m(\u001b[0m\u001b[0ma\u001b[0m\u001b[1;33m,\u001b[0m \u001b[0maxis\u001b[0m\u001b[1;33m,\u001b[0m \u001b[1;32mNone\u001b[0m\u001b[1;33m,\u001b[0m \u001b[0mout\u001b[0m\u001b[1;33m,\u001b[0m \u001b[0mkeepdims\u001b[0m\u001b[1;33m,\u001b[0m \u001b[0minitial\u001b[0m\u001b[1;33m)\u001b[0m\u001b[1;33m\u001b[0m\u001b[0m\n\u001b[0m\u001b[0;32m     29\u001b[0m \u001b[1;33m\u001b[0m\u001b[0m\n\u001b[0;32m     30\u001b[0m def _amin(a, axis=None, out=None, keepdims=False,\n",
      "\u001b[1;31mValueError\u001b[0m: zero-size array to reduction operation maximum which has no identity"
     ]
    }
   ],
   "source": [
    "bvname = 'ADM_Temperature'\n",
    "\n",
    "bv = connection.getDataObjects([bvname])\n",
    "\n",
    "end_date = datetime.datetime.now()\n",
    "ini_date= end_date - datetime.timedelta(minutes=10)\n",
    "queryPeriod = epm.QueryPeriod(ini_date,end_date)\n",
    "data = bv[bvname].historyReadRaw(queryPeriod)\n",
    "\n",
    "max_value = data['Value'].max()\n",
    "\n",
    "max_index = np.argwhere(data['Value'] == max_value)\n",
    "\n",
    "print(max_index)\n",
    "\n",
    "print(data['Timestamp'][max_index][0])\n",
    "\n",
    "#escrevendo anotação\n",
    "message = 'valor maximo encontrado no periodo'\n",
    "timestamp = data['Timestamp'][max_index]\n",
    "bv[bvname].writeAnnotation(timestamp,message)"
   ]
  },
  {
   "cell_type": "markdown",
   "metadata": {},
   "source": [
    "**Consultando anotações**"
   ]
  },
  {
   "cell_type": "code",
   "execution_count": 10,
   "metadata": {},
   "outputs": [
    {
     "name": "stdout",
     "output_type": "stream",
     "text": [
      "Valor máximo registrado no dia 18/10/2018.\n"
     ]
    }
   ],
   "source": [
    "bvname = 'ADM_Temperature'\n",
    "\n",
    "bv = connection.getDataObjects([bvname])\n",
    "\n",
    "end_date = datetime.date(2018, 10, 19)\n",
    "ini_date = end_date - datetime.timedelta(hours=24)\n",
    "\n",
    "annotations = bv[bvname].readAnnotations(ini_date,end_date)\n",
    "print(annotations[0][2])"
   ]
  },
  {
   "cell_type": "markdown",
   "metadata": {},
   "source": [
    "**Fechando a conexão**\n",
    "\n",
    "É importante fechar a conexão para liberá-la para outros possíveis clients."
   ]
  },
  {
   "cell_type": "code",
   "execution_count": 34,
   "metadata": {},
   "outputs": [],
   "source": [
    "connection.close()"
   ]
  },
  {
   "cell_type": "code",
   "execution_count": null,
   "metadata": {},
   "outputs": [],
   "source": []
  }
 ],
 "metadata": {
  "kernelspec": {
   "display_name": "Python 3",
   "language": "python",
   "name": "python3"
  },
  "language_info": {
   "codemirror_mode": {
    "name": "ipython",
    "version": 3
   },
   "file_extension": ".py",
   "mimetype": "text/x-python",
   "name": "python",
   "nbconvert_exporter": "python",
   "pygments_lexer": "ipython3",
   "version": "3.6.6"
  }
 },
 "nbformat": 4,
 "nbformat_minor": 2
}
