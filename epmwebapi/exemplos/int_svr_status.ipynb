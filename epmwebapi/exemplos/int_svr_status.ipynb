{
 "cells": [
  {
   "cell_type": "markdown",
   "metadata": {},
   "source": [
    "# Interface de comunicação\n",
    "### Como verifricar o status de uma interface de comunicação"
   ]
  },
  {
   "cell_type": "markdown",
   "metadata": {},
   "source": [
    "#### Conectando ao EPM Web Server"
   ]
  },
  {
   "cell_type": "code",
   "execution_count": 2,
   "metadata": {
    "scrolled": true
   },
   "outputs": [
    {
     "name": "stdout",
     "output_type": "stream",
     "text": [
      "EPM user:admin\n",
      "EPM password:········\n"
     ]
    }
   ],
   "source": [
    "import epmwebapi as epm\n",
    "\n",
    "##Método para não expor usuário e senha do EPM no código fonte\n",
    "import getpass\n",
    "user = input('EPM user:')\n",
    "password = getpass.getpass(\"EPM password:\")\n",
    "\n",
    "#crie o objeto de conexão informando os endereços do EPM Webserver(Authentication Port e WEB API Port), usuário e senha.\n",
    "connection = epm.EpmConnection('http://localhost:44333', 'http://localhost:44332', user, password)"
   ]
  },
  {
   "cell_type": "markdown",
   "metadata": {},
   "source": [
    "#### Buscando a interface de comunicação desejada"
   ]
  },
  {
   "cell_type": "code",
   "execution_count": 3,
   "metadata": {
    "scrolled": true
   },
   "outputs": [
    {
     "name": "stdout",
     "output_type": "stream",
     "text": [
      "Nome da interface de comunicação: E3\n"
     ]
    }
   ],
   "source": [
    "path = '/InterfaceServers/Local/E3' # onde, 'Local' é o Interface Server e 'E3' é a interface de comunicação\n",
    "interfaceObj = epmConn.getObjects(path)[path]\n",
    "print('Nome da interface de comunicação: {}'.format(interfaceObj.name))"
   ]
  },
  {
   "cell_type": "markdown",
   "metadata": {},
   "source": [
    "#### Buscando e lendo o status da interface de comunicação\n",
    "\n",
    "##### CollectorStatus:\n",
    "             Unknown = 0,\n",
    "             Uninitialized = 1,\n",
    "             Initializing = 2,\n",
    "             InitErrorRetrying = 3,\n",
    "             Ok = 4,\n",
    "             Restarting = 5,\n",
    "             RestartErrorRetrying = 6,\n",
    "             Faulted = 7"
   ]
  },
  {
   "cell_type": "code",
   "execution_count": 4,
   "metadata": {},
   "outputs": [
    {
     "name": "stdout",
     "output_type": "stream",
     "text": [
      " Status da interface de comunicação: 4\n"
     ]
    }
   ],
   "source": [
    "props = interfaceObj.enumProperties() # pegando propriedades\n",
    "propValue = props['CollectorStatus'].read() # Lendo a propriedade do Status da interface de comunciação\n",
    "print(' Status da interface de comunicação: {}' .format(propValue.value)) # 4 está operando OK!"
   ]
  },
  {
   "cell_type": "markdown",
   "metadata": {},
   "source": [
    "#### Fechando a conexão com o EPM Web Server"
   ]
  },
  {
   "cell_type": "code",
   "execution_count": 5,
   "metadata": {
    "collapsed": true
   },
   "outputs": [],
   "source": [
    "epmConn.close()"
   ]
  }
 ],
 "metadata": {
  "kernelspec": {
   "display_name": "Python 3",
   "language": "python",
   "name": "python3"
  },
  "language_info": {
   "codemirror_mode": {
    "name": "ipython",
    "version": 3
   },
   "file_extension": ".py",
   "mimetype": "text/x-python",
   "name": "python",
   "nbconvert_exporter": "python",
   "pygments_lexer": "ipython3",
   "version": "3.6.1"
  }
 },
 "nbformat": 4,
 "nbformat_minor": 2
}
