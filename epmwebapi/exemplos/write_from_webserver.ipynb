{
 "cells": [
  {
   "cell_type": "markdown",
   "metadata": {},
   "source": [
    "**Leitura de dados do INPE**\n",
    "\n",
    "Esse endereço retorna um xml com dados climáticos dos aeroportos do Brasil. O código SBCT indica o aeroporto Afonso Pena.\n",
    "\n",
    "http://servicos.cptec.inpe.br/XML/estacao/SBCT/condicoesAtuais.xml"
   ]
  },
  {
   "cell_type": "code",
   "execution_count": 5,
   "metadata": {},
   "outputs": [
    {
     "name": "stdout",
     "output_type": "stream",
     "text": [
      "Temperatura atual: 25.0 Cº\n"
     ]
    }
   ],
   "source": [
    "url = 'http://servicos.cptec.inpe.br/XML/estacao/SBCT/condicoesAtuais.xml'\n",
    "\n",
    "from xml.etree import ElementTree\n",
    "import requests\n",
    "\n",
    "response = requests.get(url)\n",
    "tree = ElementTree.fromstring(response.content)\n",
    "temp = tree.find('temperatura').text\n",
    "\n",
    "temp = float(temp)\n",
    "print('Temperatura atual: {} Cº'.format(temp))"
   ]
  },
  {
   "cell_type": "markdown",
   "metadata": {},
   "source": [
    "**Escrita da informação no EPM**\n",
    "\n",
    "Para escrever o valor precisamos de uma variável de destino(Basic Variable), previamente criada no EPM. Para mais informações veja a seguinte seção do manual: https://github.com/elipsesoftware/epmprocessor/blob/master/guiadousuario/EPMProcessorAlgoritmos.md#escrita-de-dados-em-uma-basic-variable\n"
   ]
  },
  {
   "cell_type": "code",
   "execution_count": 4,
   "metadata": {},
   "outputs": [
    {
     "name": "stdout",
     "output_type": "stream",
     "text": [
      "EPM user:sa\n",
      "EPM password:········\n"
     ]
    }
   ],
   "source": [
    "import getpass\n",
    "import epmwebapi as epm\n",
    "import datetime\n",
    "\n",
    "#conexão ao EPM Server\n",
    "user = input('EPM user:')\n",
    "password = getpass.getpass(\"EPM password:\")\n",
    "connection = epm.EpmConnection('http://ecc.elipse.com.br:44333', 'http://ecc.elipse.com.br:44332', user, password)\n",
    "\n",
    "#busca da variável\n",
    "basic_variable = 'cwb_temp_webserver'\n",
    "bv_object = connection.getDataObjects(basic_variable)\n",
    "\n",
    "#Toda escrita precisa de valor, qualidade e estampa de tempo. \n",
    "date = datetime.datetime.now()\n",
    "quality = 0 #zero is Good in OPC UA\n",
    "\n",
    "#escrita\n",
    "bv_object[basic_variable].write(temp, date, quality)\n",
    "\n",
    "#fechando a conexão\n",
    "connection.close()"
   ]
  },
  {
   "cell_type": "code",
   "execution_count": null,
   "metadata": {},
   "outputs": [],
   "source": []
  }
 ],
 "metadata": {
  "kernelspec": {
   "display_name": "Python 3",
   "language": "python",
   "name": "python3"
  },
  "language_info": {
   "codemirror_mode": {
    "name": "ipython",
    "version": 3
   },
   "file_extension": ".py",
   "mimetype": "text/x-python",
   "name": "python",
   "nbconvert_exporter": "python",
   "pygments_lexer": "ipython3",
   "version": "3.6.6"
  }
 },
 "nbformat": 4,
 "nbformat_minor": 2
}
