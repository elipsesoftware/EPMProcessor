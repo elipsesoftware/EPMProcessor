{
 "cells": [
  {
   "cell_type": "markdown",
   "metadata": {},
   "source": [
    "**Leitura de dados do INPE**\n",
    "\n",
    "Esse endereço retorna um xml com dados climáticos dos aeroportos do Brasil. O código SBCT indica o aeroporto Afonso Pena.\n",
    "\n",
    "http://servicos.cptec.inpe.br/XML/estacao/SBCT/condicoesAtuais.xml"
   ]
  },
  {
   "cell_type": "code",
   "execution_count": 9,
   "metadata": {},
   "outputs": [
    {
     "name": "stdout",
     "output_type": "stream",
     "text": [
      "Temperatura atual: 20.0 Cº\n"
     ]
    }
   ],
   "source": [
    "url = 'http://servicos.cptec.inpe.br/XML/estacao/SBCT/condicoesAtuais.xml'\n",
    "\n",
    "from xml.etree import ElementTree\n",
    "import requests\n",
    "\n",
    "response = requests.get(url)\n",
    "tree = ElementTree.fromstring(response.content)\n",
    "temp = tree.find('temperatura').text\n",
    "\n",
    "temp = float(temp)\n",
    "print('Temperatura atual: {} Cº'.format(temp))"
   ]
  },
  {
   "cell_type": "markdown",
   "metadata": {},
   "source": [
    "**Escrita da informação no EPM**\n",
    "\n",
    "Para escrever o valor precisamos de uma variável de destino(Basic Variable), previamente criada no EPM. Para mais informações veja a seguinte seção do manual: https://github.com/elipsesoftware/epmprocessor/blob/master/guiadousuario/EPMProcessorAlgoritmos.md#escrita-de-dados-em-uma-basic-variable\n"
   ]
  },
  {
   "cell_type": "code",
   "execution_count": null,
   "metadata": {},
   "outputs": [],
   "source": [
    "#conexão ao EPM Server\n",
    "import getpass\n",
    "import epmwebapi as epm\n",
    "import datetime\n",
    "\n",
    "user = input('EPM user:')\n",
    "password = getpass.getpass(\"EPM password:\")\n",
    "connection = epm.EpmConnection('http://localhost:44333', 'http://localhost:44332', user, password)\n",
    "#busca da variável\n",
    "basic_variable = 'basic_variable_name'\n",
    "bv_object = connection.getDataObjects(basic_variable)\n",
    "\n",
    "#Toda escrita precisa de valor, qualidade e estampa de tempo. \n",
    "date = datetime.datetime.now()\n",
    "quality = 0 #zero is Good in OPC UA\n",
    "\n",
    "#escrita\n",
    "bv_object[basic_variable].write(temp, date, quality)"
   ]
  },
  {
   "cell_type": "code",
   "execution_count": null,
   "metadata": {},
   "outputs": [],
   "source": []
  }
 ],
 "metadata": {
  "kernelspec": {
   "display_name": "Python 3",
   "language": "python",
   "name": "python3"
  },
  "language_info": {
   "codemirror_mode": {
    "name": "ipython",
    "version": 3
   },
   "file_extension": ".py",
   "mimetype": "text/x-python",
   "name": "python",
   "nbconvert_exporter": "python",
   "pygments_lexer": "ipython3",
   "version": "3.6.6"
  }
 },
 "nbformat": 4,
 "nbformat_minor": 2
}
