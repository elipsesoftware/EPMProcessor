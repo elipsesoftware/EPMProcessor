{
 "cells": [
  {
   "cell_type": "code",
   "execution_count": 70,
   "metadata": {},
   "outputs": [],
   "source": [
    "import epmwebapi as epm\n",
    "import datetime as dt\n",
    "import numpy as np\n",
    "import pandas as pd\n",
    "import matplotlib.pyplot as plt\n",
    "import seaborn as sns\n",
    "from datetime import datetime\n",
    "sns.set(style=\"whitegrid\")\n",
    "%matplotlib inline"
   ]
  },
  {
   "cell_type": "code",
   "execution_count": 71,
   "metadata": {},
   "outputs": [],
   "source": [
    "import os\n",
    "credentials = os.environ.get('user_and_password_dili').split(';')\n",
    "user = credentials[0]\n",
    "password = credentials[1]\n"
   ]
  },
  {
   "cell_type": "code",
   "execution_count": 72,
   "metadata": {},
   "outputs": [],
   "source": [
    "#cria conexao\n",
    "epmConn = epm.EpmConnection('http://dili:44333', 'http://dili:44332', user, password)\n",
    "\n",
    "path = 'ADM_Temperature'\n",
    "\n",
    "#3 porque dados estão em UTC no server\n",
    "iniTime = dt.datetime(2018, 9, 24, 3, 0, 0, 0)\n",
    "endTime = iniTime + dt.timedelta(days=5)\n",
    "\n",
    "processInterval = dt.timedelta(minutes=10)\n",
    "\n",
    "queryPeriod = epm.QueryPeriod(iniTime, endTime)\n",
    "\n",
    "aggTimeAvgDetails = epm.AggregateDetails(processInterval, epm.AggregateType.TimeAverage)\n",
    "\n",
    "bv = epmConn.getDataObjects(path)\n",
    "\n",
    "result= bv[path].historyReadAggregate(aggTimeAvgDetails, queryPeriod)\n",
    "\n",
    "epmConn.close()"
   ]
  },
  {
   "cell_type": "code",
   "execution_count": 73,
   "metadata": {},
   "outputs": [
    {
     "data": {
      "text/plain": [
       "numpy.ndarray"
      ]
     },
     "execution_count": 73,
     "metadata": {},
     "output_type": "execute_result"
    }
   ],
   "source": [
    "type(result)"
   ]
  },
  {
   "cell_type": "code",
   "execution_count": 97,
   "metadata": {},
   "outputs": [
    {
     "data": {
      "text/plain": [
       "array([(25.552889, datetime.datetime(2018, 9, 24, 3, 0, tzinfo=datetime.timezone.utc), 0),\n",
       "       (25.547323, datetime.datetime(2018, 9, 24, 3, 10, tzinfo=datetime.timezone.utc), 0),\n",
       "       (25.54176 , datetime.datetime(2018, 9, 24, 3, 20, tzinfo=datetime.timezone.utc), 0),\n",
       "       (25.536194, datetime.datetime(2018, 9, 24, 3, 30, tzinfo=datetime.timezone.utc), 0),\n",
       "       (25.530628, datetime.datetime(2018, 9, 24, 3, 40, tzinfo=datetime.timezone.utc), 0)],\n",
       "      dtype=[('Value', '>f4'), ('Timestamp', 'O'), ('Quality', '>i8')])"
      ]
     },
     "execution_count": 97,
     "metadata": {},
     "output_type": "execute_result"
    }
   ],
   "source": [
    "result[0:5]"
   ]
  },
  {
   "cell_type": "markdown",
   "metadata": {},
   "source": [
    "#### Tranformação para Pandas"
   ]
  },
  {
   "cell_type": "code",
   "execution_count": 75,
   "metadata": {},
   "outputs": [],
   "source": [
    "new_Quality = result[:]['Quality'].byteswap().newbyteorder()\n",
    "new_Timestamp = result[:]['Timestamp']\n",
    "new_Value = result[:]['Value'].byteswap().newbyteorder()\n",
    "\n",
    "d = {'Value':new_Value, 'Timestamp':new_Timestamp, 'Quality':new_Quality}\n",
    "df_ADM_Temperature = pd.DataFrame(d)"
   ]
  },
  {
   "cell_type": "code",
   "execution_count": 76,
   "metadata": {},
   "outputs": [
    {
     "data": {
      "text/plain": [
       "pandas.core.frame.DataFrame"
      ]
     },
     "execution_count": 76,
     "metadata": {},
     "output_type": "execute_result"
    }
   ],
   "source": [
    "type(df_ADM_Temperature)"
   ]
  },
  {
   "cell_type": "code",
   "execution_count": 77,
   "metadata": {},
   "outputs": [
    {
     "data": {
      "text/plain": [
       "(720, 3)"
      ]
     },
     "execution_count": 77,
     "metadata": {},
     "output_type": "execute_result"
    }
   ],
   "source": [
    "df_ADM_Temperature.shape"
   ]
  },
  {
   "cell_type": "code",
   "execution_count": 78,
   "metadata": {},
   "outputs": [
    {
     "data": {
      "text/html": [
       "<div>\n",
       "<style scoped>\n",
       "    .dataframe tbody tr th:only-of-type {\n",
       "        vertical-align: middle;\n",
       "    }\n",
       "\n",
       "    .dataframe tbody tr th {\n",
       "        vertical-align: top;\n",
       "    }\n",
       "\n",
       "    .dataframe thead th {\n",
       "        text-align: right;\n",
       "    }\n",
       "</style>\n",
       "<table border=\"1\" class=\"dataframe\">\n",
       "  <thead>\n",
       "    <tr style=\"text-align: right;\">\n",
       "      <th></th>\n",
       "      <th>Value</th>\n",
       "      <th>Timestamp</th>\n",
       "      <th>Quality</th>\n",
       "    </tr>\n",
       "  </thead>\n",
       "  <tbody>\n",
       "    <tr>\n",
       "      <th>0</th>\n",
       "      <td>25.552889</td>\n",
       "      <td>2018-09-24 03:00:00+00:00</td>\n",
       "      <td>0</td>\n",
       "    </tr>\n",
       "    <tr>\n",
       "      <th>1</th>\n",
       "      <td>25.547323</td>\n",
       "      <td>2018-09-24 03:10:00+00:00</td>\n",
       "      <td>0</td>\n",
       "    </tr>\n",
       "    <tr>\n",
       "      <th>2</th>\n",
       "      <td>25.541759</td>\n",
       "      <td>2018-09-24 03:20:00+00:00</td>\n",
       "      <td>0</td>\n",
       "    </tr>\n",
       "    <tr>\n",
       "      <th>3</th>\n",
       "      <td>25.536194</td>\n",
       "      <td>2018-09-24 03:30:00+00:00</td>\n",
       "      <td>0</td>\n",
       "    </tr>\n",
       "    <tr>\n",
       "      <th>4</th>\n",
       "      <td>25.530628</td>\n",
       "      <td>2018-09-24 03:40:00+00:00</td>\n",
       "      <td>0</td>\n",
       "    </tr>\n",
       "  </tbody>\n",
       "</table>\n",
       "</div>"
      ],
      "text/plain": [
       "       Value                 Timestamp  Quality\n",
       "0  25.552889 2018-09-24 03:00:00+00:00        0\n",
       "1  25.547323 2018-09-24 03:10:00+00:00        0\n",
       "2  25.541759 2018-09-24 03:20:00+00:00        0\n",
       "3  25.536194 2018-09-24 03:30:00+00:00        0\n",
       "4  25.530628 2018-09-24 03:40:00+00:00        0"
      ]
     },
     "execution_count": 78,
     "metadata": {},
     "output_type": "execute_result"
    }
   ],
   "source": [
    "df_ADM_Temperature.head()"
   ]
  },
  {
   "cell_type": "markdown",
   "metadata": {},
   "source": [
    "#### Converte de UTC PARA LOCALTIME"
   ]
  },
  {
   "cell_type": "code",
   "execution_count": 79,
   "metadata": {},
   "outputs": [
    {
     "data": {
      "text/html": [
       "<div>\n",
       "<style scoped>\n",
       "    .dataframe tbody tr th:only-of-type {\n",
       "        vertical-align: middle;\n",
       "    }\n",
       "\n",
       "    .dataframe tbody tr th {\n",
       "        vertical-align: top;\n",
       "    }\n",
       "\n",
       "    .dataframe thead th {\n",
       "        text-align: right;\n",
       "    }\n",
       "</style>\n",
       "<table border=\"1\" class=\"dataframe\">\n",
       "  <thead>\n",
       "    <tr style=\"text-align: right;\">\n",
       "      <th></th>\n",
       "      <th>Value</th>\n",
       "      <th>Timestamp</th>\n",
       "      <th>Quality</th>\n",
       "    </tr>\n",
       "  </thead>\n",
       "  <tbody>\n",
       "    <tr>\n",
       "      <th>0</th>\n",
       "      <td>25.552889</td>\n",
       "      <td>2018-09-24 00:00:00-03:00</td>\n",
       "      <td>0</td>\n",
       "    </tr>\n",
       "    <tr>\n",
       "      <th>1</th>\n",
       "      <td>25.547323</td>\n",
       "      <td>2018-09-24 00:10:00-03:00</td>\n",
       "      <td>0</td>\n",
       "    </tr>\n",
       "    <tr>\n",
       "      <th>2</th>\n",
       "      <td>25.541759</td>\n",
       "      <td>2018-09-24 00:20:00-03:00</td>\n",
       "      <td>0</td>\n",
       "    </tr>\n",
       "    <tr>\n",
       "      <th>3</th>\n",
       "      <td>25.536194</td>\n",
       "      <td>2018-09-24 00:30:00-03:00</td>\n",
       "      <td>0</td>\n",
       "    </tr>\n",
       "    <tr>\n",
       "      <th>4</th>\n",
       "      <td>25.530628</td>\n",
       "      <td>2018-09-24 00:40:00-03:00</td>\n",
       "      <td>0</td>\n",
       "    </tr>\n",
       "  </tbody>\n",
       "</table>\n",
       "</div>"
      ],
      "text/plain": [
       "       Value                 Timestamp  Quality\n",
       "0  25.552889 2018-09-24 00:00:00-03:00        0\n",
       "1  25.547323 2018-09-24 00:10:00-03:00        0\n",
       "2  25.541759 2018-09-24 00:20:00-03:00        0\n",
       "3  25.536194 2018-09-24 00:30:00-03:00        0\n",
       "4  25.530628 2018-09-24 00:40:00-03:00        0"
      ]
     },
     "execution_count": 79,
     "metadata": {},
     "output_type": "execute_result"
    }
   ],
   "source": [
    "df_ADM_Temperature['Timestamp'] = df_ADM_Temperature['Timestamp'].dt.tz_convert('America/Sao_Paulo')\n",
    "df_ADM_Temperature.head()"
   ]
  },
  {
   "cell_type": "code",
   "execution_count": 80,
   "metadata": {},
   "outputs": [
    {
     "data": {
      "text/html": [
       "<div>\n",
       "<style scoped>\n",
       "    .dataframe tbody tr th:only-of-type {\n",
       "        vertical-align: middle;\n",
       "    }\n",
       "\n",
       "    .dataframe tbody tr th {\n",
       "        vertical-align: top;\n",
       "    }\n",
       "\n",
       "    .dataframe thead th {\n",
       "        text-align: right;\n",
       "    }\n",
       "</style>\n",
       "<table border=\"1\" class=\"dataframe\">\n",
       "  <thead>\n",
       "    <tr style=\"text-align: right;\">\n",
       "      <th></th>\n",
       "      <th>Value</th>\n",
       "      <th>Timestamp</th>\n",
       "      <th>Quality</th>\n",
       "    </tr>\n",
       "  </thead>\n",
       "  <tbody>\n",
       "    <tr>\n",
       "      <th>715</th>\n",
       "      <td>24.520828</td>\n",
       "      <td>2018-09-28 23:10:00-03:00</td>\n",
       "      <td>0</td>\n",
       "    </tr>\n",
       "    <tr>\n",
       "      <th>716</th>\n",
       "      <td>24.512363</td>\n",
       "      <td>2018-09-28 23:20:00-03:00</td>\n",
       "      <td>0</td>\n",
       "    </tr>\n",
       "    <tr>\n",
       "      <th>717</th>\n",
       "      <td>24.528654</td>\n",
       "      <td>2018-09-28 23:30:00-03:00</td>\n",
       "      <td>0</td>\n",
       "    </tr>\n",
       "    <tr>\n",
       "      <th>718</th>\n",
       "      <td>24.488466</td>\n",
       "      <td>2018-09-28 23:40:00-03:00</td>\n",
       "      <td>0</td>\n",
       "    </tr>\n",
       "    <tr>\n",
       "      <th>719</th>\n",
       "      <td>24.476021</td>\n",
       "      <td>2018-09-28 23:50:00-03:00</td>\n",
       "      <td>0</td>\n",
       "    </tr>\n",
       "  </tbody>\n",
       "</table>\n",
       "</div>"
      ],
      "text/plain": [
       "         Value                 Timestamp  Quality\n",
       "715  24.520828 2018-09-28 23:10:00-03:00        0\n",
       "716  24.512363 2018-09-28 23:20:00-03:00        0\n",
       "717  24.528654 2018-09-28 23:30:00-03:00        0\n",
       "718  24.488466 2018-09-28 23:40:00-03:00        0\n",
       "719  24.476021 2018-09-28 23:50:00-03:00        0"
      ]
     },
     "execution_count": 80,
     "metadata": {},
     "output_type": "execute_result"
    }
   ],
   "source": [
    "df_ADM_Temperature.tail()"
   ]
  },
  {
   "cell_type": "code",
   "execution_count": 81,
   "metadata": {},
   "outputs": [
    {
     "data": {
      "text/html": [
       "<div>\n",
       "<style scoped>\n",
       "    .dataframe tbody tr th:only-of-type {\n",
       "        vertical-align: middle;\n",
       "    }\n",
       "\n",
       "    .dataframe tbody tr th {\n",
       "        vertical-align: top;\n",
       "    }\n",
       "\n",
       "    .dataframe thead th {\n",
       "        text-align: right;\n",
       "    }\n",
       "</style>\n",
       "<table border=\"1\" class=\"dataframe\">\n",
       "  <thead>\n",
       "    <tr style=\"text-align: right;\">\n",
       "      <th></th>\n",
       "      <th>Value</th>\n",
       "      <th>Quality</th>\n",
       "    </tr>\n",
       "  </thead>\n",
       "  <tbody>\n",
       "    <tr>\n",
       "      <th>count</th>\n",
       "      <td>720.000000</td>\n",
       "      <td>7.200000e+02</td>\n",
       "    </tr>\n",
       "    <tr>\n",
       "      <th>mean</th>\n",
       "      <td>25.282572</td>\n",
       "      <td>1.640439e+07</td>\n",
       "    </tr>\n",
       "    <tr>\n",
       "      <th>std</th>\n",
       "      <td>0.605430</td>\n",
       "      <td>1.317919e+08</td>\n",
       "    </tr>\n",
       "    <tr>\n",
       "      <th>min</th>\n",
       "      <td>24.210070</td>\n",
       "      <td>0.000000e+00</td>\n",
       "    </tr>\n",
       "    <tr>\n",
       "      <th>25%</th>\n",
       "      <td>24.734984</td>\n",
       "      <td>0.000000e+00</td>\n",
       "    </tr>\n",
       "    <tr>\n",
       "      <th>50%</th>\n",
       "      <td>25.379034</td>\n",
       "      <td>0.000000e+00</td>\n",
       "    </tr>\n",
       "    <tr>\n",
       "      <th>75%</th>\n",
       "      <td>25.763800</td>\n",
       "      <td>0.000000e+00</td>\n",
       "    </tr>\n",
       "    <tr>\n",
       "      <th>max</th>\n",
       "      <td>27.354706</td>\n",
       "      <td>1.073742e+09</td>\n",
       "    </tr>\n",
       "  </tbody>\n",
       "</table>\n",
       "</div>"
      ],
      "text/plain": [
       "            Value       Quality\n",
       "count  720.000000  7.200000e+02\n",
       "mean    25.282572  1.640439e+07\n",
       "std      0.605430  1.317919e+08\n",
       "min     24.210070  0.000000e+00\n",
       "25%     24.734984  0.000000e+00\n",
       "50%     25.379034  0.000000e+00\n",
       "75%     25.763800  0.000000e+00\n",
       "max     27.354706  1.073742e+09"
      ]
     },
     "execution_count": 81,
     "metadata": {},
     "output_type": "execute_result"
    }
   ],
   "source": [
    "df_ADM_Temperature.describe()"
   ]
  },
  {
   "cell_type": "code",
   "execution_count": 82,
   "metadata": {},
   "outputs": [
    {
     "data": {
      "text/plain": [
       "Value                                  float32\n",
       "Timestamp    datetime64[ns, America/Sao_Paulo]\n",
       "Quality                                  int64\n",
       "dtype: object"
      ]
     },
     "execution_count": 82,
     "metadata": {},
     "output_type": "execute_result"
    }
   ],
   "source": [
    "df_ADM_Temperature.dtypes"
   ]
  },
  {
   "cell_type": "code",
   "execution_count": 83,
   "metadata": {},
   "outputs": [
    {
     "data": {
      "text/html": [
       "<div>\n",
       "<style scoped>\n",
       "    .dataframe tbody tr th:only-of-type {\n",
       "        vertical-align: middle;\n",
       "    }\n",
       "\n",
       "    .dataframe tbody tr th {\n",
       "        vertical-align: top;\n",
       "    }\n",
       "\n",
       "    .dataframe thead th {\n",
       "        text-align: right;\n",
       "    }\n",
       "</style>\n",
       "<table border=\"1\" class=\"dataframe\">\n",
       "  <thead>\n",
       "    <tr style=\"text-align: right;\">\n",
       "      <th></th>\n",
       "      <th>Value</th>\n",
       "      <th>Timestamp</th>\n",
       "      <th>Quality</th>\n",
       "    </tr>\n",
       "  </thead>\n",
       "  <tbody>\n",
       "    <tr>\n",
       "      <th>count</th>\n",
       "      <td>720.000000</td>\n",
       "      <td>720</td>\n",
       "      <td>7.200000e+02</td>\n",
       "    </tr>\n",
       "    <tr>\n",
       "      <th>unique</th>\n",
       "      <td>NaN</td>\n",
       "      <td>720</td>\n",
       "      <td>NaN</td>\n",
       "    </tr>\n",
       "    <tr>\n",
       "      <th>top</th>\n",
       "      <td>NaN</td>\n",
       "      <td>2018-09-28 07:00:00-03:00</td>\n",
       "      <td>NaN</td>\n",
       "    </tr>\n",
       "    <tr>\n",
       "      <th>freq</th>\n",
       "      <td>NaN</td>\n",
       "      <td>1</td>\n",
       "      <td>NaN</td>\n",
       "    </tr>\n",
       "    <tr>\n",
       "      <th>mean</th>\n",
       "      <td>25.282572</td>\n",
       "      <td>NaN</td>\n",
       "      <td>1.640439e+07</td>\n",
       "    </tr>\n",
       "    <tr>\n",
       "      <th>std</th>\n",
       "      <td>0.605430</td>\n",
       "      <td>NaN</td>\n",
       "      <td>1.317919e+08</td>\n",
       "    </tr>\n",
       "    <tr>\n",
       "      <th>min</th>\n",
       "      <td>24.210070</td>\n",
       "      <td>NaN</td>\n",
       "      <td>0.000000e+00</td>\n",
       "    </tr>\n",
       "    <tr>\n",
       "      <th>25%</th>\n",
       "      <td>24.734984</td>\n",
       "      <td>NaN</td>\n",
       "      <td>0.000000e+00</td>\n",
       "    </tr>\n",
       "    <tr>\n",
       "      <th>50%</th>\n",
       "      <td>25.379034</td>\n",
       "      <td>NaN</td>\n",
       "      <td>0.000000e+00</td>\n",
       "    </tr>\n",
       "    <tr>\n",
       "      <th>75%</th>\n",
       "      <td>25.763800</td>\n",
       "      <td>NaN</td>\n",
       "      <td>0.000000e+00</td>\n",
       "    </tr>\n",
       "    <tr>\n",
       "      <th>max</th>\n",
       "      <td>27.354706</td>\n",
       "      <td>NaN</td>\n",
       "      <td>1.073742e+09</td>\n",
       "    </tr>\n",
       "  </tbody>\n",
       "</table>\n",
       "</div>"
      ],
      "text/plain": [
       "             Value                  Timestamp       Quality\n",
       "count   720.000000                        720  7.200000e+02\n",
       "unique         NaN                        720           NaN\n",
       "top            NaN  2018-09-28 07:00:00-03:00           NaN\n",
       "freq           NaN                          1           NaN\n",
       "mean     25.282572                        NaN  1.640439e+07\n",
       "std       0.605430                        NaN  1.317919e+08\n",
       "min      24.210070                        NaN  0.000000e+00\n",
       "25%      24.734984                        NaN  0.000000e+00\n",
       "50%      25.379034                        NaN  0.000000e+00\n",
       "75%      25.763800                        NaN  0.000000e+00\n",
       "max      27.354706                        NaN  1.073742e+09"
      ]
     },
     "execution_count": 83,
     "metadata": {},
     "output_type": "execute_result"
    }
   ],
   "source": [
    "df_ADM_Temperature.describe(include='all')"
   ]
  },
  {
   "cell_type": "code",
   "execution_count": 84,
   "metadata": {},
   "outputs": [
    {
     "data": {
      "text/plain": [
       "<matplotlib.axes._subplots.AxesSubplot at 0x20706929128>"
      ]
     },
     "execution_count": 84,
     "metadata": {},
     "output_type": "execute_result"
    },
    {
     "data": {
      "image/png": "[encoded data removed]",
      "text/plain": [
       "<Figure size 1152x648 with 1 Axes>"
      ]
     },
     "metadata": {
      "needs_background": "light"
     },
     "output_type": "display_data"
    }
   ],
   "source": [
    "#dot notation x colchetes\n",
    "fig, ax = plt.subplots(figsize=(16,9))\n",
    "df_ADM_Temperature.Value.plot()"
   ]
  },
  {
   "cell_type": "markdown",
   "metadata": {},
   "source": [
    "### Algumas Análises"
   ]
  },
  {
   "cell_type": "code",
   "execution_count": 85,
   "metadata": {},
   "outputs": [
    {
     "data": {
      "text/plain": [
       "25.282572"
      ]
     },
     "execution_count": 85,
     "metadata": {},
     "output_type": "execute_result"
    }
   ],
   "source": [
    "df_ADM_Temperature['Value'].mean()"
   ]
  },
  {
   "cell_type": "code",
   "execution_count": 86,
   "metadata": {},
   "outputs": [
    {
     "data": {
      "text/plain": [
       "345"
      ]
     },
     "execution_count": 86,
     "metadata": {},
     "output_type": "execute_result"
    }
   ],
   "source": [
    "index_max = df_ADM_Temperature.Value.idxmax()\n",
    "index_max"
   ]
  },
  {
   "cell_type": "code",
   "execution_count": 87,
   "metadata": {},
   "outputs": [
    {
     "data": {
      "text/plain": [
       "27.354706"
      ]
     },
     "execution_count": 87,
     "metadata": {},
     "output_type": "execute_result"
    }
   ],
   "source": [
    "temp_max = df_ADM_Temperature.Value[index_max]\n",
    "temp_max"
   ]
  },
  {
   "cell_type": "code",
   "execution_count": 88,
   "metadata": {},
   "outputs": [
    {
     "data": {
      "text/plain": [
       "Timestamp('2018-09-26 09:30:00-0300', tz='America/Sao_Paulo')"
      ]
     },
     "execution_count": 88,
     "metadata": {},
     "output_type": "execute_result"
    }
   ],
   "source": [
    "timestamp_max = df_ADM_Temperature.Timestamp[index_max]\n",
    "timestamp_max"
   ]
  },
  {
   "cell_type": "code",
   "execution_count": 89,
   "metadata": {},
   "outputs": [
    {
     "data": {
      "text/plain": [
       "615"
      ]
     },
     "execution_count": 89,
     "metadata": {},
     "output_type": "execute_result"
    }
   ],
   "source": [
    "index_min = df_ADM_Temperature.Value.idxmin()\n",
    "index_min"
   ]
  },
  {
   "cell_type": "code",
   "execution_count": 90,
   "metadata": {},
   "outputs": [
    {
     "data": {
      "text/plain": [
       "24.21007"
      ]
     },
     "execution_count": 90,
     "metadata": {},
     "output_type": "execute_result"
    }
   ],
   "source": [
    "temp_min = df_ADM_Temperature.Value[index_min]\n",
    "temp_min"
   ]
  },
  {
   "cell_type": "code",
   "execution_count": 91,
   "metadata": {},
   "outputs": [
    {
     "data": {
      "text/plain": [
       "Timestamp('2018-09-28 06:30:00-0300', tz='America/Sao_Paulo')"
      ]
     },
     "execution_count": 91,
     "metadata": {},
     "output_type": "execute_result"
    }
   ],
   "source": [
    "timestamp_min = df_ADM_Temperature.Timestamp[index_min]\n",
    "timestamp_min"
   ]
  },
  {
   "cell_type": "code",
   "execution_count": 92,
   "metadata": {},
   "outputs": [],
   "source": [
    "anomalia1_timestamp = df_ADM_Temperature.Timestamp[60]\n",
    "anomalia1_temp = df_ADM_Temperature.Value[60]"
   ]
  },
  {
   "cell_type": "markdown",
   "metadata": {},
   "source": [
    "#### Gerando Gráfico"
   ]
  },
  {
   "cell_type": "code",
   "execution_count": 93,
   "metadata": {},
   "outputs": [],
   "source": [
    "#set a paleta de cores\n",
    "plt.style.use('seaborn')"
   ]
  },
  {
   "cell_type": "code",
   "execution_count": 94,
   "metadata": {},
   "outputs": [
    {
     "data": {
      "image/png": "[encoded data removed]",
      "text/plain": [
       "<Figure size 1152x648 with 1 Axes>"
      ]
     },
     "metadata": {},
     "output_type": "display_data"
    },
    {
     "data": {
      "text/plain": [
       "<Figure size 576x396 with 0 Axes>"
      ]
     },
     "metadata": {},
     "output_type": "display_data"
    }
   ],
   "source": [
    "fig, ax = plt.subplots(figsize=(16,9))\n",
    "\n",
    "#configura eixo Y com os valores da Temperatura e o eixo X com os valores de Timestamp\n",
    "ax.plot(df_ADM_Temperature.Timestamp, df_ADM_Temperature.Value, ls='-', lw=2, label='Temperatura')\n",
    "\n",
    "ax.set_ylabel('Temperatura °C', color='white', fontsize = 20, horizontalalignment='center')\n",
    "\n",
    "ax.set_title(\"Temperatura Semanal\", fontsize=25,color='white')\n",
    "\n",
    "ax.legend(loc='upper left')\n",
    "\n",
    "ax.annotate('Mínima \\n %.2f°'%temp_min,\n",
    "            (timestamp_min, temp_min),\n",
    "             xytext=(-70, 50), \n",
    "             textcoords='offset points',\n",
    "             arrowprops=dict(facecolor='black', shrink=0.05),\n",
    "             size=16, \n",
    "             color='Black'\n",
    "            ) \n",
    "\n",
    "ax.annotate('Máxima \\n %.2fº'%temp_max,\n",
    "            (timestamp_max, temp_max),\n",
    "             xytext=(-100, -70), \n",
    "             textcoords='offset points',\n",
    "             #arrowprops=dict(arrowstyle='-|>', color='black'), \n",
    "            arrowprops=dict(facecolor='black', shrink=0.05),\n",
    "             size=16, \n",
    "             color='Black'\n",
    "            ) \n",
    "\n",
    "ax.annotate('Anomalia Investigar!',\n",
    "            (anomalia1_timestamp, anomalia1_temp),\n",
    "             xytext=(-70, 50), \n",
    "             textcoords='offset points',\n",
    "             arrowprops=dict(facecolor='black', shrink=0.05),\n",
    "             size=16, \n",
    "             color='Black'\n",
    "            ) \n",
    "\n",
    "plt.xticks(rotation=30, color='white')\n",
    "plt.yticks(color='white')\n",
    "\n",
    "fig.patch.set_facecolor('#37474F')\n",
    "fig.patch.set_edgecolor('#607d8b')\n",
    "\n",
    "plt.show()\n",
    "plt.clf()"
   ]
  },
  {
   "cell_type": "code",
   "execution_count": 95,
   "metadata": {},
   "outputs": [],
   "source": [
    "from io import BytesIO\n",
    "import mimetypes\n",
    "import time"
   ]
  },
  {
   "cell_type": "code",
   "execution_count": 96,
   "metadata": {},
   "outputs": [],
   "source": [
    "#cria conexao\n",
    "epmConn = epm.EpmConnection('http://localhost:44333', 'http://localhost:44332', 'sa', 'Elipse21')\n",
    "sio = BytesIO() \n",
    "fig.savefig(sio, format=\"png\", facecolor='#37474F') \n",
    "\n",
    "epResourceManager = epmConn.getPortalResourcesManager()\n",
    "reportPath = epResourceManager.getResource(u'webinar')\n",
    "resource = reportPath.upload('chart_current.png', sio,\n",
    "                                 'Figura enviada jupyter.',\n",
    "                                 mimetypes.types_map['.png'], overrideFile=True)\n",
    "\n",
    "path = 'update_img'\n",
    "bv = epmConn.getDataObjects(path)\n",
    "wResult = bv[path].write(0, datetime.now(), 0 )\n",
    "time.sleep(2)\n",
    "wResult = bv[path].write(1, datetime.now(), 0 )\n",
    "\n",
    "epmConn.close()"
   ]
  },
  {
   "cell_type": "code",
   "execution_count": null,
   "metadata": {},
   "outputs": [],
   "source": []
  }
 ],
 "metadata": {
  "kernelspec": {
   "display_name": "Python 3",
   "language": "python",
   "name": "python3"
  },
  "language_info": {
   "codemirror_mode": {
    "name": "ipython",
    "version": 3
   },
   "file_extension": ".py",
   "mimetype": "text/x-python",
   "name": "python",
   "nbconvert_exporter": "python",
   "pygments_lexer": "ipython3",
   "version": "3.6.7"
  }
 },
 "nbformat": 4,
 "nbformat_minor": 2
}
