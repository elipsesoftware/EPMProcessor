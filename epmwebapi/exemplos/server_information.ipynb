{
 "cells": [
  {
   "cell_type": "markdown",
   "metadata": {},
   "source": [
    "# Acessando informações do EPM Server\n",
    "\n",
    "Através da epmwebapi é possível acessar não apenas dados, mas também informações e diagnósticos sobre o sistema EPM, que fazem parte do Address Space do EPM, que é um servidor OPC UA. "
   ]
  },
  {
   "cell_type": "markdown",
   "metadata": {},
   "source": [
    "### Conectando ao EPM Server"
   ]
  },
  {
   "cell_type": "code",
   "execution_count": 2,
   "metadata": {},
   "outputs": [
    {
     "name": "stdout",
     "output_type": "stream",
     "text": [
      "EPM user:sa\n",
      "EPM password:········\n"
     ]
    }
   ],
   "source": [
    "import epmwebapi as epm\n",
    "import numpy as np\n",
    "import datetime\n",
    "\n",
    "##Método para não expor usuário e senha do EPM no código fonte\n",
    "import getpass\n",
    "user = input('EPM user:')\n",
    "password = getpass.getpass(\"EPM password:\")\n",
    "\n",
    "#crie o objeto de conexão informando os endereços do EPM Webserver(Authentication Port e WEB API Port), usuário e senha.\n",
    "connection = epm.EpmConnection('http://dili:44333', 'http://dili:44332', user, password)"
   ]
  },
  {
   "cell_type": "markdown",
   "metadata": {},
   "source": [
    "### Versão do EPM Server"
   ]
  },
  {
   "cell_type": "code",
   "execution_count": 15,
   "metadata": {},
   "outputs": [
    {
     "name": "stdout",
     "output_type": "stream",
     "text": [
      "3.7.157\n"
     ]
    }
   ],
   "source": [
    "Path = '/1:ServerManagement'\n",
    "obj = connection.getObjects(Path)[Path]\n",
    "\n",
    "properties = obj.enumProperties()\n",
    "\n",
    "version = properties['Version'].read()\n",
    "\n",
    "print(version.value)\n"
   ]
  },
  {
   "cell_type": "markdown",
   "metadata": {},
   "source": [
    "### Código da Chave (Hardkey ou Softkey)"
   ]
  },
  {
   "cell_type": "code",
   "execution_count": 18,
   "metadata": {},
   "outputs": [
    {
     "name": "stdout",
     "output_type": "stream",
     "text": [
      "000000007A918173\n"
     ]
    }
   ],
   "source": [
    "Path = '/1:ServerManagement/LicenseManager'\n",
    "obj = connection.getObjects(Path)[Path]\n",
    "\n",
    "\n",
    "properties = obj.enumProperties()\n",
    "\n",
    "key = properties['LicenseIdentity'].read()\n",
    "\n",
    "print(key.value)\n"
   ]
  },
  {
   "cell_type": "markdown",
   "metadata": {},
   "source": [
    "### Varrendo a estrutura e acessando o Status dos Interface Servers\n",
    "\n",
    "Retornando o código de Status do Interface Server. Veja a descrição de cada código abaixo:\n",
    "\n",
    "Unknown = 0\n",
    "\n",
    "Uninitialized = 1\n",
    "\n",
    "Initializing = 2\n",
    "\n",
    "InitErrorRetrying = 3\n",
    "\n",
    "Ok = 4\n",
    "\n",
    "Restarting = 5\n",
    "\n",
    "RestartErrorRetrying = 6\n",
    "\n",
    "Faulted = 7\n",
    "\n"
   ]
  },
  {
   "cell_type": "code",
   "execution_count": 19,
   "metadata": {},
   "outputs": [
    {
     "name": "stdout",
     "output_type": "stream",
     "text": [
      "Número de interface: 25\n",
      "sim  - 4\n",
      "e3Automation  - 4\n",
      "ExcelWindPowerData  - 1\n",
      "DiliDiagnostics  - 4\n",
      "TaipeiDiagnostics  - 4\n",
      "BojnaDiagnostics  - 1\n",
      "AnguillaDiagnostics  - 4\n",
      "EdinburghDiagnostics  - 4\n",
      "PoipuDiagnostics  - 4\n",
      "PalawanDiagnostics  - 4\n",
      "DamkeNotificationTest  - 1\n",
      "Dmk-DB  - 1\n",
      "dataModel  - 1\n",
      "DmK_E3  - 1\n",
      "Cairo  - 1\n",
      "RaimannInterface  - 4\n",
      "Historians  - 1\n",
      "TESTESQLite  - 1\n",
      "msp_TstSqlite  - 4\n",
      "Stats  - 4\n",
      "sim1min  - 4\n",
      "Simulacao  - 4\n",
      "Damke_1seg  - 4\n",
      "MySQL_Example  - 1\n",
      "testOPCDA  - 1\n"
     ]
    }
   ],
   "source": [
    "basePath = '/1:Interfaces'\n",
    "obj = connection.getObjects(basePath)\n",
    "item = list(obj.values())[0]\n",
    "refs = connection._browse([item._itemPath], 'ns=0;i=35').references()\n",
    "for ref in refs:\n",
    "    print('Número de interface: {}'.format(len(ref)))\n",
    "    for interfaceRef in ref:\n",
    "        path = basePath + '/1:' + interfaceRef._displayName\n",
    "        tmp = connection.getObjects(path)\n",
    "        item = list(tmp.values())[0]\n",
    "        props = item.enumProperties()\n",
    "        propValue = props['CollectorStatus'].read()\n",
    "        print('{}  - {}'.format(interfaceRef._displayName, propValue.value))\n",
    "\n"
   ]
  }
 ],
 "metadata": {
  "kernelspec": {
   "display_name": "Python 3",
   "language": "python",
   "name": "python3"
  },
  "language_info": {
   "codemirror_mode": {
    "name": "ipython",
    "version": 3
   },
   "file_extension": ".py",
   "mimetype": "text/x-python",
   "name": "python",
   "nbconvert_exporter": "python",
   "pygments_lexer": "ipython3",
   "version": "3.6.7"
  }
 },
 "nbformat": 4,
 "nbformat_minor": 2
}
