{
 "cells": [
  {
   "cell_type": "markdown",
   "metadata": {},
   "source": [
    "### Regressão por árvore de decisão - Exemplo básico para predição de valores\n",
    "Para esse exemplo utilizamos a biblioteca scikit-learn."
   ]
  },
  {
   "cell_type": "code",
   "execution_count": 1,
   "metadata": {},
   "outputs": [],
   "source": [
    "import numpy as np\n",
    "import matplotlib.pyplot as plt\n",
    "import epmwebapi as epm\n",
    "import datetime\n",
    "from sklearn.tree import DecisionTreeRegressor\n",
    "import pandas as pd"
   ]
  },
  {
   "cell_type": "markdown",
   "metadata": {},
   "source": [
    "**Conecta ao EPM Webserver e busca duas variáveis interpoladas a cada 10 minutos em um período de 30 dias**"
   ]
  },
  {
   "cell_type": "code",
   "execution_count": 2,
   "metadata": {},
   "outputs": [],
   "source": [
    "import getpass\n",
    "user = input('EPM user:')\n",
    "password = getpass.getpass(\"EPM password:\")\n",
    "\n",
    "connection = epm.EpmConnection('http://localhost:44333', 'http://localhost:44332', user, password)\n",
    "\n",
    "wind = 'SP01_WindSpeedAvg'\n",
    "power = 'SP01_PowerAvg'\n",
    "initime = datetime.datetime(2014, 2, 2, 0, 0, 0, 0)\n",
    "\n",
    "endtime = initime + datetime.timedelta(days=30)\n",
    "\n",
    "bv_wind = connection.getDataObjects([wind])\n",
    "bv_power = connection.getDataObjects([power])\n",
    "\n",
    "\n",
    "\n",
    "queryperiod = epm.QueryPeriod(initime, endtime)\n",
    "processInterval = datetime.timedelta(seconds=600)\n",
    "aggregationdetails = epm.AggregateDetails(processInterval, epm.AggregateType.Interpolative)\n",
    "\n",
    "data1 = bv_power[power].historyReadAggregate(aggregationdetails, queryperiod)\n",
    "data2 = bv_wind[wind].historyReadAggregate(aggregationdetails, queryperiod)\n",
    "\n",
    "#fechando a conexão\n",
    "connection.close()"
   ]
  },
  {
   "cell_type": "markdown",
   "metadata": {},
   "source": [
    "**Converte o array para Pandas e ajusta o formato**"
   ]
  },
  {
   "cell_type": "code",
   "execution_count": 3,
   "metadata": {},
   "outputs": [],
   "source": [
    "df1 = pd.DataFrame(\n",
    "        {'Value': data1['Value'].tolist()})\n",
    "\n",
    "df2 = pd.DataFrame(\n",
    "        {'Value': data2['Value'].tolist()})\n",
    "\n",
    "y = df1.iloc[:, 0:1].values\n",
    "\n",
    "X = df2.iloc[:, 0:1].values"
   ]
  },
  {
   "cell_type": "markdown",
   "metadata": {},
   "source": [
    "**Cria valores para testar a predição**"
   ]
  },
  {
   "cell_type": "code",
   "execution_count": 4,
   "metadata": {},
   "outputs": [],
   "source": [
    "#test data to predict\n",
    "X_test = np.array([0, 3, 6, 9, 12, 15, 18])\n",
    "X_test = X_test.reshape(-1, 1)"
   ]
  },
  {
   "cell_type": "markdown",
   "metadata": {},
   "source": [
    "**Treina o modelo com profundidade 2 e 5 e realiza o teste de predição**"
   ]
  },
  {
   "cell_type": "code",
   "execution_count": 5,
   "metadata": {},
   "outputs": [],
   "source": [
    "# Fit regression model\n",
    "regr_1 = DecisionTreeRegressor(max_depth=2)\n",
    "regr_2 = DecisionTreeRegressor(max_depth=5)\n",
    "regr_1.fit(X, y)\n",
    "regr_2.fit(X, y)\n",
    "\n",
    "# Predict\n",
    "y_1 = regr_1.predict(X_test)\n",
    "      \n",
    "y_2 = regr_2.predict(X_test)"
   ]
  },
  {
   "cell_type": "markdown",
   "metadata": {},
   "source": [
    "**Plota os resultados**"
   ]
  },
  {
   "cell_type": "code",
   "execution_count": 7,
   "metadata": {},
   "outputs": [
    {
     "data": {
      "text/plain": [
       "<matplotlib.legend.Legend at 0x1fa5a15efd0>"
      ]
     },
     "execution_count": 7,
     "metadata": {},
     "output_type": "execute_result"
    },
    {
     "data": {
      "image/png": "[encoded data removed]",
      "text/plain": [
       "<Figure size 432x288 with 1 Axes>"
      ]
     },
     "metadata": {
      "needs_background": "light"
     },
     "output_type": "display_data"
    }
   ],
   "source": [
    "plt.figure()\n",
    "plt.scatter(X, y, color='red', label=\"data\")\n",
    "plt.plot(X_test, regr_1.predict(X_test), color=\"blue\", label=\"max_depth=2\", linewidth=2)\n",
    "plt.plot(X_test, regr_2.predict(X_test), color=\"yellow\", label=\"max_depth=5\", linewidth=2)\n",
    "plt.xlabel(\"Wind speed\")\n",
    "plt.ylabel(\"Power\")\n",
    "plt.title(\"Decision Tree Regression\")\n",
    "plt.legend()"
   ]
  }
 ],
 "metadata": {
  "kernelspec": {
   "display_name": "Python 3",
   "language": "python",
   "name": "python3"
  },
  "language_info": {
   "codemirror_mode": {
    "name": "ipython",
    "version": 3
   },
   "file_extension": ".py",
   "mimetype": "text/x-python",
   "name": "python",
   "nbconvert_exporter": "python",
   "pygments_lexer": "ipython3",
   "version": "3.6.6"
  }
 },
 "nbformat": 4,
 "nbformat_minor": 2
}
