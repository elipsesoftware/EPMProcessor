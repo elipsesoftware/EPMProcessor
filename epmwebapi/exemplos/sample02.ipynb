{
 "cells": [
  {
   "cell_type": "code",
   "execution_count": 56,
   "metadata": {},
   "outputs": [],
   "source": [
    "import epmwebapi as epm\n",
    "import datetime as dt\n",
    "import numpy as np\n",
    "import pandas as pd\n",
    "import matplotlib.pyplot as plt\n",
    "import seaborn as sns\n",
    "from datetime import datetime\n",
    "sns.set(style=\"whitegrid\")\n",
    "%matplotlib inline"
   ]
  },
  {
   "cell_type": "code",
   "execution_count": 57,
   "metadata": {},
   "outputs": [],
   "source": [
    "import os\n",
    "credentials = os.environ.get('user_and_password_dili').split(';')\n",
    "user = credentials[0]\n",
    "password = credentials[1]"
   ]
  },
  {
   "cell_type": "code",
   "execution_count": 58,
   "metadata": {},
   "outputs": [],
   "source": [
    "#cria conexao\n",
    "epmConn = epm.EpmConnection('http://dili:44333', 'http://dili:44332', user, password)\n",
    "\n",
    "#3 porque dados estão em UTC no server\n",
    "iniTime = dt.datetime(2018, 9, 24, 3, 0, 0, 0)\n",
    "endTime = iniTime + dt.timedelta(days=5)\n",
    "\n",
    "list_df = []\n",
    "\n",
    "paths = ['ADM_Temperature', 'ADM_TemperatureSP', 'ADM_ACCompr', 'ADM_ACVent']\n",
    "\n",
    "processInterval = dt.timedelta(minutes=10)\n",
    "\n",
    "#cria objeto queryperiod\n",
    "queryPeriod = epm.QueryPeriod(iniTime, endTime)\n",
    "\n",
    "aggInterpDetails = epm.AggregateDetails(processInterval, epm.AggregateType.Interpolative)\n",
    "aggTimeAvgDetails = epm.AggregateDetails(processInterval, epm.AggregateType.TimeAverage)\n",
    "\n",
    "for path in paths:\n",
    "        \n",
    "    bv = epmConn.getDataObjects(path)\n",
    "\n",
    "    if path == 'ADM_Temperature':\n",
    "        result= bv[path].historyReadAggregate(aggTimeAvgDetails, queryPeriod)\n",
    "    else:\n",
    "        result= bv[path].historyReadAggregate(aggInterpDetails, queryPeriod)\n",
    "    \n",
    "    #======================================================================================\n",
    "    # Transformação em DataFrame do pandas\n",
    "    #======================================================================================\n",
    "    #corrige o erro: ValueError: Big-endian buffer not supported on little-endian compiler\n",
    "    new_Quality = result[:]['Quality'].byteswap().newbyteorder()\n",
    "    new_Timestamp = result[:]['Timestamp']\n",
    "    new_Value = result[:]['Value'].byteswap().newbyteorder()\n",
    "\n",
    "    d = {'Value':new_Value, 'Timestamp':new_Timestamp, 'Quality':new_Quality}\n",
    "    df_original = pd.DataFrame(d)\n",
    "    \n",
    "    #======================================================================================\n",
    "    # Converte de UTC PARA LOCALTIME\n",
    "    #======================================================================================\n",
    "    df_original['Timestamp'] = df_original['Timestamp'].dt.tz_convert('America/Sao_Paulo')\n",
    "    \n",
    "    #array de dataframes\n",
    "    list_df.append(df_original)\n",
    "\n",
    "\n",
    "epmConn.close()"
   ]
  },
  {
   "cell_type": "code",
   "execution_count": 81,
   "metadata": {},
   "outputs": [
    {
     "data": {
      "text/plain": [
       "list"
      ]
     },
     "execution_count": 81,
     "metadata": {},
     "output_type": "execute_result"
    }
   ],
   "source": [
    "type(list_df)"
   ]
  },
  {
   "cell_type": "markdown",
   "metadata": {},
   "source": [
    "### Análise Conforto Térmico"
   ]
  },
  {
   "cell_type": "markdown",
   "metadata": {},
   "source": [
    "Filtro para horário comercial"
   ]
  },
  {
   "cell_type": "code",
   "execution_count": 82,
   "metadata": {},
   "outputs": [],
   "source": [
    "filtered_df = []\n",
    "\n",
    "for df in list_df:\n",
    "\n",
    "    mask = (\n",
    "        (df.Timestamp.dt.hour.between(8,11) | (df.Timestamp.dt.hour.between(13,18) ))\n",
    "        & (df.Quality == 0)\n",
    "    )\n",
    "\n",
    "    df_aux = df.loc[mask]\n",
    "    filtered_df.append(df_aux)"
   ]
  },
  {
   "cell_type": "code",
   "execution_count": 83,
   "metadata": {},
   "outputs": [
    {
     "data": {
      "text/plain": [
       "list"
      ]
     },
     "execution_count": 83,
     "metadata": {},
     "output_type": "execute_result"
    }
   ],
   "source": [
    "type(filtered_df)"
   ]
  },
  {
   "cell_type": "code",
   "execution_count": 84,
   "metadata": {},
   "outputs": [],
   "source": [
    "df_01 = filtered_df[0][['Timestamp']].copy()\n",
    "df_01['Temperatura'] = filtered_df[0][['Value']].copy()\n",
    "df_01['TemperaturaSP'] = filtered_df[1][['Value']].copy()\n",
    "df_01['Compressor'] = filtered_df[2][['Value']].copy()\n",
    "df_01['Ventilacao'] = filtered_df[3][['Value']].copy()"
   ]
  },
  {
   "cell_type": "code",
   "execution_count": 85,
   "metadata": {},
   "outputs": [
    {
     "data": {
      "text/html": [
       "<div>\n",
       "<style scoped>\n",
       "    .dataframe tbody tr th:only-of-type {\n",
       "        vertical-align: middle;\n",
       "    }\n",
       "\n",
       "    .dataframe tbody tr th {\n",
       "        vertical-align: top;\n",
       "    }\n",
       "\n",
       "    .dataframe thead th {\n",
       "        text-align: right;\n",
       "    }\n",
       "</style>\n",
       "<table border=\"1\" class=\"dataframe\">\n",
       "  <thead>\n",
       "    <tr style=\"text-align: right;\">\n",
       "      <th></th>\n",
       "      <th>Temperatura</th>\n",
       "      <th>TemperaturaSP</th>\n",
       "      <th>Compressor</th>\n",
       "      <th>Ventilacao</th>\n",
       "    </tr>\n",
       "  </thead>\n",
       "  <tbody>\n",
       "    <tr>\n",
       "      <th>count</th>\n",
       "      <td>290.000000</td>\n",
       "      <td>177.000000</td>\n",
       "      <td>183.000000</td>\n",
       "      <td>192.000000</td>\n",
       "    </tr>\n",
       "    <tr>\n",
       "      <th>mean</th>\n",
       "      <td>25.593767</td>\n",
       "      <td>25.359320</td>\n",
       "      <td>0.158470</td>\n",
       "      <td>0.182292</td>\n",
       "    </tr>\n",
       "    <tr>\n",
       "      <th>std</th>\n",
       "      <td>0.463364</td>\n",
       "      <td>0.399766</td>\n",
       "      <td>0.366183</td>\n",
       "      <td>0.387094</td>\n",
       "    </tr>\n",
       "    <tr>\n",
       "      <th>min</th>\n",
       "      <td>24.387035</td>\n",
       "      <td>24.700001</td>\n",
       "      <td>0.000000</td>\n",
       "      <td>0.000000</td>\n",
       "    </tr>\n",
       "    <tr>\n",
       "      <th>25%</th>\n",
       "      <td>25.394437</td>\n",
       "      <td>25.000000</td>\n",
       "      <td>0.000000</td>\n",
       "      <td>0.000000</td>\n",
       "    </tr>\n",
       "    <tr>\n",
       "      <th>50%</th>\n",
       "      <td>25.666804</td>\n",
       "      <td>25.400000</td>\n",
       "      <td>0.000000</td>\n",
       "      <td>0.000000</td>\n",
       "    </tr>\n",
       "    <tr>\n",
       "      <th>75%</th>\n",
       "      <td>25.779814</td>\n",
       "      <td>25.799999</td>\n",
       "      <td>0.000000</td>\n",
       "      <td>0.000000</td>\n",
       "    </tr>\n",
       "    <tr>\n",
       "      <th>max</th>\n",
       "      <td>27.354706</td>\n",
       "      <td>25.799999</td>\n",
       "      <td>1.000000</td>\n",
       "      <td>1.000000</td>\n",
       "    </tr>\n",
       "  </tbody>\n",
       "</table>\n",
       "</div>"
      ],
      "text/plain": [
       "       Temperatura  TemperaturaSP  Compressor  Ventilacao\n",
       "count   290.000000     177.000000  183.000000  192.000000\n",
       "mean     25.593767      25.359320    0.158470    0.182292\n",
       "std       0.463364       0.399766    0.366183    0.387094\n",
       "min      24.387035      24.700001    0.000000    0.000000\n",
       "25%      25.394437      25.000000    0.000000    0.000000\n",
       "50%      25.666804      25.400000    0.000000    0.000000\n",
       "75%      25.779814      25.799999    0.000000    0.000000\n",
       "max      27.354706      25.799999    1.000000    1.000000"
      ]
     },
     "execution_count": 85,
     "metadata": {},
     "output_type": "execute_result"
    }
   ],
   "source": [
    "df_01.describe()"
   ]
  },
  {
   "cell_type": "markdown",
   "metadata": {},
   "source": [
    "#### Classificação por faixas de conforto térmico\n",
    "* Dentro da faixa -> temperatuas entre 24.5° e 25.5°\n",
    "* Acima da faixa -> temperatuas maiores que 25.5°\n",
    "* Abaixo da faixa -> temperatuas menores que 24.5°"
   ]
  },
  {
   "cell_type": "code",
   "execution_count": 86,
   "metadata": {},
   "outputs": [],
   "source": [
    "def conforto(a):\n",
    "    if a>=24.5 and a<=25.5:\n",
    "        return 'dentro'\n",
    "    if a<24.5:\n",
    "        return 'abaixo'\n",
    "    else:\n",
    "        return 'acima'"
   ]
  },
  {
   "cell_type": "code",
   "execution_count": 87,
   "metadata": {},
   "outputs": [],
   "source": [
    "df_01['conforto_termico'] = df_01.Temperatura.apply(conforto)"
   ]
  },
  {
   "cell_type": "code",
   "execution_count": 88,
   "metadata": {},
   "outputs": [
    {
     "data": {
      "text/html": [
       "<div>\n",
       "<style scoped>\n",
       "    .dataframe tbody tr th:only-of-type {\n",
       "        vertical-align: middle;\n",
       "    }\n",
       "\n",
       "    .dataframe tbody tr th {\n",
       "        vertical-align: top;\n",
       "    }\n",
       "\n",
       "    .dataframe thead th {\n",
       "        text-align: right;\n",
       "    }\n",
       "</style>\n",
       "<table border=\"1\" class=\"dataframe\">\n",
       "  <thead>\n",
       "    <tr style=\"text-align: right;\">\n",
       "      <th></th>\n",
       "      <th>Timestamp</th>\n",
       "      <th>Temperatura</th>\n",
       "      <th>TemperaturaSP</th>\n",
       "      <th>Compressor</th>\n",
       "      <th>Ventilacao</th>\n",
       "      <th>conforto_termico</th>\n",
       "    </tr>\n",
       "  </thead>\n",
       "  <tbody>\n",
       "    <tr>\n",
       "      <th>48</th>\n",
       "      <td>2018-09-24 08:00:00-03:00</td>\n",
       "      <td>25.141575</td>\n",
       "      <td>NaN</td>\n",
       "      <td>NaN</td>\n",
       "      <td>NaN</td>\n",
       "      <td>dentro</td>\n",
       "    </tr>\n",
       "    <tr>\n",
       "      <th>49</th>\n",
       "      <td>2018-09-24 08:10:00-03:00</td>\n",
       "      <td>25.142132</td>\n",
       "      <td>NaN</td>\n",
       "      <td>NaN</td>\n",
       "      <td>NaN</td>\n",
       "      <td>dentro</td>\n",
       "    </tr>\n",
       "    <tr>\n",
       "      <th>50</th>\n",
       "      <td>2018-09-24 08:20:00-03:00</td>\n",
       "      <td>25.175270</td>\n",
       "      <td>NaN</td>\n",
       "      <td>NaN</td>\n",
       "      <td>NaN</td>\n",
       "      <td>dentro</td>\n",
       "    </tr>\n",
       "    <tr>\n",
       "      <th>51</th>\n",
       "      <td>2018-09-24 08:30:00-03:00</td>\n",
       "      <td>25.260233</td>\n",
       "      <td>NaN</td>\n",
       "      <td>NaN</td>\n",
       "      <td>NaN</td>\n",
       "      <td>dentro</td>\n",
       "    </tr>\n",
       "    <tr>\n",
       "      <th>52</th>\n",
       "      <td>2018-09-24 08:40:00-03:00</td>\n",
       "      <td>25.298717</td>\n",
       "      <td>NaN</td>\n",
       "      <td>NaN</td>\n",
       "      <td>NaN</td>\n",
       "      <td>dentro</td>\n",
       "    </tr>\n",
       "  </tbody>\n",
       "</table>\n",
       "</div>"
      ],
      "text/plain": [
       "                   Timestamp  Temperatura  TemperaturaSP  Compressor  \\\n",
       "48 2018-09-24 08:00:00-03:00    25.141575            NaN         NaN   \n",
       "49 2018-09-24 08:10:00-03:00    25.142132            NaN         NaN   \n",
       "50 2018-09-24 08:20:00-03:00    25.175270            NaN         NaN   \n",
       "51 2018-09-24 08:30:00-03:00    25.260233            NaN         NaN   \n",
       "52 2018-09-24 08:40:00-03:00    25.298717            NaN         NaN   \n",
       "\n",
       "    Ventilacao conforto_termico  \n",
       "48         NaN           dentro  \n",
       "49         NaN           dentro  \n",
       "50         NaN           dentro  \n",
       "51         NaN           dentro  \n",
       "52         NaN           dentro  "
      ]
     },
     "execution_count": 88,
     "metadata": {},
     "output_type": "execute_result"
    }
   ],
   "source": [
    "df_01.head()"
   ]
  },
  {
   "cell_type": "code",
   "execution_count": 89,
   "metadata": {},
   "outputs": [
    {
     "data": {
      "text/html": [
       "<div>\n",
       "<style scoped>\n",
       "    .dataframe tbody tr th:only-of-type {\n",
       "        vertical-align: middle;\n",
       "    }\n",
       "\n",
       "    .dataframe tbody tr th {\n",
       "        vertical-align: top;\n",
       "    }\n",
       "\n",
       "    .dataframe thead th {\n",
       "        text-align: right;\n",
       "    }\n",
       "</style>\n",
       "<table border=\"1\" class=\"dataframe\">\n",
       "  <thead>\n",
       "    <tr style=\"text-align: right;\">\n",
       "      <th></th>\n",
       "      <th>Timestamp</th>\n",
       "      <th>Temperatura</th>\n",
       "      <th>TemperaturaSP</th>\n",
       "      <th>Compressor</th>\n",
       "      <th>Ventilacao</th>\n",
       "      <th>conforto_termico</th>\n",
       "    </tr>\n",
       "  </thead>\n",
       "  <tbody>\n",
       "    <tr>\n",
       "      <th>count</th>\n",
       "      <td>290</td>\n",
       "      <td>290.000000</td>\n",
       "      <td>177.000000</td>\n",
       "      <td>183.000000</td>\n",
       "      <td>192.000000</td>\n",
       "      <td>290</td>\n",
       "    </tr>\n",
       "    <tr>\n",
       "      <th>unique</th>\n",
       "      <td>290</td>\n",
       "      <td>NaN</td>\n",
       "      <td>NaN</td>\n",
       "      <td>NaN</td>\n",
       "      <td>NaN</td>\n",
       "      <td>3</td>\n",
       "    </tr>\n",
       "    <tr>\n",
       "      <th>top</th>\n",
       "      <td>2018-09-28 10:40:00-03:00</td>\n",
       "      <td>NaN</td>\n",
       "      <td>NaN</td>\n",
       "      <td>NaN</td>\n",
       "      <td>NaN</td>\n",
       "      <td>acima</td>\n",
       "    </tr>\n",
       "    <tr>\n",
       "      <th>freq</th>\n",
       "      <td>1</td>\n",
       "      <td>NaN</td>\n",
       "      <td>NaN</td>\n",
       "      <td>NaN</td>\n",
       "      <td>NaN</td>\n",
       "      <td>192</td>\n",
       "    </tr>\n",
       "    <tr>\n",
       "      <th>mean</th>\n",
       "      <td>NaN</td>\n",
       "      <td>25.593767</td>\n",
       "      <td>25.359320</td>\n",
       "      <td>0.158470</td>\n",
       "      <td>0.182292</td>\n",
       "      <td>NaN</td>\n",
       "    </tr>\n",
       "    <tr>\n",
       "      <th>std</th>\n",
       "      <td>NaN</td>\n",
       "      <td>0.463364</td>\n",
       "      <td>0.399766</td>\n",
       "      <td>0.366183</td>\n",
       "      <td>0.387094</td>\n",
       "      <td>NaN</td>\n",
       "    </tr>\n",
       "    <tr>\n",
       "      <th>min</th>\n",
       "      <td>NaN</td>\n",
       "      <td>24.387035</td>\n",
       "      <td>24.700001</td>\n",
       "      <td>0.000000</td>\n",
       "      <td>0.000000</td>\n",
       "      <td>NaN</td>\n",
       "    </tr>\n",
       "    <tr>\n",
       "      <th>25%</th>\n",
       "      <td>NaN</td>\n",
       "      <td>25.394437</td>\n",
       "      <td>25.000000</td>\n",
       "      <td>0.000000</td>\n",
       "      <td>0.000000</td>\n",
       "      <td>NaN</td>\n",
       "    </tr>\n",
       "    <tr>\n",
       "      <th>50%</th>\n",
       "      <td>NaN</td>\n",
       "      <td>25.666804</td>\n",
       "      <td>25.400000</td>\n",
       "      <td>0.000000</td>\n",
       "      <td>0.000000</td>\n",
       "      <td>NaN</td>\n",
       "    </tr>\n",
       "    <tr>\n",
       "      <th>75%</th>\n",
       "      <td>NaN</td>\n",
       "      <td>25.779814</td>\n",
       "      <td>25.799999</td>\n",
       "      <td>0.000000</td>\n",
       "      <td>0.000000</td>\n",
       "      <td>NaN</td>\n",
       "    </tr>\n",
       "    <tr>\n",
       "      <th>max</th>\n",
       "      <td>NaN</td>\n",
       "      <td>27.354706</td>\n",
       "      <td>25.799999</td>\n",
       "      <td>1.000000</td>\n",
       "      <td>1.000000</td>\n",
       "      <td>NaN</td>\n",
       "    </tr>\n",
       "  </tbody>\n",
       "</table>\n",
       "</div>"
      ],
      "text/plain": [
       "                        Timestamp  Temperatura  TemperaturaSP  Compressor  \\\n",
       "count                         290   290.000000     177.000000  183.000000   \n",
       "unique                        290          NaN            NaN         NaN   \n",
       "top     2018-09-28 10:40:00-03:00          NaN            NaN         NaN   \n",
       "freq                            1          NaN            NaN         NaN   \n",
       "mean                          NaN    25.593767      25.359320    0.158470   \n",
       "std                           NaN     0.463364       0.399766    0.366183   \n",
       "min                           NaN    24.387035      24.700001    0.000000   \n",
       "25%                           NaN    25.394437      25.000000    0.000000   \n",
       "50%                           NaN    25.666804      25.400000    0.000000   \n",
       "75%                           NaN    25.779814      25.799999    0.000000   \n",
       "max                           NaN    27.354706      25.799999    1.000000   \n",
       "\n",
       "        Ventilacao conforto_termico  \n",
       "count   192.000000              290  \n",
       "unique         NaN                3  \n",
       "top            NaN            acima  \n",
       "freq           NaN              192  \n",
       "mean      0.182292              NaN  \n",
       "std       0.387094              NaN  \n",
       "min       0.000000              NaN  \n",
       "25%       0.000000              NaN  \n",
       "50%       0.000000              NaN  \n",
       "75%       0.000000              NaN  \n",
       "max       1.000000              NaN  "
      ]
     },
     "execution_count": 89,
     "metadata": {},
     "output_type": "execute_result"
    }
   ],
   "source": [
    "df_01.describe(include='all')"
   ]
  },
  {
   "cell_type": "code",
   "execution_count": 90,
   "metadata": {},
   "outputs": [
    {
     "data": {
      "text/html": [
       "<div>\n",
       "<style scoped>\n",
       "    .dataframe tbody tr th:only-of-type {\n",
       "        vertical-align: middle;\n",
       "    }\n",
       "\n",
       "    .dataframe tbody tr th {\n",
       "        vertical-align: top;\n",
       "    }\n",
       "\n",
       "    .dataframe thead th {\n",
       "        text-align: right;\n",
       "    }\n",
       "</style>\n",
       "<table border=\"1\" class=\"dataframe\">\n",
       "  <thead>\n",
       "    <tr style=\"text-align: right;\">\n",
       "      <th></th>\n",
       "      <th>count</th>\n",
       "      <th>max</th>\n",
       "      <th>min</th>\n",
       "    </tr>\n",
       "    <tr>\n",
       "      <th>conforto_termico</th>\n",
       "      <th></th>\n",
       "      <th></th>\n",
       "      <th></th>\n",
       "    </tr>\n",
       "  </thead>\n",
       "  <tbody>\n",
       "    <tr>\n",
       "      <th>abaixo</th>\n",
       "      <td>3</td>\n",
       "      <td>24.450279</td>\n",
       "      <td>24.387035</td>\n",
       "    </tr>\n",
       "    <tr>\n",
       "      <th>acima</th>\n",
       "      <td>192</td>\n",
       "      <td>27.354706</td>\n",
       "      <td>25.500261</td>\n",
       "    </tr>\n",
       "    <tr>\n",
       "      <th>dentro</th>\n",
       "      <td>95</td>\n",
       "      <td>25.496731</td>\n",
       "      <td>24.504059</td>\n",
       "    </tr>\n",
       "  </tbody>\n",
       "</table>\n",
       "</div>"
      ],
      "text/plain": [
       "                  count        max        min\n",
       "conforto_termico                             \n",
       "abaixo                3  24.450279  24.387035\n",
       "acima               192  27.354706  25.500261\n",
       "dentro               95  25.496731  24.504059"
      ]
     },
     "execution_count": 90,
     "metadata": {},
     "output_type": "execute_result"
    }
   ],
   "source": [
    "grouped = df_01.groupby(['conforto_termico']).Temperatura.agg(['count', 'max', 'min'])\n",
    "grouped"
   ]
  },
  {
   "cell_type": "code",
   "execution_count": 91,
   "metadata": {},
   "outputs": [],
   "source": [
    "def make_autopct(values):\n",
    "    #values -> valores enviados\n",
    "    def my_autopct(pct):\n",
    "        #pct -> %\n",
    "        total = sum(values)\n",
    "        val = int(round(pct*total/100.0))\n",
    "        return '{p:.2f}%\\n({v:d})'.format(p=pct,v=val)\n",
    "    return my_autopct"
   ]
  },
  {
   "cell_type": "code",
   "execution_count": 92,
   "metadata": {},
   "outputs": [],
   "source": [
    "colors = [\"#103547\", \"#296e8e\", \"#59a1c0\", \"#4F5559\", \"#7B858A\", \"#323531\"]"
   ]
  },
  {
   "cell_type": "code",
   "execution_count": 93,
   "metadata": {},
   "outputs": [
    {
     "data": {
      "text/plain": [
       "(-1.25, 1.25, -1.25, 1.25)"
      ]
     },
     "execution_count": 93,
     "metadata": {},
     "output_type": "execute_result"
    },
    {
     "data": {
      "image/png": "[encoded data removed]",
      "text/plain": [
       "<Figure size 432x288 with 1 Axes>"
      ]
     },
     "metadata": {},
     "output_type": "display_data"
    }
   ],
   "source": [
    "##plt.close()\n",
    "\n",
    "sub_plot = df_01.groupby(['conforto_termico']).Temperatura.count().plot(\n",
    "    kind='pie',  \n",
    "    autopct=make_autopct(grouped['count']),\n",
    "    colors=colors,\n",
    "    textprops=dict(color=\"black\", size= 20)\n",
    ")\n",
    "sub_plot.set_title('Conforto Térmico', size=20, color='white', weight=\"bold\")\n",
    "plt.axis('off')"
   ]
  },
  {
   "cell_type": "code",
   "execution_count": 94,
   "metadata": {},
   "outputs": [
    {
     "data": {
      "text/html": [
       "<div>\n",
       "<style scoped>\n",
       "    .dataframe tbody tr th:only-of-type {\n",
       "        vertical-align: middle;\n",
       "    }\n",
       "\n",
       "    .dataframe tbody tr th {\n",
       "        vertical-align: top;\n",
       "    }\n",
       "\n",
       "    .dataframe thead th {\n",
       "        text-align: right;\n",
       "    }\n",
       "</style>\n",
       "<table border=\"1\" class=\"dataframe\">\n",
       "  <thead>\n",
       "    <tr style=\"text-align: right;\">\n",
       "      <th></th>\n",
       "      <th>conforto_termico</th>\n",
       "      <th>Compressor</th>\n",
       "      <th>count</th>\n",
       "    </tr>\n",
       "  </thead>\n",
       "  <tbody>\n",
       "    <tr>\n",
       "      <th>0</th>\n",
       "      <td>abaixo</td>\n",
       "      <td>0.0</td>\n",
       "      <td>2</td>\n",
       "    </tr>\n",
       "    <tr>\n",
       "      <th>1</th>\n",
       "      <td>abaixo</td>\n",
       "      <td>1.0</td>\n",
       "      <td>1</td>\n",
       "    </tr>\n",
       "    <tr>\n",
       "      <th>2</th>\n",
       "      <td>acima</td>\n",
       "      <td>0.0</td>\n",
       "      <td>88</td>\n",
       "    </tr>\n",
       "    <tr>\n",
       "      <th>3</th>\n",
       "      <td>acima</td>\n",
       "      <td>1.0</td>\n",
       "      <td>8</td>\n",
       "    </tr>\n",
       "    <tr>\n",
       "      <th>4</th>\n",
       "      <td>dentro</td>\n",
       "      <td>0.0</td>\n",
       "      <td>64</td>\n",
       "    </tr>\n",
       "    <tr>\n",
       "      <th>5</th>\n",
       "      <td>dentro</td>\n",
       "      <td>1.0</td>\n",
       "      <td>20</td>\n",
       "    </tr>\n",
       "  </tbody>\n",
       "</table>\n",
       "</div>"
      ],
      "text/plain": [
       "  conforto_termico  Compressor  count\n",
       "0           abaixo         0.0      2\n",
       "1           abaixo         1.0      1\n",
       "2            acima         0.0     88\n",
       "3            acima         1.0      8\n",
       "4           dentro         0.0     64\n",
       "5           dentro         1.0     20"
      ]
     },
     "execution_count": 94,
     "metadata": {},
     "output_type": "execute_result"
    }
   ],
   "source": [
    "grouped_01 = df_01.groupby(['conforto_termico', 'Compressor']).Compressor.agg(['count']).reset_index()\n",
    "grouped_01"
   ]
  },
  {
   "cell_type": "code",
   "execution_count": 73,
   "metadata": {},
   "outputs": [
    {
     "data": {
      "text/plain": [
       "3"
      ]
     },
     "execution_count": 73,
     "metadata": {},
     "output_type": "execute_result"
    }
   ],
   "source": [
    "grouped_01.loc[grouped_01.conforto_termico=='abaixo']['count'].sum()"
   ]
  },
  {
   "cell_type": "code",
   "execution_count": 74,
   "metadata": {},
   "outputs": [
    {
     "data": {
      "text/plain": [
       "['abaixo', 'abaixo', 'acima', 'acima', 'dentro', 'dentro']"
      ]
     },
     "execution_count": 74,
     "metadata": {},
     "output_type": "execute_result"
    }
   ],
   "source": [
    "grouped_01.conforto_termico.tolist()"
   ]
  },
  {
   "cell_type": "code",
   "execution_count": 75,
   "metadata": {},
   "outputs": [
    {
     "data": {
      "text/plain": [
       "[2, 1, 88, 8, 64, 20]"
      ]
     },
     "execution_count": 75,
     "metadata": {},
     "output_type": "execute_result"
    }
   ],
   "source": [
    "grouped_01['count'].tolist()"
   ]
  },
  {
   "cell_type": "code",
   "execution_count": 76,
   "metadata": {},
   "outputs": [],
   "source": [
    "def make_autopct02(values):\n",
    "    #values -> valores enviados\n",
    "    def my_autopct(pct):\n",
    "        #pct -> %\n",
    "        total = sum(values)\n",
    "        val = int(round(pct*total/100.0))\n",
    "        return '{p:.2f}%\\n({v:d})'.format(p=pct,v=val)\n",
    "    return my_autopct"
   ]
  },
  {
   "cell_type": "code",
   "execution_count": 77,
   "metadata": {},
   "outputs": [],
   "source": [
    "labels = ['abaixo', 'acima', 'dentro']\n",
    "colors = [\"#FF7033\", \"#005885\", \"#FF3300\"]\n",
    "\n",
    "acima_sum = grouped_01.loc[grouped_01.conforto_termico=='abaixo']['count'].sum()\n",
    "abaixo_sum = grouped_01.loc[grouped_01.conforto_termico=='acima']['count'].sum()\n",
    "dentro_sum = grouped_01.loc[grouped_01.conforto_termico=='dentro']['count'].sum()\n",
    "\n",
    "sizes = [acima_sum, abaixo_sum, dentro_sum]\n",
    "\n",
    "labels_compressor = grouped_01.conforto_termico.tolist()\n",
    "sizes_compressor = grouped_01['count'].tolist()\n",
    "\n",
    "labels_legend = ['Desligado', 'Ligado'] \n",
    "colors_compressor = ['#FFA166', '#0195D0']\n",
    "\n",
    "explode = (0.2,0.2,0.2) \n",
    "explode_compressor = (0.1,0.65,0.1,0.65,0.1,0.65)"
   ]
  },
  {
   "cell_type": "code",
   "execution_count": 78,
   "metadata": {},
   "outputs": [
    {
     "data": {
      "image/png": "[encoded data removed]",
      "text/plain": [
       "<Figure size 720x720 with 1 Axes>"
      ]
     },
     "metadata": {},
     "output_type": "display_data"
    }
   ],
   "source": [
    "fig, ax = plt.subplots(figsize = (10,10),subplot_kw=dict(aspect=\"equal\"))\n",
    "\n",
    "#Plot\n",
    "plt.pie(sizes, labels=labels, colors=colors, \n",
    "        startangle=90,\n",
    "        frame=True, \n",
    "        explode=explode,\n",
    "        radius=4,  \n",
    "        autopct=make_autopct02(grouped_01['count']),\n",
    "        textprops=dict(size= 16,weight='bold'),\n",
    "        pctdistance=0.85,\n",
    "        labeldistance=1.1,\n",
    "       )\n",
    "\n",
    "wedges, texts, autotexts = plt.pie(sizes_compressor, \n",
    "       # labels=labels_comp,\n",
    "        colors=colors_compressor,\n",
    "        startangle=90, \n",
    "        explode=explode_compressor,\n",
    "        radius=3, \n",
    "        autopct=make_autopct02(grouped_01['count'] ),\n",
    "        pctdistance=0.65,\n",
    "        textprops=dict(size= 16, weight='bold'),\n",
    "        #labeldistance=0.6,\n",
    "        #edgeprops=dict(width=0.5)\n",
    "       )\n",
    "\n",
    "ax.legend(wedges,labels_legend, \n",
    "          title = 'Status Compressor',\n",
    "          title_fontsize= 18,\n",
    "          loc=\"lower right\",\n",
    "          facecolor='#37474F',\n",
    "          edgecolor='#37474F',\n",
    "          fontsize=16 ,\n",
    "         )\n",
    "\n",
    "# seta todas as fontes com branco\n",
    "def myfunc(x):\n",
    "    return hasattr(x, 'set_color') and not hasattr(x, 'set_facecolor')\n",
    "for o in fig.findobj(myfunc):\n",
    "    o.set_color('white')\n",
    "\n",
    "centre_circle = plt.Circle((0,0),1.5,color='black', fc='#37474F',linewidth=0)\n",
    "fig = plt.gcf()\n",
    "fig.gca().add_artist(centre_circle)\n",
    " \n",
    "\n",
    "ax.set_title(\"Conforto Térmico\", fontsize=25, color='white')\n",
    "\n",
    "fig.set_facecolor('#37474F')\n",
    "\n",
    "plt.axis('equal')\n",
    "plt.tight_layout()\n",
    "plt.show()"
   ]
  },
  {
   "cell_type": "code",
   "execution_count": 79,
   "metadata": {},
   "outputs": [],
   "source": [
    "from io import BytesIO\n",
    "import mimetypes\n",
    "import time"
   ]
  },
  {
   "cell_type": "code",
   "execution_count": 80,
   "metadata": {},
   "outputs": [],
   "source": [
    "#cria conexao\n",
    "epmConn = epm.EpmConnection('http://localhost:44333', 'http://localhost:44332', 'sa', 'Elipse21')\n",
    "sio = BytesIO() \n",
    "fig.savefig(sio, format=\"png\", facecolor='#37474F') \n",
    "\n",
    "epResourceManager = epmConn.getPortalResourcesManager()\n",
    "reportPath = epResourceManager.getResource(u'webinar')\n",
    "resource = reportPath.upload('pie_chart_current.png', sio,\n",
    "                                 'Figura enviada jupyter.',\n",
    "                                 mimetypes.types_map['.png'], overrideFile=True)\n",
    "\n",
    "path = 'update_img'\n",
    "bv = epmConn.getDataObjects(path)\n",
    "wResult = bv[path].write(0, datetime.now(), 0 )\n",
    "time.sleep(2)\n",
    "wResult = bv[path].write(1, datetime.now(), 0 )\n",
    "\n",
    "epmConn.close()"
   ]
  },
  {
   "cell_type": "code",
   "execution_count": null,
   "metadata": {},
   "outputs": [],
   "source": []
  }
 ],
 "metadata": {
  "kernelspec": {
   "display_name": "Python 3",
   "language": "python",
   "name": "python3"
  },
  "language_info": {
   "codemirror_mode": {
    "name": "ipython",
    "version": 3
   },
   "file_extension": ".py",
   "mimetype": "text/x-python",
   "name": "python",
   "nbconvert_exporter": "python",
   "pygments_lexer": "ipython3",
   "version": "3.6.7"
  }
 },
 "nbformat": 4,
 "nbformat_minor": 2
}
